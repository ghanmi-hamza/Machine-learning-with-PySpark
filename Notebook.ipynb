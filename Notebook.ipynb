{
  "nbformat": 4,
  "nbformat_minor": 0,
  "metadata": {
    "colab": {
      "name": "pfe.ipynb",
      "provenance": [],
      "collapsed_sections": [],
      "toc_visible": true
    },
    "kernelspec": {
      "name": "python3",
      "display_name": "Python 3"
    }
  },
  "cells": [
    {
      "cell_type": "code",
      "metadata": {
        "id": "0ScAy5lrrJ8S",
        "colab_type": "code",
        "colab": {
          "base_uri": "https://localhost:8080/",
          "height": 238
        },
        "outputId": "5124ba86-af6d-43d4-cdfa-84ae97f64d27"
      },
      "source": [
        "#install spark and java\n",
        "!apt-get install openjdk-8-jdk-headless -qq > /dev/null\n",
        "!wget -q https://www-us.apache.org/dist/spark/spark-3.0.0-preview2/spark-3.0.0-preview2-bin-hadoop3.2.tgz\n",
        "#!tar -xvf spark-3.0.0-preview-bin-hadoop3.2.tgz\n",
        "!pip install -q findspark\n",
        "!tar xf spark-3.0.0-preview2-bin-hadoop3.2.tgz\n",
        "!pip install pyspark\n",
        "#set the PATH \n",
        "import os\n",
        "os.environ[\"JAVA_HOME\"] = \"/usr/lib/jvm/java-8-openjdk-amd64\"\n",
        "os.environ[\"SPARK_HOME\"] = \"/content/spark-3.0.0-preview2-bin-hadoop3.2\"\n",
        "import findspark\n",
        "findspark.init()"
      ],
      "execution_count": null,
      "outputs": [
        {
          "output_type": "stream",
          "text": [
            "Collecting pyspark\n",
            "\u001b[?25l  Downloading https://files.pythonhosted.org/packages/e9/e4/5c15ab8d354c4e3528510821865e6748209a9b0ff6a1788f4cd36cc2a5dc/pyspark-2.4.6.tar.gz (218.4MB)\n",
            "\u001b[K     |████████████████████████████████| 218.4MB 61kB/s \n",
            "\u001b[?25hCollecting py4j==0.10.7\n",
            "\u001b[?25l  Downloading https://files.pythonhosted.org/packages/e3/53/c737818eb9a7dc32a7cd4f1396e787bd94200c3997c72c1dbe028587bd76/py4j-0.10.7-py2.py3-none-any.whl (197kB)\n",
            "\u001b[K     |████████████████████████████████| 204kB 44.6MB/s \n",
            "\u001b[?25hBuilding wheels for collected packages: pyspark\n",
            "  Building wheel for pyspark (setup.py) ... \u001b[?25l\u001b[?25hdone\n",
            "  Created wheel for pyspark: filename=pyspark-2.4.6-py2.py3-none-any.whl size=218814406 sha256=fb7c25dcce431fd51f4da031f5759e2dbd14bfa4fdef51f737fd7ee50df32ee1\n",
            "  Stored in directory: /root/.cache/pip/wheels/1e/5e/6a/17e906c94ec7246f260330a66e44a06a0809033ba2738a74a8\n",
            "Successfully built pyspark\n",
            "Installing collected packages: py4j, pyspark\n",
            "Successfully installed py4j-0.10.7 pyspark-2.4.6\n"
          ],
          "name": "stdout"
        }
      ]
    },
    {
      "cell_type": "code",
      "metadata": {
        "id": "z2gEXbfkrXnR",
        "colab_type": "code",
        "colab": {}
      },
      "source": [
        "#create a Spark Application\n",
        "from pyspark.sql import SparkSession\n",
        "my_spark = SparkSession \\\n",
        "    .builder \\\n",
        "    .appName(\"myApp\") \\\n",
        "    .getOrCreate()"
      ],
      "execution_count": null,
      "outputs": []
    },
    {
      "cell_type": "code",
      "metadata": {
        "id": "ccwWMqmprXzJ",
        "colab_type": "code",
        "colab": {}
      },
      "source": [
        "#import the necessary libries\n",
        "import pandas as pd\n",
        "from pyspark.sql.functions import isnan, when, count, col\n",
        "from pyspark.ml.feature import StringIndexer,Imputer,MinMaxScaler,VectorAssembler\n",
        "from pyspark.ml.tuning import CrossValidator,ParamGridBuilder\n",
        "from pyspark.ml.classification import DecisionTreeClassifier,RandomForestClassifier,NaiveBayes,MultilayerPerceptronClassifier,LogisticRegression,OneVsRest\n",
        "from pyspark.ml.evaluation import MulticlassClassificationEvaluator,RegressionEvaluator"
      ],
      "execution_count": null,
      "outputs": []
    },
    {
      "cell_type": "markdown",
      "metadata": {
        "id": "HueTEHD-7pLn",
        "colab_type": "text"
      },
      "source": [
        "#Keystroke_data part"
      ]
    },
    {
      "cell_type": "code",
      "metadata": {
        "id": "8m6tRtBUrX-T",
        "colab_type": "code",
        "colab": {}
      },
      "source": [
        "#read Keysroke csv file\n",
        "cc=pd.read_csv('fich.csv')\n",
        "#create keystroke dataframe with spark\n",
        "df = my_spark.createDataFrame(cc)"
      ],
      "execution_count": null,
      "outputs": []
    },
    {
      "cell_type": "code",
      "metadata": {
        "id": "kYytZdJ8tytn",
        "colab_type": "code",
        "colab": {
          "base_uri": "https://localhost:8080/",
          "height": 1000
        },
        "outputId": "9504d655-0c89-41fb-a793-e9da2f8671e0"
      },
      "source": [
        "#the stucture of our data\n",
        "df.printSchema()"
      ],
      "execution_count": null,
      "outputs": [
        {
          "output_type": "stream",
          "text": [
            "root\n",
            " |-- HoldTime 1: long (nullable = true)\n",
            " |-- HoldTime 2: long (nullable = true)\n",
            " |-- HoldTime 3: long (nullable = true)\n",
            " |-- HoldTime 4: long (nullable = true)\n",
            " |-- HoldTime 5: long (nullable = true)\n",
            " |-- HoldTime 6: long (nullable = true)\n",
            " |-- HoldTime 7: long (nullable = true)\n",
            " |-- HoldTime 8: long (nullable = true)\n",
            " |-- HoldTime 9: long (nullable = true)\n",
            " |-- HoldTime 10: long (nullable = true)\n",
            " |-- HoldTime 11: long (nullable = true)\n",
            " |-- HoldTime 12: long (nullable = true)\n",
            " |-- HoldTime 13: long (nullable = true)\n",
            " |-- HoldTime 14: long (nullable = true)\n",
            " |-- HoldTime 15: long (nullable = true)\n",
            " |-- HoldTime 16: long (nullable = true)\n",
            " |-- HoldTime 17: long (nullable = true)\n",
            " |-- HoldTime 18: long (nullable = true)\n",
            " |-- HoldTime 19: long (nullable = true)\n",
            " |-- HoldTime 20: long (nullable = true)\n",
            " |-- HoldTime 21: long (nullable = true)\n",
            " |-- HoldTime 22: long (nullable = true)\n",
            " |-- HoldTime 23: long (nullable = true)\n",
            " |-- HoldTime 24: long (nullable = true)\n",
            " |-- HoldTime 25: long (nullable = true)\n",
            " |-- HoldTime 26: long (nullable = true)\n",
            " |-- release_pressTime 1_2: long (nullable = true)\n",
            " |-- release_pressTime 1_3: long (nullable = true)\n",
            " |-- release_pressTime 1_4: long (nullable = true)\n",
            " |-- release_pressTime 2_3: long (nullable = true)\n",
            " |-- release_pressTime 2_4: long (nullable = true)\n",
            " |-- release_pressTime 2_5: long (nullable = true)\n",
            " |-- release_pressTime 3_4: long (nullable = true)\n",
            " |-- release_pressTime 3_5: long (nullable = true)\n",
            " |-- release_pressTime 3_6: long (nullable = true)\n",
            " |-- release_pressTime 4_5: long (nullable = true)\n",
            " |-- release_pressTime 4_6: long (nullable = true)\n",
            " |-- release_pressTime 4_7: long (nullable = true)\n",
            " |-- release_pressTime 5_6: long (nullable = true)\n",
            " |-- release_pressTime 5_7: long (nullable = true)\n",
            " |-- release_pressTime 5_8: long (nullable = true)\n",
            " |-- release_pressTime 6_7: long (nullable = true)\n",
            " |-- release_pressTime 6_8: long (nullable = true)\n",
            " |-- release_pressTime 6_9: long (nullable = true)\n",
            " |-- release_pressTime 7_8: long (nullable = true)\n",
            " |-- release_pressTime 7_9: long (nullable = true)\n",
            " |-- release_pressTime 7_10: long (nullable = true)\n",
            " |-- release_pressTime 8_9: long (nullable = true)\n",
            " |-- release_pressTime 8_10: long (nullable = true)\n",
            " |-- release_pressTime 8_11: long (nullable = true)\n",
            " |-- release_pressTime 9_10: long (nullable = true)\n",
            " |-- release_pressTime 9_11: long (nullable = true)\n",
            " |-- release_pressTime 9_12: long (nullable = true)\n",
            " |-- release_pressTime 10_11: long (nullable = true)\n",
            " |-- release_pressTime 10_12: long (nullable = true)\n",
            " |-- release_pressTime 10_13: long (nullable = true)\n",
            " |-- release_pressTime 11_12: long (nullable = true)\n",
            " |-- release_pressTime 11_13: long (nullable = true)\n",
            " |-- release_pressTime 11_14: long (nullable = true)\n",
            " |-- release_pressTime 12_13: long (nullable = true)\n",
            " |-- release_pressTime 12_14: long (nullable = true)\n",
            " |-- release_pressTime 12_15: long (nullable = true)\n",
            " |-- release_pressTime 13_14: long (nullable = true)\n",
            " |-- release_pressTime 13_15: long (nullable = true)\n",
            " |-- release_pressTime 13_16: long (nullable = true)\n",
            " |-- release_pressTime 14_15: long (nullable = true)\n",
            " |-- release_pressTime 14_16: long (nullable = true)\n",
            " |-- release_pressTime 14_17: long (nullable = true)\n",
            " |-- release_pressTime 15_16: long (nullable = true)\n",
            " |-- release_pressTime 15_17: long (nullable = true)\n",
            " |-- release_pressTime 15_18: long (nullable = true)\n",
            " |-- release_pressTime 16_17: long (nullable = true)\n",
            " |-- release_pressTime 16_18: long (nullable = true)\n",
            " |-- release_pressTime 16_19: long (nullable = true)\n",
            " |-- release_pressTime 17_18: long (nullable = true)\n",
            " |-- release_pressTime 17_19: long (nullable = true)\n",
            " |-- release_pressTime 17_20: long (nullable = true)\n",
            " |-- release_pressTime 18_19: long (nullable = true)\n",
            " |-- release_pressTime 18_20: long (nullable = true)\n",
            " |-- release_pressTime 18_21: long (nullable = true)\n",
            " |-- release_pressTime 19_20: long (nullable = true)\n",
            " |-- release_pressTime 19_21: long (nullable = true)\n",
            " |-- release_pressTime 19_22: long (nullable = true)\n",
            " |-- release_pressTime 20_21: long (nullable = true)\n",
            " |-- release_pressTime 20_22: long (nullable = true)\n",
            " |-- release_pressTime 20_23: long (nullable = true)\n",
            " |-- release_pressTime 21_22: long (nullable = true)\n",
            " |-- release_pressTime 21_23: long (nullable = true)\n",
            " |-- release_pressTime 21_24: long (nullable = true)\n",
            " |-- release_pressTime 22_23: long (nullable = true)\n",
            " |-- release_pressTime 22_24: long (nullable = true)\n",
            " |-- release_pressTime 22_25: long (nullable = true)\n",
            " |-- release_pressTime 23_24: long (nullable = true)\n",
            " |-- release_pressTime 23_25: long (nullable = true)\n",
            " |-- release_pressTime 23_26: long (nullable = true)\n",
            " |-- release_pressTime 24_25: long (nullable = true)\n",
            " |-- release_pressTime 24_26: long (nullable = true)\n",
            " |-- release_pressTime 25_26: long (nullable = true)\n",
            " |-- Press_ReleaseTime 1_2: long (nullable = true)\n",
            " |-- Press_ReleaseTime 1_3: long (nullable = true)\n",
            " |-- Press_ReleaseTime 1_4: long (nullable = true)\n",
            " |-- Press_ReleaseTime 2_3: long (nullable = true)\n",
            " |-- Press_ReleaseTime 2_4: long (nullable = true)\n",
            " |-- Press_ReleaseTime 2_5: long (nullable = true)\n",
            " |-- Press_ReleaseTime 3_4: long (nullable = true)\n",
            " |-- Press_ReleaseTime 3_5: long (nullable = true)\n",
            " |-- Press_ReleaseTime 3_6: long (nullable = true)\n",
            " |-- Press_ReleaseTime 4_5: long (nullable = true)\n",
            " |-- Press_ReleaseTime 4_6: long (nullable = true)\n",
            " |-- Press_ReleaseTime 4_7: long (nullable = true)\n",
            " |-- Press_ReleaseTime 5_6: long (nullable = true)\n",
            " |-- Press_ReleaseTime 5_7: long (nullable = true)\n",
            " |-- Press_ReleaseTime 5_8: long (nullable = true)\n",
            " |-- Press_ReleaseTime 6_7: long (nullable = true)\n",
            " |-- Press_ReleaseTime 6_8: long (nullable = true)\n",
            " |-- Press_ReleaseTime 6_9: long (nullable = true)\n",
            " |-- Press_ReleaseTime 7_8: long (nullable = true)\n",
            " |-- Press_ReleaseTime 7_9: long (nullable = true)\n",
            " |-- Press_ReleaseTime 7_10: long (nullable = true)\n",
            " |-- Press_ReleaseTime 8_9: long (nullable = true)\n",
            " |-- Press_ReleaseTime 8_10: long (nullable = true)\n",
            " |-- Press_ReleaseTime 8_11: long (nullable = true)\n",
            " |-- Press_ReleaseTime 9_10: long (nullable = true)\n",
            " |-- Press_ReleaseTime 9_11: long (nullable = true)\n",
            " |-- Press_ReleaseTime 9_12: long (nullable = true)\n",
            " |-- Press_ReleaseTime 10_11: long (nullable = true)\n",
            " |-- Press_ReleaseTime 10_12: long (nullable = true)\n",
            " |-- Press_ReleaseTime 10_13: long (nullable = true)\n",
            " |-- Press_ReleaseTime 11_12: long (nullable = true)\n",
            " |-- Press_ReleaseTime 11_13: long (nullable = true)\n",
            " |-- Press_ReleaseTime 11_14: long (nullable = true)\n",
            " |-- Press_ReleaseTime 12_13: long (nullable = true)\n",
            " |-- Press_ReleaseTime 12_14: long (nullable = true)\n",
            " |-- Press_ReleaseTime 12_15: long (nullable = true)\n",
            " |-- Press_ReleaseTime 13_14: long (nullable = true)\n",
            " |-- Press_ReleaseTime 13_15: long (nullable = true)\n",
            " |-- Press_ReleaseTime 13_16: long (nullable = true)\n",
            " |-- Press_ReleaseTime 14_15: long (nullable = true)\n",
            " |-- Press_ReleaseTime 14_16: long (nullable = true)\n",
            " |-- Press_ReleaseTime 14_17: long (nullable = true)\n",
            " |-- Press_ReleaseTime 15_16: long (nullable = true)\n",
            " |-- Press_ReleaseTime 15_17: long (nullable = true)\n",
            " |-- Press_ReleaseTime 15_18: long (nullable = true)\n",
            " |-- Press_ReleaseTime 16_17: long (nullable = true)\n",
            " |-- Press_ReleaseTime 16_18: long (nullable = true)\n",
            " |-- Press_ReleaseTime 16_19: long (nullable = true)\n",
            " |-- Press_ReleaseTime 17_18: long (nullable = true)\n",
            " |-- Press_ReleaseTime 17_19: long (nullable = true)\n",
            " |-- Press_ReleaseTime 17_20: long (nullable = true)\n",
            " |-- Press_ReleaseTime 18_19: long (nullable = true)\n",
            " |-- Press_ReleaseTime 18_20: long (nullable = true)\n",
            " |-- Press_ReleaseTime 18_21: long (nullable = true)\n",
            " |-- Press_ReleaseTime 19_20: long (nullable = true)\n",
            " |-- Press_ReleaseTime 19_21: long (nullable = true)\n",
            " |-- Press_ReleaseTime 19_22: long (nullable = true)\n",
            " |-- Press_ReleaseTime 20_21: long (nullable = true)\n",
            " |-- Press_ReleaseTime 20_22: long (nullable = true)\n",
            " |-- Press_ReleaseTime 20_23: long (nullable = true)\n",
            " |-- Press_ReleaseTime 21_22: long (nullable = true)\n",
            " |-- Press_ReleaseTime 21_23: long (nullable = true)\n",
            " |-- Press_ReleaseTime 21_24: long (nullable = true)\n",
            " |-- Press_ReleaseTime 22_23: long (nullable = true)\n",
            " |-- Press_ReleaseTime 22_24: long (nullable = true)\n",
            " |-- Press_ReleaseTime 22_25: long (nullable = true)\n",
            " |-- Press_ReleaseTime 23_24: long (nullable = true)\n",
            " |-- Press_ReleaseTime 23_25: long (nullable = true)\n",
            " |-- Press_ReleaseTime 23_26: long (nullable = true)\n",
            " |-- Press_ReleaseTime 24_25: long (nullable = true)\n",
            " |-- Press_ReleaseTime 24_26: long (nullable = true)\n",
            " |-- Press_ReleaseTime 25_26: long (nullable = true)\n",
            " |-- Press_PressTime 1_2: long (nullable = true)\n",
            " |-- Press_PressTime 1_3: long (nullable = true)\n",
            " |-- Press_PressTime 1_4: long (nullable = true)\n",
            " |-- Press_PressTime 2_3: long (nullable = true)\n",
            " |-- Press_PressTime 2_4: long (nullable = true)\n",
            " |-- Press_PressTime 2_5: long (nullable = true)\n",
            " |-- Press_PressTime 3_4: long (nullable = true)\n",
            " |-- Press_PressTime 3_5: long (nullable = true)\n",
            " |-- Press_PressTime 3_6: long (nullable = true)\n",
            " |-- Press_PressTime 4_5: long (nullable = true)\n",
            " |-- Press_PressTime 4_6: long (nullable = true)\n",
            " |-- Press_PressTime 4_7: long (nullable = true)\n",
            " |-- Press_PressTime 5_6: long (nullable = true)\n",
            " |-- Press_PressTime 5_7: long (nullable = true)\n",
            " |-- Press_PressTime 5_8: long (nullable = true)\n",
            " |-- Press_PressTime 6_7: long (nullable = true)\n",
            " |-- Press_PressTime 6_8: long (nullable = true)\n",
            " |-- Press_PressTime 6_9: long (nullable = true)\n",
            " |-- Press_PressTime 7_8: long (nullable = true)\n",
            " |-- Press_PressTime 7_9: long (nullable = true)\n",
            " |-- Press_PressTime 7_10: long (nullable = true)\n",
            " |-- Press_PressTime 8_9: long (nullable = true)\n",
            " |-- Press_PressTime 8_10: long (nullable = true)\n",
            " |-- Press_PressTime 8_11: long (nullable = true)\n",
            " |-- Press_PressTime 9_10: long (nullable = true)\n",
            " |-- Press_PressTime 9_11: long (nullable = true)\n",
            " |-- Press_PressTime 9_12: long (nullable = true)\n",
            " |-- Press_PressTime 10_11: long (nullable = true)\n",
            " |-- Press_PressTime 10_12: long (nullable = true)\n",
            " |-- Press_PressTime 10_13: long (nullable = true)\n",
            " |-- Press_PressTime 11_12: long (nullable = true)\n",
            " |-- Press_PressTime 11_13: long (nullable = true)\n",
            " |-- Press_PressTime 11_14: long (nullable = true)\n",
            " |-- Press_PressTime 12_13: long (nullable = true)\n",
            " |-- Press_PressTime 12_14: long (nullable = true)\n",
            " |-- Press_PressTime 12_15: long (nullable = true)\n",
            " |-- Press_PressTime 13_14: long (nullable = true)\n",
            " |-- Press_PressTime 13_15: long (nullable = true)\n",
            " |-- Press_PressTime 13_16: long (nullable = true)\n",
            " |-- Press_PressTime 14_15: long (nullable = true)\n",
            " |-- Press_PressTime 14_16: long (nullable = true)\n",
            " |-- Press_PressTime 14_17: long (nullable = true)\n",
            " |-- Press_PressTime 15_16: long (nullable = true)\n",
            " |-- Press_PressTime 15_17: long (nullable = true)\n",
            " |-- Press_PressTime 15_18: long (nullable = true)\n",
            " |-- Press_PressTime 16_17: long (nullable = true)\n",
            " |-- Press_PressTime 16_18: long (nullable = true)\n",
            " |-- Press_PressTime 16_19: long (nullable = true)\n",
            " |-- Press_PressTime 17_18: long (nullable = true)\n",
            " |-- Press_PressTime 17_19: long (nullable = true)\n",
            " |-- Press_PressTime 17_20: long (nullable = true)\n",
            " |-- Press_PressTime 18_19: long (nullable = true)\n",
            " |-- Press_PressTime 18_20: long (nullable = true)\n",
            " |-- Press_PressTime 18_21: long (nullable = true)\n",
            " |-- Press_PressTime 19_20: long (nullable = true)\n",
            " |-- Press_PressTime 19_21: long (nullable = true)\n",
            " |-- Press_PressTime 19_22: long (nullable = true)\n",
            " |-- Press_PressTime 20_21: long (nullable = true)\n",
            " |-- Press_PressTime 20_22: long (nullable = true)\n",
            " |-- Press_PressTime 20_23: long (nullable = true)\n",
            " |-- Press_PressTime 21_22: long (nullable = true)\n",
            " |-- Press_PressTime 21_23: long (nullable = true)\n",
            " |-- Press_PressTime 21_24: long (nullable = true)\n",
            " |-- Press_PressTime 22_23: long (nullable = true)\n",
            " |-- Press_PressTime 22_24: long (nullable = true)\n",
            " |-- Press_PressTime 22_25: long (nullable = true)\n",
            " |-- Press_PressTime 23_24: long (nullable = true)\n",
            " |-- Press_PressTime 23_25: long (nullable = true)\n",
            " |-- Press_PressTime 23_26: long (nullable = true)\n",
            " |-- Press_PressTime 24_25: long (nullable = true)\n",
            " |-- Press_PressTime 24_26: long (nullable = true)\n",
            " |-- Press_PressTime 25_26: long (nullable = true)\n",
            " |-- Release_ReleaseTime 1_2: long (nullable = true)\n",
            " |-- Release_ReleaseTime 1_3: long (nullable = true)\n",
            " |-- Release_ReleaseTime 1_4: long (nullable = true)\n",
            " |-- Release_ReleaseTime 2_3: long (nullable = true)\n",
            " |-- Release_ReleaseTime 2_4: long (nullable = true)\n",
            " |-- Release_ReleaseTime 2_5: long (nullable = true)\n",
            " |-- Release_ReleaseTime 3_4: long (nullable = true)\n",
            " |-- Release_ReleaseTime 3_5: long (nullable = true)\n",
            " |-- Release_ReleaseTime 3_6: long (nullable = true)\n",
            " |-- Release_ReleaseTime 4_5: long (nullable = true)\n",
            " |-- Release_ReleaseTime 4_6: long (nullable = true)\n",
            " |-- Release_ReleaseTime 4_7: long (nullable = true)\n",
            " |-- Release_ReleaseTime 5_6: long (nullable = true)\n",
            " |-- Release_ReleaseTime 5_7: long (nullable = true)\n",
            " |-- Release_ReleaseTime 5_8: long (nullable = true)\n",
            " |-- Release_ReleaseTime 6_7: long (nullable = true)\n",
            " |-- Release_ReleaseTime 6_8: long (nullable = true)\n",
            " |-- Release_ReleaseTime 6_9: long (nullable = true)\n",
            " |-- Release_ReleaseTime 7_8: long (nullable = true)\n",
            " |-- Release_ReleaseTime 7_9: long (nullable = true)\n",
            " |-- Release_ReleaseTime 7_10: long (nullable = true)\n",
            " |-- Release_ReleaseTime 8_9: long (nullable = true)\n",
            " |-- Release_ReleaseTime 8_10: long (nullable = true)\n",
            " |-- Release_ReleaseTime 8_11: long (nullable = true)\n",
            " |-- Release_ReleaseTime 9_10: long (nullable = true)\n",
            " |-- Release_ReleaseTime 9_11: long (nullable = true)\n",
            " |-- Release_ReleaseTime 9_12: long (nullable = true)\n",
            " |-- Release_ReleaseTime 10_11: long (nullable = true)\n",
            " |-- Release_ReleaseTime 10_12: long (nullable = true)\n",
            " |-- Release_ReleaseTime 10_13: long (nullable = true)\n",
            " |-- Release_ReleaseTime 11_12: long (nullable = true)\n",
            " |-- Release_ReleaseTime 11_13: long (nullable = true)\n",
            " |-- Release_ReleaseTime 11_14: long (nullable = true)\n",
            " |-- Release_ReleaseTime 12_13: long (nullable = true)\n",
            " |-- Release_ReleaseTime 12_14: long (nullable = true)\n",
            " |-- Release_ReleaseTime 12_15: long (nullable = true)\n",
            " |-- Release_ReleaseTime 13_14: long (nullable = true)\n",
            " |-- Release_ReleaseTime 13_15: long (nullable = true)\n",
            " |-- Release_ReleaseTime 13_16: long (nullable = true)\n",
            " |-- Release_ReleaseTime 14_15: long (nullable = true)\n",
            " |-- Release_ReleaseTime 14_16: long (nullable = true)\n",
            " |-- Release_ReleaseTime 14_17: long (nullable = true)\n",
            " |-- Release_ReleaseTime 15_16: long (nullable = true)\n",
            " |-- Release_ReleaseTime 15_17: long (nullable = true)\n",
            " |-- Release_ReleaseTime 15_18: long (nullable = true)\n",
            " |-- Release_ReleaseTime 16_17: long (nullable = true)\n",
            " |-- Release_ReleaseTime 16_18: long (nullable = true)\n",
            " |-- Release_ReleaseTime 16_19: long (nullable = true)\n",
            " |-- Release_ReleaseTime 17_18: long (nullable = true)\n",
            " |-- Release_ReleaseTime 17_19: long (nullable = true)\n",
            " |-- Release_ReleaseTime 17_20: long (nullable = true)\n",
            " |-- Release_ReleaseTime 18_19: long (nullable = true)\n",
            " |-- Release_ReleaseTime 18_20: long (nullable = true)\n",
            " |-- Release_ReleaseTime 18_21: long (nullable = true)\n",
            " |-- Release_ReleaseTime 19_20: long (nullable = true)\n",
            " |-- Release_ReleaseTime 19_21: long (nullable = true)\n",
            " |-- Release_ReleaseTime 19_22: long (nullable = true)\n",
            " |-- Release_ReleaseTime 20_21: long (nullable = true)\n",
            " |-- Release_ReleaseTime 20_22: long (nullable = true)\n",
            " |-- Release_ReleaseTime 20_23: long (nullable = true)\n",
            " |-- Release_ReleaseTime 21_22: long (nullable = true)\n",
            " |-- Release_ReleaseTime 21_23: long (nullable = true)\n",
            " |-- Release_ReleaseTime 21_24: long (nullable = true)\n",
            " |-- Release_ReleaseTime 22_23: long (nullable = true)\n",
            " |-- Release_ReleaseTime 22_24: long (nullable = true)\n",
            " |-- Release_ReleaseTime 22_25: long (nullable = true)\n",
            " |-- Release_ReleaseTime 23_24: long (nullable = true)\n",
            " |-- Release_ReleaseTime 23_25: long (nullable = true)\n",
            " |-- Release_ReleaseTime 23_26: long (nullable = true)\n",
            " |-- Release_ReleaseTime 24_25: long (nullable = true)\n",
            " |-- Release_ReleaseTime 24_26: long (nullable = true)\n",
            " |-- Release_ReleaseTime 25_26: long (nullable = true)\n",
            " |-- Size 1: double (nullable = true)\n",
            " |-- Size 2: double (nullable = true)\n",
            " |-- Size 3: double (nullable = true)\n",
            " |-- Size 4: double (nullable = true)\n",
            " |-- Size 5: double (nullable = true)\n",
            " |-- Size 6: double (nullable = true)\n",
            " |-- Size 7: double (nullable = true)\n",
            " |-- Size 8: double (nullable = true)\n",
            " |-- Size 9: double (nullable = true)\n",
            " |-- Size 10: double (nullable = true)\n",
            " |-- Size 11: double (nullable = true)\n",
            " |-- Size 12: double (nullable = true)\n",
            " |-- Size 13: double (nullable = true)\n",
            " |-- Size 14: double (nullable = true)\n",
            " |-- Size 15: double (nullable = true)\n",
            " |-- Size 16: double (nullable = true)\n",
            " |-- Size 17: double (nullable = true)\n",
            " |-- Size 18: double (nullable = true)\n",
            " |-- Size 19: double (nullable = true)\n",
            " |-- Size 20: double (nullable = true)\n",
            " |-- Size 21: double (nullable = true)\n",
            " |-- Size 22: double (nullable = true)\n",
            " |-- Size 23: double (nullable = true)\n",
            " |-- Size 24: double (nullable = true)\n",
            " |-- Size 25: double (nullable = true)\n",
            " |-- Size 26: double (nullable = true)\n",
            " |-- Acc_X 1: double (nullable = true)\n",
            " |-- Acc_X 2: double (nullable = true)\n",
            " |-- Acc_X 3: double (nullable = true)\n",
            " |-- Acc_X 4: double (nullable = true)\n",
            " |-- Acc_X 5: double (nullable = true)\n",
            " |-- Acc_X 6: double (nullable = true)\n",
            " |-- Acc_X 7: double (nullable = true)\n",
            " |-- Acc_X 8: double (nullable = true)\n",
            " |-- Acc_X 9: double (nullable = true)\n",
            " |-- Acc_X 10: double (nullable = true)\n",
            " |-- Acc_X 11: double (nullable = true)\n",
            " |-- Acc_X 12: double (nullable = true)\n",
            " |-- Acc_X 13: double (nullable = true)\n",
            " |-- Acc_X 14: double (nullable = true)\n",
            " |-- Acc_X 15: double (nullable = true)\n",
            " |-- Acc_X 16: double (nullable = true)\n",
            " |-- Acc_X 17: double (nullable = true)\n",
            " |-- Acc_X 18: double (nullable = true)\n",
            " |-- Acc_X 19: double (nullable = true)\n",
            " |-- Acc_X 20: double (nullable = true)\n",
            " |-- Acc_X 21: double (nullable = true)\n",
            " |-- Acc_X 22: double (nullable = true)\n",
            " |-- Acc_X 23: double (nullable = true)\n",
            " |-- Acc_X 24: double (nullable = true)\n",
            " |-- Acc_X 25: double (nullable = true)\n",
            " |-- Acc_X 26: double (nullable = true)\n",
            " |-- Acc_Y 1: double (nullable = true)\n",
            " |-- Acc_Y 2: double (nullable = true)\n",
            " |-- Acc_Y 3: double (nullable = true)\n",
            " |-- Acc_Y 4: double (nullable = true)\n",
            " |-- Acc_Y 5: double (nullable = true)\n",
            " |-- Acc_Y 6: double (nullable = true)\n",
            " |-- Acc_Y 7: double (nullable = true)\n",
            " |-- Acc_Y 8: double (nullable = true)\n",
            " |-- Acc_Y 9: double (nullable = true)\n",
            " |-- Acc_Y 10: double (nullable = true)\n",
            " |-- Acc_Y 11: double (nullable = true)\n",
            " |-- Acc_Y 12: double (nullable = true)\n",
            " |-- Acc_Y 13: double (nullable = true)\n",
            " |-- Acc_Y 14: double (nullable = true)\n",
            " |-- Acc_Y 15: double (nullable = true)\n",
            " |-- Acc_Y 16: double (nullable = true)\n",
            " |-- Acc_Y 17: double (nullable = true)\n",
            " |-- Acc_Y 18: double (nullable = true)\n",
            " |-- Acc_Y 19: double (nullable = true)\n",
            " |-- Acc_Y 20: double (nullable = true)\n",
            " |-- Acc_Y 21: double (nullable = true)\n",
            " |-- Acc_Y 22: double (nullable = true)\n",
            " |-- Acc_Y 23: double (nullable = true)\n",
            " |-- Acc_Y 24: double (nullable = true)\n",
            " |-- Acc_Y 25: double (nullable = true)\n",
            " |-- Acc_Y 26: double (nullable = true)\n",
            " |-- Acc_Z 1: double (nullable = true)\n",
            " |-- Acc_Z 2: double (nullable = true)\n",
            " |-- Acc_Z 3: double (nullable = true)\n",
            " |-- Acc_Z 4: double (nullable = true)\n",
            " |-- Acc_Z 5: double (nullable = true)\n",
            " |-- Acc_Z 6: double (nullable = true)\n",
            " |-- Acc_Z 7: double (nullable = true)\n",
            " |-- Acc_Z 8: double (nullable = true)\n",
            " |-- Acc_Z 9: double (nullable = true)\n",
            " |-- Acc_Z 10: double (nullable = true)\n",
            " |-- Acc_Z 11: double (nullable = true)\n",
            " |-- Acc_Z 12: double (nullable = true)\n",
            " |-- Acc_Z 13: double (nullable = true)\n",
            " |-- Acc_Z 14: double (nullable = true)\n",
            " |-- Acc_Z 15: double (nullable = true)\n",
            " |-- Acc_Z 16: double (nullable = true)\n",
            " |-- Acc_Z 17: double (nullable = true)\n",
            " |-- Acc_Z 18: double (nullable = true)\n",
            " |-- Acc_Z 19: double (nullable = true)\n",
            " |-- Acc_Z 20: double (nullable = true)\n",
            " |-- Acc_Z 21: double (nullable = true)\n",
            " |-- Acc_Z 22: double (nullable = true)\n",
            " |-- Acc_Z 23: double (nullable = true)\n",
            " |-- Acc_Z 24: double (nullable = true)\n",
            " |-- Acc_Z 25: double (nullable = true)\n",
            " |-- Acc_Z 26: double (nullable = true)\n",
            " |-- Gravity_X 1: double (nullable = true)\n",
            " |-- Gravity_X 2: double (nullable = true)\n",
            " |-- Gravity_X 3: double (nullable = true)\n",
            " |-- Gravity_X 4: double (nullable = true)\n",
            " |-- Gravity_X 5: double (nullable = true)\n",
            " |-- Gravity_X 6: double (nullable = true)\n",
            " |-- Gravity_X 7: double (nullable = true)\n",
            " |-- Gravity_X 8: double (nullable = true)\n",
            " |-- Gravity_X 9: double (nullable = true)\n",
            " |-- Gravity_X 10: double (nullable = true)\n",
            " |-- Gravity_X 11: double (nullable = true)\n",
            " |-- Gravity_X 12: double (nullable = true)\n",
            " |-- Gravity_X 13: double (nullable = true)\n",
            " |-- Gravity_X 14: double (nullable = true)\n",
            " |-- Gravity_X 15: double (nullable = true)\n",
            " |-- Gravity_X 16: double (nullable = true)\n",
            " |-- Gravity_X 17: double (nullable = true)\n",
            " |-- Gravity_X 18: double (nullable = true)\n",
            " |-- Gravity_X 19: double (nullable = true)\n",
            " |-- Gravity_X 20: double (nullable = true)\n",
            " |-- Gravity_X 21: double (nullable = true)\n",
            " |-- Gravity_X 22: double (nullable = true)\n",
            " |-- Gravity_X 23: double (nullable = true)\n",
            " |-- Gravity_X 24: double (nullable = true)\n",
            " |-- Gravity_X 25: double (nullable = true)\n",
            " |-- Gravity_X 26: double (nullable = true)\n",
            " |-- Gravity_Y 1: double (nullable = true)\n",
            " |-- Gravity_Y 2: double (nullable = true)\n",
            " |-- Gravity_Y 3: double (nullable = true)\n",
            " |-- Gravity_Y 4: double (nullable = true)\n",
            " |-- Gravity_Y 5: double (nullable = true)\n",
            " |-- Gravity_Y 6: double (nullable = true)\n",
            " |-- Gravity_Y 7: double (nullable = true)\n",
            " |-- Gravity_Y 8: double (nullable = true)\n",
            " |-- Gravity_Y 9: double (nullable = true)\n",
            " |-- Gravity_Y 10: double (nullable = true)\n",
            " |-- Gravity_Y 11: double (nullable = true)\n",
            " |-- Gravity_Y 12: double (nullable = true)\n",
            " |-- Gravity_Y 13: double (nullable = true)\n",
            " |-- Gravity_Y 14: double (nullable = true)\n",
            " |-- Gravity_Y 15: double (nullable = true)\n",
            " |-- Gravity_Y 16: double (nullable = true)\n",
            " |-- Gravity_Y 17: double (nullable = true)\n",
            " |-- Gravity_Y 18: double (nullable = true)\n",
            " |-- Gravity_Y 19: double (nullable = true)\n",
            " |-- Gravity_Y 20: double (nullable = true)\n",
            " |-- Gravity_Y 21: double (nullable = true)\n",
            " |-- Gravity_Y 22: double (nullable = true)\n",
            " |-- Gravity_Y 23: double (nullable = true)\n",
            " |-- Gravity_Y 24: double (nullable = true)\n",
            " |-- Gravity_Y 25: double (nullable = true)\n",
            " |-- Gravity_Y 26: double (nullable = true)\n",
            " |-- Gravity_Z 1: double (nullable = true)\n",
            " |-- Gravity_Z 2: double (nullable = true)\n",
            " |-- Gravity_Z 3: double (nullable = true)\n",
            " |-- Gravity_Z 4: double (nullable = true)\n",
            " |-- Gravity_Z 5: double (nullable = true)\n",
            " |-- Gravity_Z 6: double (nullable = true)\n",
            " |-- Gravity_Z 7: double (nullable = true)\n",
            " |-- Gravity_Z 8: double (nullable = true)\n",
            " |-- Gravity_Z 9: double (nullable = true)\n",
            " |-- Gravity_Z 10: double (nullable = true)\n",
            " |-- Gravity_Z 11: double (nullable = true)\n",
            " |-- Gravity_Z 12: double (nullable = true)\n",
            " |-- Gravity_Z 13: double (nullable = true)\n",
            " |-- Gravity_Z 14: double (nullable = true)\n",
            " |-- Gravity_Z 15: double (nullable = true)\n",
            " |-- Gravity_Z 16: double (nullable = true)\n",
            " |-- Gravity_Z 17: double (nullable = true)\n",
            " |-- Gravity_Z 18: double (nullable = true)\n",
            " |-- Gravity_Z 19: double (nullable = true)\n",
            " |-- Gravity_Z 20: double (nullable = true)\n",
            " |-- Gravity_Z 21: double (nullable = true)\n",
            " |-- Gravity_Z 22: double (nullable = true)\n",
            " |-- Gravity_Z 23: double (nullable = true)\n",
            " |-- Gravity_Z 24: double (nullable = true)\n",
            " |-- Gravity_Z 25: double (nullable = true)\n",
            " |-- Gravity_Z 26: double (nullable = true)\n",
            " |-- Gyros_X 1: double (nullable = true)\n",
            " |-- Gyros_X 2: double (nullable = true)\n",
            " |-- Gyros_X 3: double (nullable = true)\n",
            " |-- Gyros_X 4: double (nullable = true)\n",
            " |-- Gyros_X 5: double (nullable = true)\n",
            " |-- Gyros_X 6: double (nullable = true)\n",
            " |-- Gyros_X 7: double (nullable = true)\n",
            " |-- Gyros_X 8: double (nullable = true)\n",
            " |-- Gyros_X 9: double (nullable = true)\n",
            " |-- Gyros_X 10: double (nullable = true)\n",
            " |-- Gyros_X 11: double (nullable = true)\n",
            " |-- Gyros_X 12: double (nullable = true)\n",
            " |-- Gyros_X 13: double (nullable = true)\n",
            " |-- Gyros_X 14: double (nullable = true)\n",
            " |-- Gyros_X 15: double (nullable = true)\n",
            " |-- Gyros_X 16: double (nullable = true)\n",
            " |-- Gyros_X 17: double (nullable = true)\n",
            " |-- Gyros_X 18: double (nullable = true)\n",
            " |-- Gyros_X 19: double (nullable = true)\n",
            " |-- Gyros_X 20: double (nullable = true)\n",
            " |-- Gyros_X 21: double (nullable = true)\n",
            " |-- Gyros_X 22: double (nullable = true)\n",
            " |-- Gyros_X 23: double (nullable = true)\n",
            " |-- Gyros_X 24: double (nullable = true)\n",
            " |-- Gyros_X 25: double (nullable = true)\n",
            " |-- Gyros_X 26: double (nullable = true)\n",
            " |-- Gyros_Y 1: double (nullable = true)\n",
            " |-- Gyros_Y 2: double (nullable = true)\n",
            " |-- Gyros_Y 3: double (nullable = true)\n",
            " |-- Gyros_Y 4: double (nullable = true)\n",
            " |-- Gyros_Y 5: double (nullable = true)\n",
            " |-- Gyros_Y 6: double (nullable = true)\n",
            " |-- Gyros_Y 7: double (nullable = true)\n",
            " |-- Gyros_Y 8: double (nullable = true)\n",
            " |-- Gyros_Y 9: double (nullable = true)\n",
            " |-- Gyros_Y 10: double (nullable = true)\n",
            " |-- Gyros_Y 11: double (nullable = true)\n",
            " |-- Gyros_Y 12: double (nullable = true)\n",
            " |-- Gyros_Y 13: double (nullable = true)\n",
            " |-- Gyros_Y 14: double (nullable = true)\n",
            " |-- Gyros_Y 15: double (nullable = true)\n",
            " |-- Gyros_Y 16: double (nullable = true)\n",
            " |-- Gyros_Y 17: double (nullable = true)\n",
            " |-- Gyros_Y 18: double (nullable = true)\n",
            " |-- Gyros_Y 19: double (nullable = true)\n",
            " |-- Gyros_Y 20: double (nullable = true)\n",
            " |-- Gyros_Y 21: double (nullable = true)\n",
            " |-- Gyros_Y 22: double (nullable = true)\n",
            " |-- Gyros_Y 23: double (nullable = true)\n",
            " |-- Gyros_Y 24: double (nullable = true)\n",
            " |-- Gyros_Y 25: double (nullable = true)\n",
            " |-- Gyros_Y 26: double (nullable = true)\n",
            " |-- Gyros_Z 1: double (nullable = true)\n",
            " |-- Gyros_Z 2: double (nullable = true)\n",
            " |-- Gyros_Z 3: double (nullable = true)\n",
            " |-- Gyros_Z 4: double (nullable = true)\n",
            " |-- Gyros_Z 5: double (nullable = true)\n",
            " |-- Gyros_Z 6: double (nullable = true)\n",
            " |-- Gyros_Z 7: double (nullable = true)\n",
            " |-- Gyros_Z 8: double (nullable = true)\n",
            " |-- Gyros_Z 9: double (nullable = true)\n",
            " |-- Gyros_Z 10: double (nullable = true)\n",
            " |-- Gyros_Z 11: double (nullable = true)\n",
            " |-- Gyros_Z 12: double (nullable = true)\n",
            " |-- Gyros_Z 13: double (nullable = true)\n",
            " |-- Gyros_Z 14: double (nullable = true)\n",
            " |-- Gyros_Z 15: double (nullable = true)\n",
            " |-- Gyros_Z 16: double (nullable = true)\n",
            " |-- Gyros_Z 17: double (nullable = true)\n",
            " |-- Gyros_Z 18: double (nullable = true)\n",
            " |-- Gyros_Z 19: double (nullable = true)\n",
            " |-- Gyros_Z 20: double (nullable = true)\n",
            " |-- Gyros_Z 21: double (nullable = true)\n",
            " |-- Gyros_Z 22: double (nullable = true)\n",
            " |-- Gyros_Z 23: double (nullable = true)\n",
            " |-- Gyros_Z 24: double (nullable = true)\n",
            " |-- Gyros_Z 25: double (nullable = true)\n",
            " |-- Gyros_Z 26: double (nullable = true)\n",
            " |-- Lin_Acc_X 1: double (nullable = true)\n",
            " |-- Lin_Acc_X 2: double (nullable = true)\n",
            " |-- Lin_Acc_X 3: double (nullable = true)\n",
            " |-- Lin_Acc_X 4: double (nullable = true)\n",
            " |-- Lin_Acc_X 5: double (nullable = true)\n",
            " |-- Lin_Acc_X 6: double (nullable = true)\n",
            " |-- Lin_Acc_X 7: double (nullable = true)\n",
            " |-- Lin_Acc_X 8: double (nullable = true)\n",
            " |-- Lin_Acc_X 9: double (nullable = true)\n",
            " |-- Lin_Acc_X 10: double (nullable = true)\n",
            " |-- Lin_Acc_X 11: double (nullable = true)\n",
            " |-- Lin_Acc_X 12: double (nullable = true)\n",
            " |-- Lin_Acc_X 13: double (nullable = true)\n",
            " |-- Lin_Acc_X 14: double (nullable = true)\n",
            " |-- Lin_Acc_X 15: double (nullable = true)\n",
            " |-- Lin_Acc_X 16: double (nullable = true)\n",
            " |-- Lin_Acc_X 17: double (nullable = true)\n",
            " |-- Lin_Acc_X 18: double (nullable = true)\n",
            " |-- Lin_Acc_X 19: double (nullable = true)\n",
            " |-- Lin_Acc_X 20: double (nullable = true)\n",
            " |-- Lin_Acc_X 21: double (nullable = true)\n",
            " |-- Lin_Acc_X 22: double (nullable = true)\n",
            " |-- Lin_Acc_X 23: double (nullable = true)\n",
            " |-- Lin_Acc_X 24: double (nullable = true)\n",
            " |-- Lin_Acc_X 25: double (nullable = true)\n",
            " |-- Lin_Acc_X 26: double (nullable = true)\n",
            " |-- Lin_Acc_Y 1: double (nullable = true)\n",
            " |-- Lin_Acc_Y 2: double (nullable = true)\n",
            " |-- Lin_Acc_Y 3: double (nullable = true)\n",
            " |-- Lin_Acc_Y 4: double (nullable = true)\n",
            " |-- Lin_Acc_Y 5: double (nullable = true)\n",
            " |-- Lin_Acc_Y 6: double (nullable = true)\n",
            " |-- Lin_Acc_Y 7: double (nullable = true)\n",
            " |-- Lin_Acc_Y 8: double (nullable = true)\n",
            " |-- Lin_Acc_Y 9: double (nullable = true)\n",
            " |-- Lin_Acc_Y 10: double (nullable = true)\n",
            " |-- Lin_Acc_Y 11: double (nullable = true)\n",
            " |-- Lin_Acc_Y 12: double (nullable = true)\n",
            " |-- Lin_Acc_Y 13: double (nullable = true)\n",
            " |-- Lin_Acc_Y 14: double (nullable = true)\n",
            " |-- Lin_Acc_Y 15: double (nullable = true)\n",
            " |-- Lin_Acc_Y 16: double (nullable = true)\n",
            " |-- Lin_Acc_Y 17: double (nullable = true)\n",
            " |-- Lin_Acc_Y 18: double (nullable = true)\n",
            " |-- Lin_Acc_Y 19: double (nullable = true)\n",
            " |-- Lin_Acc_Y 20: double (nullable = true)\n",
            " |-- Lin_Acc_Y 21: double (nullable = true)\n",
            " |-- Lin_Acc_Y 22: double (nullable = true)\n",
            " |-- Lin_Acc_Y 23: double (nullable = true)\n",
            " |-- Lin_Acc_Y 24: double (nullable = true)\n",
            " |-- Lin_Acc_Y 25: double (nullable = true)\n",
            " |-- Lin_Acc_Y 26: double (nullable = true)\n",
            " |-- Lin_Acc_Z 1: double (nullable = true)\n",
            " |-- Lin_Acc_Z 2: double (nullable = true)\n",
            " |-- Lin_Acc_Z 3: double (nullable = true)\n",
            " |-- Lin_Acc_Z 4: double (nullable = true)\n",
            " |-- Lin_Acc_Z 5: double (nullable = true)\n",
            " |-- Lin_Acc_Z 6: double (nullable = true)\n",
            " |-- Lin_Acc_Z 7: double (nullable = true)\n",
            " |-- Lin_Acc_Z 8: double (nullable = true)\n",
            " |-- Lin_Acc_Z 9: double (nullable = true)\n",
            " |-- Lin_Acc_Z 10: double (nullable = true)\n",
            " |-- Lin_Acc_Z 11: double (nullable = true)\n",
            " |-- Lin_Acc_Z 12: double (nullable = true)\n",
            " |-- Lin_Acc_Z 13: double (nullable = true)\n",
            " |-- Lin_Acc_Z 14: double (nullable = true)\n",
            " |-- Lin_Acc_Z 15: double (nullable = true)\n",
            " |-- Lin_Acc_Z 16: double (nullable = true)\n",
            " |-- Lin_Acc_Z 17: double (nullable = true)\n",
            " |-- Lin_Acc_Z 18: double (nullable = true)\n",
            " |-- Lin_Acc_Z 19: double (nullable = true)\n",
            " |-- Lin_Acc_Z 20: double (nullable = true)\n",
            " |-- Lin_Acc_Z 21: double (nullable = true)\n",
            " |-- Lin_Acc_Z 22: double (nullable = true)\n",
            " |-- Lin_Acc_Z 23: double (nullable = true)\n",
            " |-- Lin_Acc_Z 24: double (nullable = true)\n",
            " |-- Lin_Acc_Z 25: double (nullable = true)\n",
            " |-- Lin_Acc_Z 26: double (nullable = true)\n",
            " |-- Rot_Vect_X 1: double (nullable = true)\n",
            " |-- Rot_Vect_X 2: double (nullable = true)\n",
            " |-- Rot_Vect_X 3: double (nullable = true)\n",
            " |-- Rot_Vect_X 4: double (nullable = true)\n",
            " |-- Rot_Vect_X 5: double (nullable = true)\n",
            " |-- Rot_Vect_X 6: double (nullable = true)\n",
            " |-- Rot_Vect_X 7: double (nullable = true)\n",
            " |-- Rot_Vect_X 8: double (nullable = true)\n",
            " |-- Rot_Vect_X 9: double (nullable = true)\n",
            " |-- Rot_Vect_X 10: double (nullable = true)\n",
            " |-- Rot_Vect_X 11: double (nullable = true)\n",
            " |-- Rot_Vect_X 12: double (nullable = true)\n",
            " |-- Rot_Vect_X 13: double (nullable = true)\n",
            " |-- Rot_Vect_X 14: double (nullable = true)\n",
            " |-- Rot_Vect_X 15: double (nullable = true)\n",
            " |-- Rot_Vect_X 16: double (nullable = true)\n",
            " |-- Rot_Vect_X 17: double (nullable = true)\n",
            " |-- Rot_Vect_X 18: double (nullable = true)\n",
            " |-- Rot_Vect_X 19: double (nullable = true)\n",
            " |-- Rot_Vect_X 20: double (nullable = true)\n",
            " |-- Rot_Vect_X 21: double (nullable = true)\n",
            " |-- Rot_Vect_X 22: double (nullable = true)\n",
            " |-- Rot_Vect_X 23: double (nullable = true)\n",
            " |-- Rot_Vect_X 24: double (nullable = true)\n",
            " |-- Rot_Vect_X 25: double (nullable = true)\n",
            " |-- Rot_Vect_X 26: double (nullable = true)\n",
            " |-- Rot_Vect_Y 1: double (nullable = true)\n",
            " |-- Rot_Vect_Y 2: double (nullable = true)\n",
            " |-- Rot_Vect_Y 3: double (nullable = true)\n",
            " |-- Rot_Vect_Y 4: double (nullable = true)\n",
            " |-- Rot_Vect_Y 5: double (nullable = true)\n",
            " |-- Rot_Vect_Y 6: double (nullable = true)\n",
            " |-- Rot_Vect_Y 7: double (nullable = true)\n",
            " |-- Rot_Vect_Y 8: double (nullable = true)\n",
            " |-- Rot_Vect_Y 9: double (nullable = true)\n",
            " |-- Rot_Vect_Y 10: double (nullable = true)\n",
            " |-- Rot_Vect_Y 11: double (nullable = true)\n",
            " |-- Rot_Vect_Y 12: double (nullable = true)\n",
            " |-- Rot_Vect_Y 13: double (nullable = true)\n",
            " |-- Rot_Vect_Y 14: double (nullable = true)\n",
            " |-- Rot_Vect_Y 15: double (nullable = true)\n",
            " |-- Rot_Vect_Y 16: double (nullable = true)\n",
            " |-- Rot_Vect_Y 17: double (nullable = true)\n",
            " |-- Rot_Vect_Y 18: double (nullable = true)\n",
            " |-- Rot_Vect_Y 19: double (nullable = true)\n",
            " |-- Rot_Vect_Y 20: double (nullable = true)\n",
            " |-- Rot_Vect_Y 21: double (nullable = true)\n",
            " |-- Rot_Vect_Y 22: double (nullable = true)\n",
            " |-- Rot_Vect_Y 23: double (nullable = true)\n",
            " |-- Rot_Vect_Y 24: double (nullable = true)\n",
            " |-- Rot_Vect_Y 25: double (nullable = true)\n",
            " |-- Rot_Vect_Y 26: double (nullable = true)\n",
            " |-- Rot_Vect_Z 1: double (nullable = true)\n",
            " |-- Rot_Vect_Z 2: double (nullable = true)\n",
            " |-- Rot_Vect_Z 3: double (nullable = true)\n",
            " |-- Rot_Vect_Z 4: double (nullable = true)\n",
            " |-- Rot_Vect_Z 5: double (nullable = true)\n",
            " |-- Rot_Vect_Z 6: double (nullable = true)\n",
            " |-- Rot_Vect_Z 7: double (nullable = true)\n",
            " |-- Rot_Vect_Z 8: double (nullable = true)\n",
            " |-- Rot_Vect_Z 9: double (nullable = true)\n",
            " |-- Rot_Vect_Z 10: double (nullable = true)\n",
            " |-- Rot_Vect_Z 11: double (nullable = true)\n",
            " |-- Rot_Vect_Z 12: double (nullable = true)\n",
            " |-- Rot_Vect_Z 13: double (nullable = true)\n",
            " |-- Rot_Vect_Z 14: double (nullable = true)\n",
            " |-- Rot_Vect_Z 15: double (nullable = true)\n",
            " |-- Rot_Vect_Z 16: double (nullable = true)\n",
            " |-- Rot_Vect_Z 17: double (nullable = true)\n",
            " |-- Rot_Vect_Z 18: double (nullable = true)\n",
            " |-- Rot_Vect_Z 19: double (nullable = true)\n",
            " |-- Rot_Vect_Z 20: double (nullable = true)\n",
            " |-- Rot_Vect_Z 21: double (nullable = true)\n",
            " |-- Rot_Vect_Z 22: double (nullable = true)\n",
            " |-- Rot_Vect_Z 23: double (nullable = true)\n",
            " |-- Rot_Vect_Z 24: double (nullable = true)\n",
            " |-- Rot_Vect_Z 25: double (nullable = true)\n",
            " |-- Rot_Vect_Z 26: double (nullable = true)\n",
            " |-- Pressure 1: double (nullable = true)\n",
            " |-- Pressure 2: double (nullable = true)\n",
            " |-- Pressure 3: double (nullable = true)\n",
            " |-- Pressure 4: double (nullable = true)\n",
            " |-- Pressure 5: double (nullable = true)\n",
            " |-- Pressure 6: double (nullable = true)\n",
            " |-- Pressure 7: double (nullable = true)\n",
            " |-- Pressure 8: double (nullable = true)\n",
            " |-- Pressure 9: double (nullable = true)\n",
            " |-- Pressure 10: double (nullable = true)\n",
            " |-- Pressure 11: double (nullable = true)\n",
            " |-- Pressure 12: double (nullable = true)\n",
            " |-- Pressure 13: double (nullable = true)\n",
            " |-- Pressure 14: double (nullable = true)\n",
            " |-- Pressure 15: double (nullable = true)\n",
            " |-- Pressure 16: double (nullable = true)\n",
            " |-- Pressure 17: double (nullable = true)\n",
            " |-- Pressure 18: double (nullable = true)\n",
            " |-- Pressure 19: double (nullable = true)\n",
            " |-- Pressure 20: double (nullable = true)\n",
            " |-- Pressure 21: double (nullable = true)\n",
            " |-- Pressure 22: double (nullable = true)\n",
            " |-- Pressure 23: double (nullable = true)\n",
            " |-- Pressure 24: double (nullable = true)\n",
            " |-- Pressure 25: double (nullable = true)\n",
            " |-- Pressure 26: double (nullable = true)\n",
            " |-- X_coordinate 1: double (nullable = true)\n",
            " |-- X_coordinate 2: long (nullable = true)\n",
            " |-- X_coordinate 3: double (nullable = true)\n",
            " |-- X_coordinate 4: double (nullable = true)\n",
            " |-- X_coordinate 5: double (nullable = true)\n",
            " |-- X_coordinate 6: long (nullable = true)\n",
            " |-- X_coordinate 7: double (nullable = true)\n",
            " |-- X_coordinate 8: long (nullable = true)\n",
            " |-- X_coordinate 9: double (nullable = true)\n",
            " |-- X_coordinate 10: long (nullable = true)\n",
            " |-- X_coordinate 11: double (nullable = true)\n",
            " |-- X_coordinate 12: long (nullable = true)\n",
            " |-- X_coordinate 13: long (nullable = true)\n",
            " |-- X_coordinate 14: double (nullable = true)\n",
            " |-- X_coordinate 15: double (nullable = true)\n",
            " |-- X_coordinate 16: double (nullable = true)\n",
            " |-- X_coordinate 17: double (nullable = true)\n",
            " |-- X_coordinate 18: long (nullable = true)\n",
            " |-- X_coordinate 19: long (nullable = true)\n",
            " |-- X_coordinate 20: double (nullable = true)\n",
            " |-- X_coordinate 21: double (nullable = true)\n",
            " |-- X_coordinate 22: double (nullable = true)\n",
            " |-- X_coordinate 23: double (nullable = true)\n",
            " |-- X_coordinate 24: long (nullable = true)\n",
            " |-- X_coordinate 25: double (nullable = true)\n",
            " |-- X_coordinate 26: double (nullable = true)\n",
            " |-- Y_coordinate 1: double (nullable = true)\n",
            " |-- Y_coordinate 2: long (nullable = true)\n",
            " |-- Y_coordinate 3: double (nullable = true)\n",
            " |-- Y_coordinate 4: double (nullable = true)\n",
            " |-- Y_coordinate 5: double (nullable = true)\n",
            " |-- Y_coordinate 6: long (nullable = true)\n",
            " |-- Y_coordinate 7: double (nullable = true)\n",
            " |-- Y_coordinate 8: long (nullable = true)\n",
            " |-- Y_coordinate 9: double (nullable = true)\n",
            " |-- Y_coordinate 10: long (nullable = true)\n",
            " |-- Y_coordinate 11: double (nullable = true)\n",
            " |-- Y_coordinate 12: double (nullable = true)\n",
            " |-- Y_coordinate 13: long (nullable = true)\n",
            " |-- Y_coordinate 14: double (nullable = true)\n",
            " |-- Y_coordinate 15: double (nullable = true)\n",
            " |-- Y_coordinate 16: double (nullable = true)\n",
            " |-- Y_coordinate 17: double (nullable = true)\n",
            " |-- Y_coordinate 18: long (nullable = true)\n",
            " |-- Y_coordinate 19: long (nullable = true)\n",
            " |-- Y_coordinate 20: double (nullable = true)\n",
            " |-- Y_coordinate 21: double (nullable = true)\n",
            " |-- Y_coordinate 22: double (nullable = true)\n",
            " |-- Y_coordinate 23: double (nullable = true)\n",
            " |-- Y_coordinate 24: long (nullable = true)\n",
            " |-- Y_coordinate 25: long (nullable = true)\n",
            " |-- Y_coordinate 26: double (nullable = true)\n",
            " |-- distance 1: double (nullable = true)\n",
            " |-- distance 2: double (nullable = true)\n",
            " |-- distance 3: double (nullable = true)\n",
            " |-- distance 4: double (nullable = true)\n",
            " |-- distance 5: double (nullable = true)\n",
            " |-- distance 6: double (nullable = true)\n",
            " |-- distance 7: double (nullable = true)\n",
            " |-- distance 8: double (nullable = true)\n",
            " |-- distance 9: double (nullable = true)\n",
            " |-- distance 10: double (nullable = true)\n",
            " |-- distance 11: double (nullable = true)\n",
            " |-- distance 12: double (nullable = true)\n",
            " |-- distance 13: double (nullable = true)\n",
            " |-- distance 14: double (nullable = true)\n",
            " |-- distance 15: double (nullable = true)\n",
            " |-- distance 16: double (nullable = true)\n",
            " |-- distance 17: double (nullable = true)\n",
            " |-- distance 18: double (nullable = true)\n",
            " |-- distance 19: double (nullable = true)\n",
            " |-- distance 20: double (nullable = true)\n",
            " |-- distance 21: double (nullable = true)\n",
            " |-- distance 22: double (nullable = true)\n",
            " |-- distance 23: double (nullable = true)\n",
            " |-- distance 24: double (nullable = true)\n",
            " |-- distance 25: double (nullable = true)\n",
            " |-- TotalTime: long (nullable = true)\n",
            " |-- MeanSize: double (nullable = true)\n",
            " |-- MeanACCX: double (nullable = true)\n",
            " |-- MeanACCY: double (nullable = true)\n",
            " |-- MeanACCZ: double (nullable = true)\n",
            " |-- MeanGravX: double (nullable = true)\n",
            " |-- MeanGravY: double (nullable = true)\n",
            " |-- MeanGravZ: double (nullable = true)\n",
            " |-- MeanGyroX: double (nullable = true)\n",
            " |-- MeanGyroY: double (nullable = true)\n",
            " |-- MeanGyroZ: double (nullable = true)\n",
            " |-- MeanLinAccX: double (nullable = true)\n",
            " |-- MeanLinAccY: double (nullable = true)\n",
            " |-- MeanLinAccZ: double (nullable = true)\n",
            " |-- MeanRotvetX: double (nullable = true)\n",
            " |-- MeanRotvetY: double (nullable = true)\n",
            " |-- MeanRotvetZ: double (nullable = true)\n",
            " |-- MeanPressure: double (nullable = true)\n",
            " |-- UserID: string (nullable = true)\n",
            "\n"
          ],
          "name": "stdout"
        }
      ]
    },
    {
      "cell_type": "code",
      "metadata": {
        "id": "STKrorbFt3ib",
        "colab_type": "code",
        "colab": {
          "base_uri": "https://localhost:8080/",
          "height": 51
        },
        "outputId": "2f0256df-a347-4176-ce6b-615710bca3d2"
      },
      "source": [
        "print(\"number of (rows,columns)\")\n",
        "df.count(), len(df.columns)"
      ],
      "execution_count": null,
      "outputs": [
        {
          "output_type": "stream",
          "text": [
            "number of (rows,columns)\n"
          ],
          "name": "stdout"
        },
        {
          "output_type": "execute_result",
          "data": {
            "text/plain": [
              "(545, 852)"
            ]
          },
          "metadata": {
            "tags": []
          },
          "execution_count": 9
        }
      ]
    },
    {
      "cell_type": "code",
      "metadata": {
        "id": "LVC55aXYuHh0",
        "colab_type": "code",
        "colab": {
          "base_uri": "https://localhost:8080/",
          "height": 309
        },
        "outputId": "4a69dd22-5f84-428c-b8aa-aa72e2f590f2"
      },
      "source": [
        "df.show(10)"
      ],
      "execution_count": null,
      "outputs": [
        {
          "output_type": "stream",
          "text": [
            "+----------+----------+----------+----------+----------+----------+----------+----------+----------+-----------+-----------+-----------+-----------+-----------+-----------+-----------+-----------+-----------+-----------+-----------+-----------+-----------+-----------+-----------+-----------+-----------+---------------------+---------------------+---------------------+---------------------+---------------------+---------------------+---------------------+---------------------+---------------------+---------------------+---------------------+---------------------+---------------------+---------------------+---------------------+---------------------+---------------------+---------------------+---------------------+---------------------+----------------------+---------------------+----------------------+----------------------+----------------------+----------------------+----------------------+-----------------------+-----------------------+-----------------------+-----------------------+-----------------------+-----------------------+-----------------------+-----------------------+-----------------------+-----------------------+-----------------------+-----------------------+-----------------------+-----------------------+-----------------------+-----------------------+-----------------------+-----------------------+-----------------------+-----------------------+-----------------------+-----------------------+-----------------------+-----------------------+-----------------------+-----------------------+-----------------------+-----------------------+-----------------------+-----------------------+-----------------------+-----------------------+-----------------------+-----------------------+-----------------------+-----------------------+-----------------------+-----------------------+-----------------------+-----------------------+-----------------------+-----------------------+-----------------------+-----------------------+-----------------------+---------------------+---------------------+---------------------+---------------------+---------------------+---------------------+---------------------+---------------------+---------------------+---------------------+---------------------+---------------------+---------------------+---------------------+---------------------+---------------------+---------------------+---------------------+---------------------+---------------------+----------------------+---------------------+----------------------+----------------------+----------------------+----------------------+----------------------+-----------------------+-----------------------+-----------------------+-----------------------+-----------------------+-----------------------+-----------------------+-----------------------+-----------------------+-----------------------+-----------------------+-----------------------+-----------------------+-----------------------+-----------------------+-----------------------+-----------------------+-----------------------+-----------------------+-----------------------+-----------------------+-----------------------+-----------------------+-----------------------+-----------------------+-----------------------+-----------------------+-----------------------+-----------------------+-----------------------+-----------------------+-----------------------+-----------------------+-----------------------+-----------------------+-----------------------+-----------------------+-----------------------+-----------------------+-----------------------+-----------------------+-----------------------+-----------------------+-----------------------+-----------------------+-------------------+-------------------+-------------------+-------------------+-------------------+-------------------+-------------------+-------------------+-------------------+-------------------+-------------------+-------------------+-------------------+-------------------+-------------------+-------------------+-------------------+-------------------+-------------------+-------------------+--------------------+-------------------+--------------------+--------------------+--------------------+--------------------+--------------------+---------------------+---------------------+---------------------+---------------------+---------------------+---------------------+---------------------+---------------------+---------------------+---------------------+---------------------+---------------------+---------------------+---------------------+---------------------+---------------------+---------------------+---------------------+---------------------+---------------------+---------------------+---------------------+---------------------+---------------------+---------------------+---------------------+---------------------+---------------------+---------------------+---------------------+---------------------+---------------------+---------------------+---------------------+---------------------+---------------------+---------------------+---------------------+---------------------+---------------------+---------------------+---------------------+---------------------+---------------------+---------------------+-----------------------+-----------------------+-----------------------+-----------------------+-----------------------+-----------------------+-----------------------+-----------------------+-----------------------+-----------------------+-----------------------+-----------------------+-----------------------+-----------------------+-----------------------+-----------------------+-----------------------+-----------------------+-----------------------+-----------------------+------------------------+-----------------------+------------------------+------------------------+------------------------+------------------------+------------------------+-------------------------+-------------------------+-------------------------+-------------------------+-------------------------+-------------------------+-------------------------+-------------------------+-------------------------+-------------------------+-------------------------+-------------------------+-------------------------+-------------------------+-------------------------+-------------------------+-------------------------+-------------------------+-------------------------+-------------------------+-------------------------+-------------------------+-------------------------+-------------------------+-------------------------+-------------------------+-------------------------+-------------------------+-------------------------+-------------------------+-------------------------+-------------------------+-------------------------+-------------------------+-------------------------+-------------------------+-------------------------+-------------------------+-------------------------+-------------------------+-------------------------+-------------------------+-------------------------+-------------------------+-------------------------+--------------------+--------------------+--------------------+--------------------+--------------------+--------------------+--------------------+--------------------+--------------------+--------------------+--------------------+--------------------+--------------------+--------------------+--------------------+--------------------+--------------------+--------------------+--------------------+--------------------+--------------------+--------------------+--------------------+--------------------+--------------------+--------------------+-------------------+-------------------+-------------------+-------------------+-------------------+-------------------+-------------------+-------------------+-------------------+-------------------+-------------------+-------------------+-------------------+-------------------+-------------------+-------------------+-------------------+-------------------+-------------------+-------------------+-------------------+-------------------+-------------------+-------------------+-------------------+-------------------+------------------+------------------+------------------+------------------+------------------+------------------+------------------+------------------+------------------+------------------+------------------+------------------+------------------+------------------+------------------+------------------+------------------+------------------+------------------+------------------+------------------+------------------+------------------+------------------+------------------+------------------+-----------------+-----------------+-----------------+-----------------+-----------------+-----------------+-----------------+-----------------+-----------------+-----------------+-----------------+------------------+-----------------+-----------------+-----------------+-----------------+-----------------+-----------------+-----------------+-----------------+-----------------+-----------------+-----------------+-----------------+-----------------+-----------------+-------------------+-------------------+-------------------+-------------------+-------------------+-------------------+-------------------+-------------------+-------------------+-------------------+-------------------+-------------------+-------------------+-------------------+-------------------+-------------------+-------------------+-------------------+-------------------+-------------------+-------------------+-------------------+-------------------+-------------------+-------------------+-------------------+------------------+-----------------+------------------+------------------+------------------+------------------+------------------+------------------+------------------+------------------+------------------+------------------+------------------+------------------+------------------+------------------+------------------+------------------+------------------+------------------+------------------+------------------+------------------+------------------+------------------+------------------+-----------------+-----------------+-----------------+-----------------+-----------------+-----------------+-----------------+-----------------+-----------------+-----------------+-----------------+-----------------+-----------------+-----------------+-----------------+-----------------+-----------------+-----------------+-----------------+-----------------+-----------------+-----------------+-----------------+-----------------+-----------------+-----------------+-------------------+-------------------+-------------------+-------------------+-------------------+-------------------+-------------------+-------------------+-------------------+-------------------+-------------------+-------------------+-------------------+-------------------+-------------------+-------------------+-------------------+-------------------+-------------------+-------------------+-------------------+-------------------+-------------------+-------------------+-------------------+------------------+-------------------+-------------------+-------------------+------------------+-------------------+-------------------+-------------------+-------------------+-------------------+------------------+-------------------+-------------------+-------------------+-------------------+-------------------+-------------------+-------------------+-------------------+-------------------+-------------------+-------------------+------------------+-------------------+-------------------+------------------+-------------------+-------------------+-------------------+-------------------+-------------------+-------------------+-------------------+-------------------+-------------------+-------------------+------------------+-------------------+-------------------+-------------------+-------------------+------------------+-------------------+-------------------+-------------------+------------------+-------------------+-------------------+-------------------+-------------------+-------------------+-------------------+-------------------+-------------------+-------------------+-------------------+-------------------+-------------------+-------------------+-------------------+-------------------+------------------+-------------------+-------------------+-------------------+-------------------+-------------------+-------------------+-------------------+-------------------+-------------------+-------------------+-------------------+------------------+-------------------+-------------------+-------------------+-------------------+-------------------+-------------------+-------------------+-------------------+-------------------+-------------------+-------------------+-------------------+-------------------+-------------------+-------------------+-------------------+-------------------+-------------------+------------------+-------------------+-------------------+-------------------+-------------------+-------------------+-------------------+------------------+-------------------+-------------------+-------------------+-------------------+-------------------+-------------------+------------------+------------------+-------------------+-------------------+-------------------+-------------------+-------------------+-------------------+------------------+-------------------+-------------------+-------------------+-------------------+-------------------+------------------+-------------------+-------------------+-------------------+-------------------+-------------------+-------------------+-------------------+-------------------+-------------------+-------------------+------------------+------------------+------------------+------------------+------------------+------------------+------------------+------------------+------------------+------------------+------------------+------------------+------------------+------------------+------------------+------------------+------------------+------------------+------------------+------------------+------------------+------------------+------------------+------------------+------------------+------------------+-------------------+-------------------+-------------------+-------------------+-------------------+-------------------+-------------------+-------------------+-------------------+-------------------+-------------------+-------------------+-------------------+-------------------+-------------------+-------------------+-------------------+-------------------+-------------------+-------------------+-------------------+-------------------+-------------------+-------------------+-------------------+-------------------+-------------------+-------------------+-------------------+-------------------+-------------------+-------------------+-------------------+-------------------+-------------------+-------------------+-------------------+-------------------+-------------------+-------------------+-------------------+-------------------+-------------------+-------------------+-------------------+-------------------+-------------------+-------------------+-------------------+-------------------+-------------------+-------------------+-------------------+-------------------+-------------------+-------------------+-------------------+-------------------+-------------------+-------------------+-------------------+-------------------+------------------+-------------------+-------------------+-------------------+------------------+-------------------+-------------------+-------------------+-------------------+-------------------+-------------------+------------------+-------------------+-------------------+-------------------+-------------------+--------------+--------------+-----------------+-----------------+--------------+--------------+-----------------+--------------+-----------------+---------------+---------------+---------------+---------------+---------------+---------------+-----------------+---------------+---------------+---------------+---------------+---------------+---------------+----------------+---------------+---------------+---------------+--------------+--------------+-----------------+-----------------+--------------+--------------+-----------------+--------------+----------------+---------------+---------------+---------------+---------------+---------------+---------------+-----------------+---------------+---------------+---------------+---------------+---------------+---------------+-----------------+---------------+---------------+---------------+-----------------+-----------------+----------+------------------+-----------------+------------------+------------------+-----------------+-----------------+------------------+------------------+-----------------+------------------+------------------+------------------+------------------+-----------------+-----------------+------------------+------------------+------------------+------------------+-----------------+-----------------+-----------------+---------+--------------------+--------------------+------------------+-----------------+--------------------+-----------------+-----------------+--------------------+--------------------+--------------------+--------------------+--------------------+--------------------+-------------------+--------------------+--------------------+------------------+---------------+\n",
            "|HoldTime 1|HoldTime 2|HoldTime 3|HoldTime 4|HoldTime 5|HoldTime 6|HoldTime 7|HoldTime 8|HoldTime 9|HoldTime 10|HoldTime 11|HoldTime 12|HoldTime 13|HoldTime 14|HoldTime 15|HoldTime 16|HoldTime 17|HoldTime 18|HoldTime 19|HoldTime 20|HoldTime 21|HoldTime 22|HoldTime 23|HoldTime 24|HoldTime 25|HoldTime 26|release_pressTime 1_2|release_pressTime 1_3|release_pressTime 1_4|release_pressTime 2_3|release_pressTime 2_4|release_pressTime 2_5|release_pressTime 3_4|release_pressTime 3_5|release_pressTime 3_6|release_pressTime 4_5|release_pressTime 4_6|release_pressTime 4_7|release_pressTime 5_6|release_pressTime 5_7|release_pressTime 5_8|release_pressTime 6_7|release_pressTime 6_8|release_pressTime 6_9|release_pressTime 7_8|release_pressTime 7_9|release_pressTime 7_10|release_pressTime 8_9|release_pressTime 8_10|release_pressTime 8_11|release_pressTime 9_10|release_pressTime 9_11|release_pressTime 9_12|release_pressTime 10_11|release_pressTime 10_12|release_pressTime 10_13|release_pressTime 11_12|release_pressTime 11_13|release_pressTime 11_14|release_pressTime 12_13|release_pressTime 12_14|release_pressTime 12_15|release_pressTime 13_14|release_pressTime 13_15|release_pressTime 13_16|release_pressTime 14_15|release_pressTime 14_16|release_pressTime 14_17|release_pressTime 15_16|release_pressTime 15_17|release_pressTime 15_18|release_pressTime 16_17|release_pressTime 16_18|release_pressTime 16_19|release_pressTime 17_18|release_pressTime 17_19|release_pressTime 17_20|release_pressTime 18_19|release_pressTime 18_20|release_pressTime 18_21|release_pressTime 19_20|release_pressTime 19_21|release_pressTime 19_22|release_pressTime 20_21|release_pressTime 20_22|release_pressTime 20_23|release_pressTime 21_22|release_pressTime 21_23|release_pressTime 21_24|release_pressTime 22_23|release_pressTime 22_24|release_pressTime 22_25|release_pressTime 23_24|release_pressTime 23_25|release_pressTime 23_26|release_pressTime 24_25|release_pressTime 24_26|release_pressTime 25_26|Press_ReleaseTime 1_2|Press_ReleaseTime 1_3|Press_ReleaseTime 1_4|Press_ReleaseTime 2_3|Press_ReleaseTime 2_4|Press_ReleaseTime 2_5|Press_ReleaseTime 3_4|Press_ReleaseTime 3_5|Press_ReleaseTime 3_6|Press_ReleaseTime 4_5|Press_ReleaseTime 4_6|Press_ReleaseTime 4_7|Press_ReleaseTime 5_6|Press_ReleaseTime 5_7|Press_ReleaseTime 5_8|Press_ReleaseTime 6_7|Press_ReleaseTime 6_8|Press_ReleaseTime 6_9|Press_ReleaseTime 7_8|Press_ReleaseTime 7_9|Press_ReleaseTime 7_10|Press_ReleaseTime 8_9|Press_ReleaseTime 8_10|Press_ReleaseTime 8_11|Press_ReleaseTime 9_10|Press_ReleaseTime 9_11|Press_ReleaseTime 9_12|Press_ReleaseTime 10_11|Press_ReleaseTime 10_12|Press_ReleaseTime 10_13|Press_ReleaseTime 11_12|Press_ReleaseTime 11_13|Press_ReleaseTime 11_14|Press_ReleaseTime 12_13|Press_ReleaseTime 12_14|Press_ReleaseTime 12_15|Press_ReleaseTime 13_14|Press_ReleaseTime 13_15|Press_ReleaseTime 13_16|Press_ReleaseTime 14_15|Press_ReleaseTime 14_16|Press_ReleaseTime 14_17|Press_ReleaseTime 15_16|Press_ReleaseTime 15_17|Press_ReleaseTime 15_18|Press_ReleaseTime 16_17|Press_ReleaseTime 16_18|Press_ReleaseTime 16_19|Press_ReleaseTime 17_18|Press_ReleaseTime 17_19|Press_ReleaseTime 17_20|Press_ReleaseTime 18_19|Press_ReleaseTime 18_20|Press_ReleaseTime 18_21|Press_ReleaseTime 19_20|Press_ReleaseTime 19_21|Press_ReleaseTime 19_22|Press_ReleaseTime 20_21|Press_ReleaseTime 20_22|Press_ReleaseTime 20_23|Press_ReleaseTime 21_22|Press_ReleaseTime 21_23|Press_ReleaseTime 21_24|Press_ReleaseTime 22_23|Press_ReleaseTime 22_24|Press_ReleaseTime 22_25|Press_ReleaseTime 23_24|Press_ReleaseTime 23_25|Press_ReleaseTime 23_26|Press_ReleaseTime 24_25|Press_ReleaseTime 24_26|Press_ReleaseTime 25_26|Press_PressTime 1_2|Press_PressTime 1_3|Press_PressTime 1_4|Press_PressTime 2_3|Press_PressTime 2_4|Press_PressTime 2_5|Press_PressTime 3_4|Press_PressTime 3_5|Press_PressTime 3_6|Press_PressTime 4_5|Press_PressTime 4_6|Press_PressTime 4_7|Press_PressTime 5_6|Press_PressTime 5_7|Press_PressTime 5_8|Press_PressTime 6_7|Press_PressTime 6_8|Press_PressTime 6_9|Press_PressTime 7_8|Press_PressTime 7_9|Press_PressTime 7_10|Press_PressTime 8_9|Press_PressTime 8_10|Press_PressTime 8_11|Press_PressTime 9_10|Press_PressTime 9_11|Press_PressTime 9_12|Press_PressTime 10_11|Press_PressTime 10_12|Press_PressTime 10_13|Press_PressTime 11_12|Press_PressTime 11_13|Press_PressTime 11_14|Press_PressTime 12_13|Press_PressTime 12_14|Press_PressTime 12_15|Press_PressTime 13_14|Press_PressTime 13_15|Press_PressTime 13_16|Press_PressTime 14_15|Press_PressTime 14_16|Press_PressTime 14_17|Press_PressTime 15_16|Press_PressTime 15_17|Press_PressTime 15_18|Press_PressTime 16_17|Press_PressTime 16_18|Press_PressTime 16_19|Press_PressTime 17_18|Press_PressTime 17_19|Press_PressTime 17_20|Press_PressTime 18_19|Press_PressTime 18_20|Press_PressTime 18_21|Press_PressTime 19_20|Press_PressTime 19_21|Press_PressTime 19_22|Press_PressTime 20_21|Press_PressTime 20_22|Press_PressTime 20_23|Press_PressTime 21_22|Press_PressTime 21_23|Press_PressTime 21_24|Press_PressTime 22_23|Press_PressTime 22_24|Press_PressTime 22_25|Press_PressTime 23_24|Press_PressTime 23_25|Press_PressTime 23_26|Press_PressTime 24_25|Press_PressTime 24_26|Press_PressTime 25_26|Release_ReleaseTime 1_2|Release_ReleaseTime 1_3|Release_ReleaseTime 1_4|Release_ReleaseTime 2_3|Release_ReleaseTime 2_4|Release_ReleaseTime 2_5|Release_ReleaseTime 3_4|Release_ReleaseTime 3_5|Release_ReleaseTime 3_6|Release_ReleaseTime 4_5|Release_ReleaseTime 4_6|Release_ReleaseTime 4_7|Release_ReleaseTime 5_6|Release_ReleaseTime 5_7|Release_ReleaseTime 5_8|Release_ReleaseTime 6_7|Release_ReleaseTime 6_8|Release_ReleaseTime 6_9|Release_ReleaseTime 7_8|Release_ReleaseTime 7_9|Release_ReleaseTime 7_10|Release_ReleaseTime 8_9|Release_ReleaseTime 8_10|Release_ReleaseTime 8_11|Release_ReleaseTime 9_10|Release_ReleaseTime 9_11|Release_ReleaseTime 9_12|Release_ReleaseTime 10_11|Release_ReleaseTime 10_12|Release_ReleaseTime 10_13|Release_ReleaseTime 11_12|Release_ReleaseTime 11_13|Release_ReleaseTime 11_14|Release_ReleaseTime 12_13|Release_ReleaseTime 12_14|Release_ReleaseTime 12_15|Release_ReleaseTime 13_14|Release_ReleaseTime 13_15|Release_ReleaseTime 13_16|Release_ReleaseTime 14_15|Release_ReleaseTime 14_16|Release_ReleaseTime 14_17|Release_ReleaseTime 15_16|Release_ReleaseTime 15_17|Release_ReleaseTime 15_18|Release_ReleaseTime 16_17|Release_ReleaseTime 16_18|Release_ReleaseTime 16_19|Release_ReleaseTime 17_18|Release_ReleaseTime 17_19|Release_ReleaseTime 17_20|Release_ReleaseTime 18_19|Release_ReleaseTime 18_20|Release_ReleaseTime 18_21|Release_ReleaseTime 19_20|Release_ReleaseTime 19_21|Release_ReleaseTime 19_22|Release_ReleaseTime 20_21|Release_ReleaseTime 20_22|Release_ReleaseTime 20_23|Release_ReleaseTime 21_22|Release_ReleaseTime 21_23|Release_ReleaseTime 21_24|Release_ReleaseTime 22_23|Release_ReleaseTime 22_24|Release_ReleaseTime 22_25|Release_ReleaseTime 23_24|Release_ReleaseTime 23_25|Release_ReleaseTime 23_26|Release_ReleaseTime 24_25|Release_ReleaseTime 24_26|Release_ReleaseTime 25_26|              Size 1|              Size 2|              Size 3|              Size 4|              Size 5|              Size 6|              Size 7|              Size 8|              Size 9|             Size 10|             Size 11|             Size 12|             Size 13|             Size 14|             Size 15|             Size 16|             Size 17|             Size 18|             Size 19|             Size 20|             Size 21|             Size 22|             Size 23|             Size 24|             Size 25|             Size 26|            Acc_X 1|            Acc_X 2|            Acc_X 3|            Acc_X 4|            Acc_X 5|            Acc_X 6|            Acc_X 7|            Acc_X 8|            Acc_X 9|           Acc_X 10|           Acc_X 11|           Acc_X 12|           Acc_X 13|           Acc_X 14|           Acc_X 15|           Acc_X 16|           Acc_X 17|           Acc_X 18|           Acc_X 19|           Acc_X 20|           Acc_X 21|           Acc_X 22|           Acc_X 23|           Acc_X 24|           Acc_X 25|           Acc_X 26|           Acc_Y 1|           Acc_Y 2|           Acc_Y 3|           Acc_Y 4|           Acc_Y 5|           Acc_Y 6|           Acc_Y 7|           Acc_Y 8|           Acc_Y 9|          Acc_Y 10|          Acc_Y 11|          Acc_Y 12|          Acc_Y 13|          Acc_Y 14|          Acc_Y 15|          Acc_Y 16|          Acc_Y 17|          Acc_Y 18|          Acc_Y 19|          Acc_Y 20|          Acc_Y 21|          Acc_Y 22|          Acc_Y 23|          Acc_Y 24|          Acc_Y 25|          Acc_Y 26|          Acc_Z 1|          Acc_Z 2|          Acc_Z 3|          Acc_Z 4|          Acc_Z 5|          Acc_Z 6|          Acc_Z 7|          Acc_Z 8|          Acc_Z 9|         Acc_Z 10|         Acc_Z 11|          Acc_Z 12|         Acc_Z 13|         Acc_Z 14|         Acc_Z 15|         Acc_Z 16|         Acc_Z 17|         Acc_Z 18|         Acc_Z 19|         Acc_Z 20|         Acc_Z 21|         Acc_Z 22|         Acc_Z 23|         Acc_Z 24|         Acc_Z 25|         Acc_Z 26|        Gravity_X 1|        Gravity_X 2|        Gravity_X 3|        Gravity_X 4|        Gravity_X 5|        Gravity_X 6|        Gravity_X 7|        Gravity_X 8|        Gravity_X 9|       Gravity_X 10|       Gravity_X 11|       Gravity_X 12|       Gravity_X 13|       Gravity_X 14|       Gravity_X 15|       Gravity_X 16|       Gravity_X 17|       Gravity_X 18|       Gravity_X 19|       Gravity_X 20|       Gravity_X 21|       Gravity_X 22|       Gravity_X 23|       Gravity_X 24|       Gravity_X 25|       Gravity_X 26|       Gravity_Y 1|      Gravity_Y 2|       Gravity_Y 3|       Gravity_Y 4|       Gravity_Y 5|       Gravity_Y 6|       Gravity_Y 7|       Gravity_Y 8|       Gravity_Y 9|      Gravity_Y 10|      Gravity_Y 11|      Gravity_Y 12|      Gravity_Y 13|      Gravity_Y 14|      Gravity_Y 15|      Gravity_Y 16|      Gravity_Y 17|      Gravity_Y 18|      Gravity_Y 19|      Gravity_Y 20|      Gravity_Y 21|      Gravity_Y 22|      Gravity_Y 23|      Gravity_Y 24|      Gravity_Y 25|      Gravity_Y 26|      Gravity_Z 1|      Gravity_Z 2|      Gravity_Z 3|      Gravity_Z 4|      Gravity_Z 5|      Gravity_Z 6|      Gravity_Z 7|      Gravity_Z 8|      Gravity_Z 9|     Gravity_Z 10|     Gravity_Z 11|     Gravity_Z 12|     Gravity_Z 13|     Gravity_Z 14|     Gravity_Z 15|     Gravity_Z 16|     Gravity_Z 17|     Gravity_Z 18|     Gravity_Z 19|     Gravity_Z 20|     Gravity_Z 21|     Gravity_Z 22|     Gravity_Z 23|     Gravity_Z 24|     Gravity_Z 25|     Gravity_Z 26|          Gyros_X 1|          Gyros_X 2|          Gyros_X 3|          Gyros_X 4|          Gyros_X 5|          Gyros_X 6|          Gyros_X 7|          Gyros_X 8|          Gyros_X 9|         Gyros_X 10|         Gyros_X 11|         Gyros_X 12|         Gyros_X 13|         Gyros_X 14|         Gyros_X 15|         Gyros_X 16|         Gyros_X 17|         Gyros_X 18|         Gyros_X 19|         Gyros_X 20|         Gyros_X 21|         Gyros_X 22|         Gyros_X 23|         Gyros_X 24|         Gyros_X 25|        Gyros_X 26|          Gyros_Y 1|          Gyros_Y 2|          Gyros_Y 3|         Gyros_Y 4|          Gyros_Y 5|          Gyros_Y 6|          Gyros_Y 7|          Gyros_Y 8|          Gyros_Y 9|        Gyros_Y 10|         Gyros_Y 11|         Gyros_Y 12|         Gyros_Y 13|         Gyros_Y 14|         Gyros_Y 15|         Gyros_Y 16|         Gyros_Y 17|         Gyros_Y 18|         Gyros_Y 19|         Gyros_Y 20|         Gyros_Y 21|        Gyros_Y 22|         Gyros_Y 23|         Gyros_Y 24|        Gyros_Y 25|         Gyros_Y 26|          Gyros_Z 1|          Gyros_Z 2|          Gyros_Z 3|          Gyros_Z 4|          Gyros_Z 5|          Gyros_Z 6|          Gyros_Z 7|          Gyros_Z 8|          Gyros_Z 9|        Gyros_Z 10|         Gyros_Z 11|         Gyros_Z 12|         Gyros_Z 13|         Gyros_Z 14|        Gyros_Z 15|         Gyros_Z 16|         Gyros_Z 17|         Gyros_Z 18|        Gyros_Z 19|         Gyros_Z 20|         Gyros_Z 21|         Gyros_Z 22|         Gyros_Z 23|         Gyros_Z 24|         Gyros_Z 25|         Gyros_Z 26|        Lin_Acc_X 1|        Lin_Acc_X 2|        Lin_Acc_X 3|        Lin_Acc_X 4|        Lin_Acc_X 5|        Lin_Acc_X 6|        Lin_Acc_X 7|        Lin_Acc_X 8|       Lin_Acc_X 9|       Lin_Acc_X 10|       Lin_Acc_X 11|       Lin_Acc_X 12|       Lin_Acc_X 13|       Lin_Acc_X 14|       Lin_Acc_X 15|       Lin_Acc_X 16|       Lin_Acc_X 17|       Lin_Acc_X 18|       Lin_Acc_X 19|       Lin_Acc_X 20|      Lin_Acc_X 21|       Lin_Acc_X 22|       Lin_Acc_X 23|       Lin_Acc_X 24|       Lin_Acc_X 25|       Lin_Acc_X 26|        Lin_Acc_Y 1|        Lin_Acc_Y 2|        Lin_Acc_Y 3|        Lin_Acc_Y 4|        Lin_Acc_Y 5|        Lin_Acc_Y 6|        Lin_Acc_Y 7|        Lin_Acc_Y 8|        Lin_Acc_Y 9|       Lin_Acc_Y 10|       Lin_Acc_Y 11|       Lin_Acc_Y 12|       Lin_Acc_Y 13|      Lin_Acc_Y 14|       Lin_Acc_Y 15|       Lin_Acc_Y 16|       Lin_Acc_Y 17|       Lin_Acc_Y 18|       Lin_Acc_Y 19|       Lin_Acc_Y 20|      Lin_Acc_Y 21|       Lin_Acc_Y 22|       Lin_Acc_Y 23|       Lin_Acc_Y 24|       Lin_Acc_Y 25|       Lin_Acc_Y 26|        Lin_Acc_Z 1|       Lin_Acc_Z 2|       Lin_Acc_Z 3|        Lin_Acc_Z 4|        Lin_Acc_Z 5|        Lin_Acc_Z 6|        Lin_Acc_Z 7|        Lin_Acc_Z 8|        Lin_Acc_Z 9|      Lin_Acc_Z 10|       Lin_Acc_Z 11|       Lin_Acc_Z 12|       Lin_Acc_Z 13|       Lin_Acc_Z 14|       Lin_Acc_Z 15|      Lin_Acc_Z 16|       Lin_Acc_Z 17|       Lin_Acc_Z 18|       Lin_Acc_Z 19|       Lin_Acc_Z 20|       Lin_Acc_Z 21|       Lin_Acc_Z 22|       Lin_Acc_Z 23|       Lin_Acc_Z 24|       Lin_Acc_Z 25|       Lin_Acc_Z 26|      Rot_Vect_X 1|      Rot_Vect_X 2|      Rot_Vect_X 3|      Rot_Vect_X 4|      Rot_Vect_X 5|      Rot_Vect_X 6|      Rot_Vect_X 7|      Rot_Vect_X 8|      Rot_Vect_X 9|     Rot_Vect_X 10|     Rot_Vect_X 11|     Rot_Vect_X 12|     Rot_Vect_X 13|     Rot_Vect_X 14|     Rot_Vect_X 15|     Rot_Vect_X 16|     Rot_Vect_X 17|     Rot_Vect_X 18|     Rot_Vect_X 19|     Rot_Vect_X 20|     Rot_Vect_X 21|     Rot_Vect_X 22|     Rot_Vect_X 23|     Rot_Vect_X 24|     Rot_Vect_X 25|     Rot_Vect_X 26|       Rot_Vect_Y 1|       Rot_Vect_Y 2|       Rot_Vect_Y 3|       Rot_Vect_Y 4|       Rot_Vect_Y 5|       Rot_Vect_Y 6|       Rot_Vect_Y 7|       Rot_Vect_Y 8|       Rot_Vect_Y 9|      Rot_Vect_Y 10|      Rot_Vect_Y 11|      Rot_Vect_Y 12|      Rot_Vect_Y 13|      Rot_Vect_Y 14|      Rot_Vect_Y 15|      Rot_Vect_Y 16|      Rot_Vect_Y 17|      Rot_Vect_Y 18|      Rot_Vect_Y 19|      Rot_Vect_Y 20|      Rot_Vect_Y 21|      Rot_Vect_Y 22|      Rot_Vect_Y 23|      Rot_Vect_Y 24|      Rot_Vect_Y 25|      Rot_Vect_Y 26|       Rot_Vect_Z 1|       Rot_Vect_Z 2|       Rot_Vect_Z 3|       Rot_Vect_Z 4|       Rot_Vect_Z 5|       Rot_Vect_Z 6|       Rot_Vect_Z 7|       Rot_Vect_Z 8|       Rot_Vect_Z 9|      Rot_Vect_Z 10|      Rot_Vect_Z 11|      Rot_Vect_Z 12|      Rot_Vect_Z 13|      Rot_Vect_Z 14|      Rot_Vect_Z 15|      Rot_Vect_Z 16|      Rot_Vect_Z 17|      Rot_Vect_Z 18|      Rot_Vect_Z 19|      Rot_Vect_Z 20|      Rot_Vect_Z 21|      Rot_Vect_Z 22|      Rot_Vect_Z 23|      Rot_Vect_Z 24|      Rot_Vect_Z 25|      Rot_Vect_Z 26|         Pressure 1|         Pressure 2|         Pressure 3|         Pressure 4|         Pressure 5|         Pressure 6|         Pressure 7|         Pressure 8|         Pressure 9|        Pressure 10|       Pressure 11|        Pressure 12|        Pressure 13|        Pressure 14|       Pressure 15|        Pressure 16|        Pressure 17|        Pressure 18|        Pressure 19|        Pressure 20|        Pressure 21|       Pressure 22|        Pressure 23|        Pressure 24|        Pressure 25|        Pressure 26|X_coordinate 1|X_coordinate 2|   X_coordinate 3|   X_coordinate 4|X_coordinate 5|X_coordinate 6|   X_coordinate 7|X_coordinate 8|   X_coordinate 9|X_coordinate 10|X_coordinate 11|X_coordinate 12|X_coordinate 13|X_coordinate 14|X_coordinate 15|  X_coordinate 16|X_coordinate 17|X_coordinate 18|X_coordinate 19|X_coordinate 20|X_coordinate 21|X_coordinate 22| X_coordinate 23|X_coordinate 24|X_coordinate 25|X_coordinate 26|Y_coordinate 1|Y_coordinate 2|   Y_coordinate 3|   Y_coordinate 4|Y_coordinate 5|Y_coordinate 6|   Y_coordinate 7|Y_coordinate 8|  Y_coordinate 9|Y_coordinate 10|Y_coordinate 11|Y_coordinate 12|Y_coordinate 13|Y_coordinate 14|Y_coordinate 15|  Y_coordinate 16|Y_coordinate 17|Y_coordinate 18|Y_coordinate 19|Y_coordinate 20|Y_coordinate 21|Y_coordinate 22|  Y_coordinate 23|Y_coordinate 24|Y_coordinate 25|Y_coordinate 26|       distance 1|       distance 2|distance 3|        distance 4|       distance 5|        distance 6|        distance 7|       distance 8|       distance 9|       distance 10|       distance 11|      distance 12|       distance 13|       distance 14|       distance 15|       distance 16|      distance 17|      distance 18|       distance 19|       distance 20|       distance 21|       distance 22|      distance 23|      distance 24|      distance 25|TotalTime|            MeanSize|            MeanACCX|          MeanACCY|         MeanACCZ|           MeanGravX|        MeanGravY|        MeanGravZ|           MeanGyroX|           MeanGyroY|           MeanGyroZ|         MeanLinAccX|         MeanLinAccY|         MeanLinAccZ|        MeanRotvetX|         MeanRotvetY|         MeanRotvetZ|      MeanPressure|         UserID|\n",
            "+----------+----------+----------+----------+----------+----------+----------+----------+----------+-----------+-----------+-----------+-----------+-----------+-----------+-----------+-----------+-----------+-----------+-----------+-----------+-----------+-----------+-----------+-----------+-----------+---------------------+---------------------+---------------------+---------------------+---------------------+---------------------+---------------------+---------------------+---------------------+---------------------+---------------------+---------------------+---------------------+---------------------+---------------------+---------------------+---------------------+---------------------+---------------------+---------------------+----------------------+---------------------+----------------------+----------------------+----------------------+----------------------+----------------------+-----------------------+-----------------------+-----------------------+-----------------------+-----------------------+-----------------------+-----------------------+-----------------------+-----------------------+-----------------------+-----------------------+-----------------------+-----------------------+-----------------------+-----------------------+-----------------------+-----------------------+-----------------------+-----------------------+-----------------------+-----------------------+-----------------------+-----------------------+-----------------------+-----------------------+-----------------------+-----------------------+-----------------------+-----------------------+-----------------------+-----------------------+-----------------------+-----------------------+-----------------------+-----------------------+-----------------------+-----------------------+-----------------------+-----------------------+-----------------------+-----------------------+-----------------------+-----------------------+-----------------------+-----------------------+---------------------+---------------------+---------------------+---------------------+---------------------+---------------------+---------------------+---------------------+---------------------+---------------------+---------------------+---------------------+---------------------+---------------------+---------------------+---------------------+---------------------+---------------------+---------------------+---------------------+----------------------+---------------------+----------------------+----------------------+----------------------+----------------------+----------------------+-----------------------+-----------------------+-----------------------+-----------------------+-----------------------+-----------------------+-----------------------+-----------------------+-----------------------+-----------------------+-----------------------+-----------------------+-----------------------+-----------------------+-----------------------+-----------------------+-----------------------+-----------------------+-----------------------+-----------------------+-----------------------+-----------------------+-----------------------+-----------------------+-----------------------+-----------------------+-----------------------+-----------------------+-----------------------+-----------------------+-----------------------+-----------------------+-----------------------+-----------------------+-----------------------+-----------------------+-----------------------+-----------------------+-----------------------+-----------------------+-----------------------+-----------------------+-----------------------+-----------------------+-----------------------+-------------------+-------------------+-------------------+-------------------+-------------------+-------------------+-------------------+-------------------+-------------------+-------------------+-------------------+-------------------+-------------------+-------------------+-------------------+-------------------+-------------------+-------------------+-------------------+-------------------+--------------------+-------------------+--------------------+--------------------+--------------------+--------------------+--------------------+---------------------+---------------------+---------------------+---------------------+---------------------+---------------------+---------------------+---------------------+---------------------+---------------------+---------------------+---------------------+---------------------+---------------------+---------------------+---------------------+---------------------+---------------------+---------------------+---------------------+---------------------+---------------------+---------------------+---------------------+---------------------+---------------------+---------------------+---------------------+---------------------+---------------------+---------------------+---------------------+---------------------+---------------------+---------------------+---------------------+---------------------+---------------------+---------------------+---------------------+---------------------+---------------------+---------------------+---------------------+---------------------+-----------------------+-----------------------+-----------------------+-----------------------+-----------------------+-----------------------+-----------------------+-----------------------+-----------------------+-----------------------+-----------------------+-----------------------+-----------------------+-----------------------+-----------------------+-----------------------+-----------------------+-----------------------+-----------------------+-----------------------+------------------------+-----------------------+------------------------+------------------------+------------------------+------------------------+------------------------+-------------------------+-------------------------+-------------------------+-------------------------+-------------------------+-------------------------+-------------------------+-------------------------+-------------------------+-------------------------+-------------------------+-------------------------+-------------------------+-------------------------+-------------------------+-------------------------+-------------------------+-------------------------+-------------------------+-------------------------+-------------------------+-------------------------+-------------------------+-------------------------+-------------------------+-------------------------+-------------------------+-------------------------+-------------------------+-------------------------+-------------------------+-------------------------+-------------------------+-------------------------+-------------------------+-------------------------+-------------------------+-------------------------+-------------------------+-------------------------+-------------------------+-------------------------+-------------------------+-------------------------+-------------------------+--------------------+--------------------+--------------------+--------------------+--------------------+--------------------+--------------------+--------------------+--------------------+--------------------+--------------------+--------------------+--------------------+--------------------+--------------------+--------------------+--------------------+--------------------+--------------------+--------------------+--------------------+--------------------+--------------------+--------------------+--------------------+--------------------+-------------------+-------------------+-------------------+-------------------+-------------------+-------------------+-------------------+-------------------+-------------------+-------------------+-------------------+-------------------+-------------------+-------------------+-------------------+-------------------+-------------------+-------------------+-------------------+-------------------+-------------------+-------------------+-------------------+-------------------+-------------------+-------------------+------------------+------------------+------------------+------------------+------------------+------------------+------------------+------------------+------------------+------------------+------------------+------------------+------------------+------------------+------------------+------------------+------------------+------------------+------------------+------------------+------------------+------------------+------------------+------------------+------------------+------------------+-----------------+-----------------+-----------------+-----------------+-----------------+-----------------+-----------------+-----------------+-----------------+-----------------+-----------------+------------------+-----------------+-----------------+-----------------+-----------------+-----------------+-----------------+-----------------+-----------------+-----------------+-----------------+-----------------+-----------------+-----------------+-----------------+-------------------+-------------------+-------------------+-------------------+-------------------+-------------------+-------------------+-------------------+-------------------+-------------------+-------------------+-------------------+-------------------+-------------------+-------------------+-------------------+-------------------+-------------------+-------------------+-------------------+-------------------+-------------------+-------------------+-------------------+-------------------+-------------------+------------------+-----------------+------------------+------------------+------------------+------------------+------------------+------------------+------------------+------------------+------------------+------------------+------------------+------------------+------------------+------------------+------------------+------------------+------------------+------------------+------------------+------------------+------------------+------------------+------------------+------------------+-----------------+-----------------+-----------------+-----------------+-----------------+-----------------+-----------------+-----------------+-----------------+-----------------+-----------------+-----------------+-----------------+-----------------+-----------------+-----------------+-----------------+-----------------+-----------------+-----------------+-----------------+-----------------+-----------------+-----------------+-----------------+-----------------+-------------------+-------------------+-------------------+-------------------+-------------------+-------------------+-------------------+-------------------+-------------------+-------------------+-------------------+-------------------+-------------------+-------------------+-------------------+-------------------+-------------------+-------------------+-------------------+-------------------+-------------------+-------------------+-------------------+-------------------+-------------------+------------------+-------------------+-------------------+-------------------+------------------+-------------------+-------------------+-------------------+-------------------+-------------------+------------------+-------------------+-------------------+-------------------+-------------------+-------------------+-------------------+-------------------+-------------------+-------------------+-------------------+-------------------+------------------+-------------------+-------------------+------------------+-------------------+-------------------+-------------------+-------------------+-------------------+-------------------+-------------------+-------------------+-------------------+-------------------+------------------+-------------------+-------------------+-------------------+-------------------+------------------+-------------------+-------------------+-------------------+------------------+-------------------+-------------------+-------------------+-------------------+-------------------+-------------------+-------------------+-------------------+-------------------+-------------------+-------------------+-------------------+-------------------+-------------------+-------------------+------------------+-------------------+-------------------+-------------------+-------------------+-------------------+-------------------+-------------------+-------------------+-------------------+-------------------+-------------------+------------------+-------------------+-------------------+-------------------+-------------------+-------------------+-------------------+-------------------+-------------------+-------------------+-------------------+-------------------+-------------------+-------------------+-------------------+-------------------+-------------------+-------------------+-------------------+------------------+-------------------+-------------------+-------------------+-------------------+-------------------+-------------------+------------------+-------------------+-------------------+-------------------+-------------------+-------------------+-------------------+------------------+------------------+-------------------+-------------------+-------------------+-------------------+-------------------+-------------------+------------------+-------------------+-------------------+-------------------+-------------------+-------------------+------------------+-------------------+-------------------+-------------------+-------------------+-------------------+-------------------+-------------------+-------------------+-------------------+-------------------+------------------+------------------+------------------+------------------+------------------+------------------+------------------+------------------+------------------+------------------+------------------+------------------+------------------+------------------+------------------+------------------+------------------+------------------+------------------+------------------+------------------+------------------+------------------+------------------+------------------+------------------+-------------------+-------------------+-------------------+-------------------+-------------------+-------------------+-------------------+-------------------+-------------------+-------------------+-------------------+-------------------+-------------------+-------------------+-------------------+-------------------+-------------------+-------------------+-------------------+-------------------+-------------------+-------------------+-------------------+-------------------+-------------------+-------------------+-------------------+-------------------+-------------------+-------------------+-------------------+-------------------+-------------------+-------------------+-------------------+-------------------+-------------------+-------------------+-------------------+-------------------+-------------------+-------------------+-------------------+-------------------+-------------------+-------------------+-------------------+-------------------+-------------------+-------------------+-------------------+-------------------+-------------------+-------------------+-------------------+-------------------+-------------------+-------------------+-------------------+-------------------+-------------------+-------------------+------------------+-------------------+-------------------+-------------------+------------------+-------------------+-------------------+-------------------+-------------------+-------------------+-------------------+------------------+-------------------+-------------------+-------------------+-------------------+--------------+--------------+-----------------+-----------------+--------------+--------------+-----------------+--------------+-----------------+---------------+---------------+---------------+---------------+---------------+---------------+-----------------+---------------+---------------+---------------+---------------+---------------+---------------+----------------+---------------+---------------+---------------+--------------+--------------+-----------------+-----------------+--------------+--------------+-----------------+--------------+----------------+---------------+---------------+---------------+---------------+---------------+---------------+-----------------+---------------+---------------+---------------+---------------+---------------+---------------+-----------------+---------------+---------------+---------------+-----------------+-----------------+----------+------------------+-----------------+------------------+------------------+-----------------+-----------------+------------------+------------------+-----------------+------------------+------------------+------------------+------------------+-----------------+-----------------+------------------+------------------+------------------+------------------+-----------------+-----------------+-----------------+---------+--------------------+--------------------+------------------+-----------------+--------------------+-----------------+-----------------+--------------------+--------------------+--------------------+--------------------+--------------------+--------------------+-------------------+--------------------+--------------------+------------------+---------------+\n",
            "|       113|       105|       113|         3|       113|        91|       112|        91|       135|         91|         89|         91|        105|        128|        149|         98|        106|         54|          2|         91|        119|         97|         83|        105|        112|        111|                 1203|                 1619|                 2399|                  311|                 1091|                 2017|                  667|                 1593|                 1894|                  923|                 1224|                 2179|                  188|                 1143|                 1725|                  864|                 1446|                 2411|                  470|                 1435|                  1655|                  874|                  1094|                  2853|                    85|                  1844|                  2221|                   1668|                   2045|                   2917|                    288|                   1160|                   1570|                    781|                   1191|                   3061|                    305|                   2175|                   2588|                   1742|                   2155|                   2358|                    264|                    467|                    937|                    105|                    575|                   2089|                    364|                   1878|                   2470|                   1460|                   2052|                   2401|                    590|                    939|                   1337|                    258|                    656|                   1124|                    279|                    747|                   1127|                    371|                    751|                   1820|                    297|                   1366|                   2652|                    964|                   2250|                   1174|                 1421|                 1845|                 2515|                  529|                 1199|                 2235|                  783|                 1819|                 2098|                 1039|                 1318|                 2294|                  392|                 1368|                 1929|                 1067|                 1628|                 2637|                  673|                 1682|                  1858|                 1100|                  1276|                  3033|                   311|                  2068|                  2447|                   1848|                   2227|                   3113|                    468|                   1354|                   1787|                    977|                   1410|                   3301|                    538|                   2429|                   2791|                   2019|                   2381|                   2592|                    511|                    722|                   1140|                    309|                    727|                   2189|                    524|                   1986|                   2667|                   1516|                   2197|                   2574|                    683|                   1060|                   1436|                    468|                    844|                   1298|                    495|                    949|                   1351|                    551|                    953|                   2029|                    485|                   1561|                   2846|                   1181|                   2466|                   1397|               1316|               1732|               2512|                416|               1196|               2122|                780|               1706|               2007|                926|               1227|               2182|                301|               1256|               1838|                955|               1537|               2502|                582|               1547|                1767|                965|                1185|                2944|                 220|                1979|                2356|                 1759|                 2136|                 3008|                  377|                 1249|                 1659|                  872|                 1282|                 3152|                  410|                 2280|                 2693|                 1870|                 2283|                 2486|                  413|                  616|                 1086|                  203|                  673|                 2187|                  470|                 1984|                 2576|                 1514|                 2106|                 2455|                  592|                  941|                 1339|                  349|                  747|                 1215|                  398|                  866|                 1246|                  468|                  848|                 1917|                  380|                 1449|                 2735|                 1069|                 2355|                 1286|                   1308|                   1732|                   2402|                    424|                   1094|                   2130|                    670|                   1706|                   1985|                   1036|                   1315|                   2291|                    279|                   1255|                   1816|                    976|                   1537|                   2546|                    561|                   1570|                    1746|                   1009|                    1185|                    2942|                     176|                    1933|                    2312|                     1757|                     2136|                     3022|                      379|                     1265|                     1698|                      886|                     1319|                     3210|                      433|                     2324|                     2686|                     1891|                     2253|                     2464|                      362|                      573|                      991|                      211|                      629|                     2091|                      418|                     1880|                     2561|                     1462|                     2143|                     2520|                      681|                     1058|                     1434|                      377|                      753|                     1207|                      376|                      830|                     1232|                      454|                      856|                     1932|                      402|                     1478|                     2763|                     1076|                     2361|                     1285|0.007843137718737125|0.003921568859368...|0.003921568859368...| 0.01568627543747425|0.003921568859368...|0.007843137718737125| 0.01568627543747425|0.003921568859368...| 0.01960784383118153| 0.02352941408753395| 0.01568627543747425|0.011764707043766977|0.007843137718737125|0.011764707043766977| 0.01568627543747425|0.007843137718737125|0.007843137718737125| 0.01568627543747425| 0.01568627543747425|0.003921568859368...|0.007843137718737125| 0.01568627543747425|0.003921568859368...|0.007843137718737125|0.007843137718737125|0.007843137718737125|  -1.47210693359375|-0.2552642822265625| 0.8451385498046875|  0.195953369140625| 0.4809722900390625|-0.5186309814453125|-0.9553680419921876|-0.3916473388671875|   0.95782470703125|  0.164276123046875| -0.869171142578125| -0.604583740234375| -0.469024658203125|   -0.0250244140625|-0.8270721435546875| -0.524261474609375| -0.762664794921875| -0.560333251953125|    0.1070556640625| -0.491790771484375|-0.0914764404296875|   -0.2655029296875|-0.8437042236328125|-0.7671661376953125|-0.8340911865234375|  0.164520263671875|5.5543060302734375|4.5187530517578125|          4.078125|  4.30853271484375| 4.016128540039063| 4.454193115234375|4.5478057861328125| 4.403167724609375| 4.665374755859375| 4.386322021484375|    4.727294921875|       4.447265625|4.1682891845703125|   4.3885498046875|4.4921722412109375|4.4049835205078125| 4.135284423828125| 4.527923583984375|3.9968109130859375| 4.392608642578125|  4.27362060546875| 4.430587768554688|4.3417816162109375|   4.2286376953125|4.7849884033203125| 4.282135009765625|8.393630981445312|9.411041259765623|   8.955322265625|9.005722045898438|8.385665893554688|9.400299072265623|9.690826416015623|9.054702758789062|8.882064819335938|9.051651000976562|  9.0955810546875| 8.825607299804688|8.569839477539062|   9.018798828125|9.110366821289062|8.912628173828125|  9.0101318359375|9.242034912109377|9.085174560546877| 9.26104736328125|8.835830688476562| 9.51239013671875|8.947006225585938|9.633926391601562|9.387130737304688|8.826919555664062| -0.634002685546875|   0.24884033203125| 0.9814605712890624|     0.013916015625| 0.4102935791015625|    -0.271728515625|-0.6567535400390625|  -0.29522705078125|  0.732025146484375| 0.2886505126953125|   -0.6082763671875|   -0.4512939453125|-0.5265655517578125|  -0.26275634765625| -0.757904052734375|     -0.54736328125|-0.5620269775390625|-0.4279632568359375|  -0.02093505859375|-0.2840118408203125|   0.07720947265625|      -0.1650390625|  -0.65301513671875|   -0.2843017578125|  -0.82269287109375| 0.0917205810546875|    4.972900390625|    4.05322265625| 4.115020751953125|  4.26226806640625|4.2242584228515625|  4.15362548828125|   4.1326904296875|4.1644134521484375| 4.316436767578125|4.2987823486328125| 4.553756713867188|    4.440185546875|       4.474609375|4.3869171142578125|4.4645843505859375|    4.414306640625|4.2772369384765625| 4.400238037109375|4.1498870849609375|4.3559417724609375|4.3189849853515625|  4.36761474609375| 4.382583618164063| 4.011932373046875|  4.59027099609375|4.1947784423828125|8.428329467773438| 8.92633056640625|    8.84716796875|8.831756591796875|   8.840576171875| 8.87933349609375|8.868865966796875|8.873504638671875|8.775039672851562|8.809310913085938|8.663864135742188|8.732101440429688|8.710250854492188| 8.76666259765625|8.698272705078125|8.739730834960938|8.806610107421875|8.753494262695312|8.885177612304688|8.781326293945312|8.803924560546875| 8.77862548828125|8.748397827148438|8.943832397460938|8.626754760742188|8.863632202148438|-0.1065216064453125| 0.0074615478515625| 0.1043853759765625|-0.0628509521484375|   0.06390380859375| 0.0468597412109375|-0.0031890869140625|   0.02874755859375|  0.105438232421875|  0.105438232421875|-0.0713653564453125|  -0.11505126953125|  -0.02557373046875| 0.0042572021484375|-0.0074615478515625|    0.0191650390625| 0.0117034912109375|-0.0298309326171875|        -0.10546875| 0.0457916259765625| 0.0202178955078125| -0.123565673828125| -0.123565673828125| 0.1022491455078125|        -0.10546875|   0.1512451171875|  -0.09588623046875|-0.0202484130859375| 0.0457916259765625|-0.083099365234375| 0.0905303955078125|   0.32061767578125| 0.1107635498046875| 0.1459197998046875|-0.0213165283203125|0.2950592041015625| -0.078826904296875|          -0.046875| 0.0766754150390625| -0.090545654296875| -0.160858154296875|-0.0852203369140625|-0.2918853759765625|  -0.01385498046875|-0.1661834716796875| -0.026641845703125| 0.1374053955078125|0.0191497802734375| 0.0883941650390625|  0.335540771484375|   0.2567138671875|     0.132080078125|  0.008514404296875|-0.0010528564453125| 0.0138397216796875| 0.0127716064453125|-0.0021209716796875|  0.008514404296875|  0.006378173828125| -0.006378173828125|    0.0308837890625| 0.031951904296875|-0.0031890869140625|                0.0| 0.0255584716796875| 0.0138397216796875|0.0042572021484375| 0.0042572021484375| 0.0607147216796875| 0.0042572021484375|-0.018096923828125|-0.0010528564453125|   0.00958251953125|  -0.05218505859375|  0.022369384765625| -0.031951904296875| 0.0053253173828125|-0.0042572021484375| -0.637298583984375| -0.476287841796875|-0.0980072021484375|    -0.236572265625|  0.075714111328125|        0.111328125|-0.0207977294921875| -0.114166259765625| 0.041290283203125|-0.1904754638671875|    0.1126708984375|-0.1208953857421875| 0.1027984619140625| -0.084381103515625|-0.3410186767578125| -0.115814208984375| -0.019744873046875|  -0.07720947265625|  0.310638427734375|   0.06134033203125|   0.1358642578125|   -0.1868896484375|-0.0341033935546875|  0.066436767578125|  -0.07989501953125|   0.04473876953125| 0.0285797119140625|-0.0094146728515625|    0.1729736328125|    0.1358642578125| 0.0158538818359375| 0.0529632568359375|  0.016448974609375| 0.2911834716796875| -0.090667724609375|  0.338775634765625|-0.0502777099609375| 0.3266448974609375|-0.0142059326171875|0.0207977294921875|-0.1238861083984375|-0.1023406982421875| 0.0347137451171875| -0.078704833984375| -0.024688720703125|-0.0918731689453125|  0.10308837890625|   0.08319091796875| 0.0778045654296875|    0.0318603515625|    0.2100830078125| -0.012115478515625|-0.3455047607421875| -0.17791748046875|0.2507781982421875|  0.045928955078125|-0.0778045654296875|  0.544219970703125| 1.5171661376953125| 0.1861419677734375|   0.13616943359375| 0.599884033203125| 0.1084747314453125|   0.22698974609375|-0.0097198486328125|  0.264251708984375|    0.3326416015625|-0.623382568359375| 0.1428985595703125|    0.0523681640625| 0.0595550537109375|-0.0712127685546875|  0.241363525390625|   0.33367919921875|  -0.18194580078125|     0.058349609375|  0.179107666015625| 0.2726287841796875|0.2230377197265625|0.1864776611328125| 0.172454833984375| 0.198883056640625| 0.191619873046875| 0.201202392578125|0.2178192138671875| 0.207794189453125|0.1864776611328125|0.1939544677734375|   0.2349853515625|0.2228240966796875|0.2267608642578125| 0.215606689453125| 0.230072021484375|    0.222412109375|0.2215423583984375|    0.222412109375|0.2044525146484375| 0.202301025390625| 0.202301025390625|0.2130584716796875|0.2201080322265625|0.2023773193359375|0.2304229736328125|0.1971282958984375|    -0.102294921875|-0.0980987548828125|  -0.13641357421875|     -0.08935546875|  -0.11090087890625|-0.0866851806640625|-0.0428924560546875| -0.072235107421875|-0.1310272216796875| -0.121551513671875|-0.0581207275390625|-0.0659332275390625|-0.0646209716796875|-0.0809173583984375|-0.0602264404296875| -0.060699462890625|-0.0609588623046875|       -0.068359375|-0.0809783935546875|   -0.0809326171875|   -0.0809326171875|-0.0795440673828125|-0.0550079345703125|  -0.06585693359375|-0.0525054931640625|-0.0902252197265625|-0.3742828369140625|-0.3946075439453125|  -0.40802001953125| -0.395477294921875| -0.395904541015625| -0.389801025390625|-0.3608856201171875|-0.3777923583984375|  -0.41424560546875|-0.4138641357421875|-0.3657379150390625| -0.373138427734375|  -0.37237548828125|   -0.3790283203125|   -0.3685302734375|  -0.37091064453125|-0.3686981201171875|-0.3713836669921875|  -0.38775634765625|-0.3885345458984375|-0.3885345458984375| -0.383087158203125|-0.3699188232421875|-0.3735198974609375|     -0.36669921875|-0.3945465087890625| 0.3499999940395355|0.30000001192092896|0.32500001788139343|                0.5|             0.3125|             0.3125|0.42500001192092896| 0.3375000059604645|              0.625| 0.7250000238418579|               0.5|0.42500001192092896| 0.3375000059604645|0.42500001192092896|0.6000000238418579|  0.550000011920929| 0.4000000059604645|0.42500001192092896| 0.4625000059604645|0.32500001788139343| 0.3375000059604645| 0.699999988079071|             0.3125|0.45000001788139343|0.30000001192092896|0.23749999701976776|         391.0|           923|            455.0|            455.0|         243.0|           962|            683.0|           834|            371.0|            930|          660.0|           1083|            516|          208.0|          689.0|           1099.0|         1214.0|            908|            908|          599.0|          202.0|          522.0|           674.0|           1227|          526.0|           60.0|         135.0|           797|            560.0|            560.0|         547.0|           315|            358.0|           556|           330.0|            764|          335.0|          339.0|            742|          536.0|          348.0|            303.0|          316.0|            756|            756|          537.0|          539.0|          766.0|            316.0|            332|            350|          748.0|849.2749849136028|524.5884100892813|       0.0| 212.3982109152523|755.5031436069607|282.29417280560364|249.00803199896987| 515.213547958514|707.6983820809539| 506.8934799343941|423.01891210677564|695.6277740286107| 370.5401462729781| 516.4348942509598| 412.4621194728069|115.73245007343445|535.9440269281858|              0.0| 378.7373760272413| 397.0050377514119|392.33786460141715| 474.9778942224575|553.2314163168971|701.2310603502957|612.8295032062343|    19002|0.010407240488208257|-0.33127476618840146|4.4213708730844345|9.057897714468151|-0.20722081111027646|4.326055673452524|8.783956674429088|-0.00242497370793...|  0.0335845947265625|0.005489642803485577|-0.06810525747445914| 0.05164043719951923| 0.15635035588191107|0.20955716646634612|-0.08066441462590145| -0.3825877262995793|0.4230769305275037|thabetsedghiani|\n",
            "|       106|        91|       136|         2|       119|        91|        82|        76|       158|         83|        113|         89|         97|        113|         83|         69|        115|         75|          2|         84|        121|         91|         89|        112|         38|        120|                 1676|                 1963|                 4564|                  196|                 2797|                 3556|                 2465|                 3224|                 3566|                  757|                 1099|                 2528|                  223|                 1652|                 2098|                 1338|                 1784|                 2066|                  364|                  646|                   937|                  206|                   497|                  1645|                   133|                  1281|                  2021|                   1065|                   1805|                   3241|                    627|                   2063|                   2369|                   1347|                   1653|                   2126|                    209|                    682|                   2006|                    360|                   1684|                   1906|                   1241|                   1463|                   1982|                    153|                    672|                   3841|                    404|                   3573|                   4299|                   3094|                   3820|                   4126|                    724|                   1030|                   2230|                    222|                   1422|                   1753|                   1079|                   1410|                   1837|                    240|                    667|                   1429|                    338|                   1100|                   1730|                    650|                   1280|                    592|                 1873|                 2205|                 4672|                  423|                 2890|                 3766|                 2603|                 3479|                 3793|                  878|                 1192|                 2612|                  433|                 1853|                 2293|                 1511|                 1951|                 2315|                  522|                  886|                  1102|                  440|                   656|                  1834|                   374|                  1552|                  2268|                   1261|                   1977|                   3421|                    829|                   2273|                   2595|                   1533|                   1855|                   2298|                    419|                    862|                   2172|                    556|                   1866|                   2134|                   1393|                   1661|                   2140|                    337|                    816|                   3912|                    594|                   3690|                   4498|                   3171|                   3979|                   4322|                    810|                   1153|                   2323|                    427|                   1597|                   1926|                   1291|                   1620|                   2070|                    420|                    870|                   1558|                    539|                   1227|                   1939|                    800|                   1512|                    750|               1782|               2069|               4670|                287|               2888|               3647|               2601|               3360|               3702|                759|               1101|               2530|                342|               1771|               2217|               1429|               1875|               2157|                446|                728|                1019|                282|                 573|                1721|                 291|                1439|                2179|                 1148|                 1888|                 3324|                  740|                 2176|                 2482|                 1436|                 1742|                 2215|                  306|                  779|                 2103|                  473|                 1797|                 2019|                 1324|                 1546|                 2065|                  222|                  741|                 3910|                  519|                 3688|                 4414|                 3169|                 3895|                 4201|                  726|                 1032|                 2232|                  306|                 1506|                 1837|                 1200|                 1531|                 1958|                  331|                  758|                 1520|                  427|                 1189|                 1819|                  762|                 1392|                  630|                   1767|                   2099|                   4566|                    332|                   2799|                   3675|                   2467|                   3343|                   3657|                    876|                   1190|                   2610|                    314|                   1734|                   2174|                   1420|                   1860|                   2224|                    440|                    804|                    1020|                    364|                     580|                    1758|                     216|                    1394|                    2110|                     1178|                     1894|                     3338|                      716|                     2160|                     2482|                     1444|                     1766|                     2209|                      322|                      765|                     2075|                      443|                     1753|                     2021|                     1310|                     1578|                     2057|                      268|                      747|                     3843|                      479|                     3575|                     4383|                     3096|                     3904|                     4247|                      808|                     1151|                     2321|                      343|                     1513|                     1842|                     1170|                     1499|                     1949|                      329|                      779|                     1467|                      450|                     1138|                     1850|                      688|                     1400|                      712|0.011764707043766977|0.003921568859368...|0.003921568859368...| 0.01568627543747425| 0.01568627543747425|0.011764707043766977|0.011764707043766977|0.011764707043766977|0.007843137718737125| 0.02352941408753395| 0.01568627543747425| 0.02352941408753395| 0.01568627543747425| 0.01568627543747425| 0.01568627543747425|0.011764707043766977|0.007843137718737125|0.007843137718737125| 0.01960784383118153| 0.01960784383118153|0.007843137718737125| 0.01568627543747425| 0.01568627543747425|0.003921568859368...|0.011764707043766977|0.007843137718737125| 1.7023162841796875|  0.517913818359375| 1.1303253173828125|        -0.22265625| 0.7021331787109375| 0.5421295166015625|-0.5735931396484375|-0.2655181884765625| 0.7834930419921875|  0.191802978515625|-0.9231109619140624| -0.381317138671875|-0.7157745361328125|-0.1246795654296875| -0.578094482421875|   -0.1502685546875|-0.2806549072265625|-0.1204376220703125| -0.839813232421875|   -0.1995849609375|  0.443511962890625| 1.0778350830078125|-0.6540374755859375|-0.5236968994140625|     -1.05517578125|  0.142547607421875| 4.495269775390625|  4.48333740234375| 4.646286010742188|  3.90240478515625| 4.743255615234375| 4.256195068359375|5.1231536865234375| 4.670669555664063| 4.855758666992188| 4.802581787109375|4.8967132568359375|   4.6802978515625|  4.69097900390625|4.3657989501953125| 4.358856201171875| 4.717788696289063|   4.6553955078125|4.7293548583984375|3.9744720458984375|   4.3140869140625|  4.21319580078125| 4.172775268554688|4.9491729736328125|     4.30517578125| 4.796783447265625|    4.580322265625|8.406387329101562|   9.183349609375|8.811599731445312|9.128128051757812|9.516647338867188|    9.60205078125| 9.30584716796875|9.415054321289062|8.528060913085938|9.120712280273438|9.155990600585938|    8.847900390625|8.568832397460938|9.015914916992188|   8.084716796875| 8.67388916015625|8.884170532226562|9.215484619140623|9.271957397460938|8.940689086914062|8.917694091796875|9.045944213867188|9.712509155273438|  9.2362060546875|8.462265014648438|9.087860107421877| 1.3932647705078125| 0.6999969482421875| 1.2213287353515625|  -0.03216552734375| 0.5419769287109375|     0.385009765625|       -0.521484375|    0.0968017578125|  0.733673095703125|   0.37078857421875|-0.6012420654296875|-0.3317413330078125|-0.5080108642578125| -0.118499755859375|-0.0854339599609375| 0.0342559814453125| -0.038604736328125| 0.0254364013671875|-0.4058074951171875| 0.0022430419921875|  0.279510498046875|  0.476287841796875|-0.5650177001953125|-0.3782806396484375| -0.899017333984375|-0.2527313232421875|  4.54986572265625| 4.48492431640625| 4.502731323242188|    4.319580078125|  4.43719482421875| 4.306411743164063|  4.73736572265625|4.6513214111328125|4.5911712646484375|    4.553466796875|4.6519317626953125| 4.511566162109375|4.5049896240234375|4.3888702392578125|   4.3878173828125|4.5416412353515625| 4.491363525390625|   4.5196533203125|  3.89520263671875| 4.310455322265625|  4.06414794921875| 4.055023193359375| 4.350555419921875| 4.097671508789063|4.7819671630859375| 4.399185180664063|8.574676513671875|8.692733764648438| 8.62554931640625|8.803924560546875|8.728500366210938|8.801971435546875|8.570480346679688|8.632736206054688|8.634231567382812|8.677322387695312|  8.6119384765625|8.700820922851562| 8.69573974609375|8.768753051757812|8.769805908203125|8.691390991210938|8.717437744140625|8.702911376953125| 8.99066162109375| 8.80841064453125|8.920333862304688|8.916152954101562|8.770553588867188|8.901336669921875| 8.51422119140625|8.760818481445312| 0.0681610107421875|  0.008514404296875| -0.012786865234375|-0.0841522216796875|     0.085205078125|-0.0522003173828125|    0.1512451171875| -0.057525634765625| 0.0063934326171875|   0.05218505859375|  -0.01385498046875| 0.0202178955078125|-0.1555328369140625| 0.0362091064453125|-0.0042572021484375|  0.121429443359375| 0.1001129150390625|     0.108642578125|        -0.10546875| 0.0883941650390625| 0.1384735107421875|-0.0287628173828125|  0.109710693359375|  -0.13848876953125|-0.0287628173828125|-0.102264404296875|  0.126739501953125|   -0.1715087890625| -0.320648193359375|0.0340728759765625| -0.344085693359375| -0.196014404296875| 0.1374053955078125|   0.07135009765625| 0.0223541259765625|0.2236785888671875|  -0.52838134765625| 0.0532379150390625| -0.151275634765625|-0.1555328369140625|     0.085205078125|  -0.20880126953125| 0.0031890869140625|-0.0063934326171875| 0.1917266845703125|-0.1001434326171875|      0.24072265625|-0.160858154296875| 0.2929229736328125|  0.074554443359375|0.1118316650390625|-0.0649871826171875|-0.0830841064453125| 0.0053253173828125| 0.0468597412109375|-0.0266265869140625|  0.180023193359375|-0.0053253173828125| 0.0511322021484375|  -0.00958251953125|-0.0010528564453125| 0.029815673828125|  -0.05645751953125|-0.0266265869140625| 0.0021209716796875|  0.006378173828125|0.0372772216796875| 0.0021209716796875|  0.008514404296875| 0.0170440673828125|   0.0660400390625|-0.0127716064453125|    0.0191650390625| 0.0010528564453125|  0.034088134765625|                0.0| 0.0159759521484375|-0.0127716064453125| -0.179412841796875|-0.0559539794921875|  0.471343994140625| -0.133026123046875|  0.035003662109375|-0.1192474365234375| 0.0067291259765625|-0.7599945068359375|  0.30780029296875|-0.3396759033203125|-0.2870025634765625| -0.101593017578125|-0.4041595458984375| 0.0825958251953125| 0.2266998291015625|     -0.13720703125|    0.0457763671875|-0.1475372314453125|        0.111328125| 0.0480194091796875|  -0.1478271484375|  0.024078369140625| 0.0359039306640625|  0.059844970703125|   -0.1663818359375|-0.0991973876953125|-0.0511627197265625| 0.0760040283203125| 0.3502960205078125| 0.1072845458984375| 0.0950164794921875| -0.157257080078125|-0.0806427001953125|  0.283111572265625| 0.1660919189453125| 0.3474578857421875| 0.1580047607421875| 0.0781097412109375|  0.233123779296875|0.0140533447265625|-0.0806427001953125| 0.2060394287109375| 0.0887298583984375|-0.0065765380859375| 0.0671844482421875|-0.0032806396484375|-0.063446044921875|   0.08453369140625|-0.1152191162109375|-0.1256866455078125| 0.0327606201171875|      0.11865234375|-0.3194732666015625|0.1801605224609375| 0.151580810546875|-0.2183074951171875| 0.0390472412109375| -0.412689208984375|   0.26409912109375|  0.575347900390625|   0.22430419921875|0.4445648193359375|   0.52911376953125| 0.2199554443359375| 0.1244964599609375| 0.0945587158203125| 0.0216827392578125|-4.425048828125E-4|      0.43798828125| 0.0837860107421875| 0.1120758056640625| 0.1841888427734375| -0.052215576171875|-0.0528106689453125| 0.3657073974609375|   -0.5599365234375| 0.0761566162109375| 0.1120758056640625|  0.17047119140625|0.1993255615234375|0.1899566650390625| 0.209564208984375|0.1976470947265625|  0.19927978515625|0.2450408935546875|   0.2235107421875|0.2021942138671875|0.2046661376953125| 0.247833251953125|  0.22772216796875|0.2328338623046875|0.2132110595703125|0.2132110595703125|     0.21826171875| 0.217315673828125| 0.218170166015625|0.1965179443359375|  0.20794677734375|         0.1953125|0.1848907470703125|0.2157135009765625| 0.206756591796875|   0.2476806640625|0.2137603759765625|   -0.1849365234375|   -0.1287841796875|  -0.15631103515625|-0.0873870849609375|-0.1317596435546875| -0.104705810546875| -0.063507080078125| -0.102020263671875| -0.144744873046875|-0.1258087158203125|-0.0538787841796875|-0.0730743408203125|-0.0592498779296875|-0.0868682861328125|-0.0868682861328125|-0.0951080322265625|-0.0926055908203125|-0.0951690673828125|  -0.05718994140625|   -0.0853271484375|-0.0950164794921875|  -0.11322021484375|-0.0670928955078125|-0.0673675537109375| -0.051300048828125|-0.0898284912109375| -0.425262451171875|-0.4082489013671875|-0.4138641357421875| -0.384124755859375|-0.3888092041015625|-0.3798370361328125|     -0.36962890625|   -0.3895263671875|-0.4152984619140625|-0.4143524169921875|-0.3602142333984375|   -0.3775634765625|-0.3638458251953125| -0.375823974609375| -0.375823974609375|-0.3802032470703125|    -0.381103515625|  -0.37933349609375|-0.3918914794921875|-0.3773956298828125|-0.3891448974609375| -0.415924072265625|-0.3895416259765625| -0.389617919921875|-0.3611907958984375|   -0.3900146484375| 0.4749999940395355|             0.3125| 0.3499999940395355|  0.574999988079071|0.45000001788139343|0.42500001192092896|  0.487500011920929|              0.375|              0.625|  0.637499988079071|0.4000000059604645| 0.5875000357627869| 0.4625000059604645|  0.487500011920929|             0.625|0.45000001788139343|0.32500001788139343| 0.4000000059604645|  0.699999988079071|             0.5625|0.38750001788139343|0.6625000238418579|  0.574999988079071|               0.25| 0.4625000059604645|0.21250000596046448|         374.0|           934|            452.0|            452.0|         180.0|           931|            678.0|           846|363.1274719238281|            923|          702.5|           1088|            515|          203.0|          655.0|           1086.0|         1214.0|            918|            918|          601.0|          232.0|          499.0|           654.0|           1239|          530.0|           42.0|          69.0|           781|            493.0|            493.0|         572.0|           343|            342.0|           529|319.948974609375|            763|          358.0|          351.0|            763|          522.0|          318.0|            333.0|          302.0|            759|            759|          541.0|          492.0|          762.0|            291.0|            331|            320|          747.0| 905.838837763098|561.4873106313266|       0.0|283.24018076537095|785.1382043946147|253.00197627686626|251.38217916153087|526.1826770120289|713.9688079980021|461.13474169704455| 385.5635485882969| 705.742871023151|394.23977475642914| 495.9032163638385|  431.260941890174|131.70041761513136|544.4859961468247|              0.0| 384.7245768078769| 372.2391704267567|379.72226692676315| 495.8487672667948|586.3659267044768|709.0853263183493|648.4388945768137|    22058|0.012820513721985312|-0.01440018873948...| 4.553080045259916|9.005379310021032| 0.05855912428635818|4.426387493426984|8.730131296011118| 0.01195526123046875|-0.02844766470102...|0.011101355919471154|-0.06242664043719...|  0.0700977032001202| 0.10096212533804086|0.21149209829477164|-0.09612039419320914| -0.3879840557391827| 0.471634620657334|thabetsedghiani|\n",
            "|        76|        66|       105|         3|       133|        60|        68|        83|       129|         83|        106|         92|         91|        135|         88|        104|         91|         76|          2|        112|        107|         82|         78|         69|         84|         82|                 1971|                 2407|                 3534|                  370|                 1497|                 1981|                 1022|                 1506|                 1940|                  481|                  915|                 2082|                  301|                 1468|                 2022|                 1107|                 1661|                 1851|                  486|                  676|                  1002|                  107|                   433|                  2076|                   197|                  1840|                  3680|                   1560|                   3400|                   4109|                   1734|                   2443|                   2865|                    617|                   1039|                   4244|                    331|                   3536|                   3873|                   3070|                   3407|                   3612|                    249|                    454|                    899|                    101|                    546|                   4226|                    354|                   4034|                   5250|                   3604|                   4820|                   5383|                   1214|                   1777|                   3018|                    451|                   1692|                   2228|                   1134|                   1670|                   2148|                    454|                    932|                   1705|                    400|                   1173|                   2841|                    704|                   2372|                   1584|                 2113|                 2588|                 3613|                  541|                 1566|                 2180|                 1130|                 1744|                 2105|                  617|                  978|                 2153|                  494|                 1669|                 2238|                 1235|                 1804|                 2040|                  637|                  873|                  1153|                  319|                   599|                  2265|                   409|                  2075|                  3901|                   1749|                   3575|                   4283|                   1932|                   2640|                   3106|                    800|                   1266|                   4424|                    557|                   3715|                   4068|                   3293|                   3646|                   3838|                    441|                    633|                   1063|                    296|                    726|                   4332|                    521|                   4127|                   5453|                   3682|                   5008|                   5566|                   1328|                   1886|                   3102|                    670|                   1886|                   2418|                   1323|                   1855|                   2324|                    614|                   1083|                   1871|                    547|                   1335|                   3001|                    857|                   2523|                   1750|               2047|               2483|               3610|                436|               1563|               2047|               1127|               1611|               2045|                484|                918|               2085|                434|               1601|               2155|               1167|               1721|               1911|                554|                744|                1070|                190|                 516|                2159|                 326|                1969|                3809|                 1643|                 3483|                 4192|                 1840|                 2549|                 2971|                  709|                 1131|                 4336|                  422|                 3627|                 3964|                 3205|                 3542|                 3747|                  337|                  542|                  987|                  205|                  650|                 4330|                  445|                 4125|                 5341|                 3680|                 4896|                 5459|                 1216|                 1779|                 3020|                  563|                 1804|                 2340|                 1241|                 1777|                 2255|                  536|                 1014|                 1787|                  478|                 1251|                 2919|                  773|                 2441|                 1668|                   2037|                   2512|                   3537|                    475|                   1500|                   2114|                   1025|                   1639|                   2000|                    614|                    975|                   2150|                    361|                   1536|                   2105|                   1175|                   1744|                   1980|                    569|                    805|                    1085|                    236|                     516|                    2182|                     280|                    1946|                    3772|                     1666|                     3492|                     4200|                     1826|                     2534|                     3000|                      708|                     1174|                     4332|                      466|                     3624|                     3977|                     3158|                     3511|                     3703|                      353|                      545|                      975|                      192|                      622|                     4228|                      430|                     4036|                     5362|                     3606|                     4932|                     5490|                     1326|                     1884|                     3100|                      558|                     1774|                     2306|                     1216|                     1748|                     2217|                      532|                     1001|                     1789|                      469|                     1257|                     2923|                      788|                     2454|                     1666| 0.01568627543747425| 0.01568627543747425| 0.01568627543747425| 0.01568627543747425| 0.01568627543747425| 0.02352941408753395| 0.01568627543747425|0.011764707043766977|0.007843137718737125|0.011764707043766977|0.003921568859368...|0.003921568859368...| 0.01568627543747425|0.003921568859368...| 0.01568627543747425|0.011764707043766977|0.007843137718737125| 0.01568627543747425| 0.02352941408753395| 0.02352941408753395| 0.01568627543747425| 0.01568627543747425| 0.01568627543747425|0.007843137718737125|0.003921568859368...|0.003921568859368...|   -1.0413818359375|-0.2246551513671875| 1.0210418701171875|-0.3574981689453125|  0.115386962890625|-0.2915496826171875| -0.574249267578125|       0.7119140625| 1.5915679931640625|    0.5469970703125|       -0.166015625|-0.3729705810546875|-0.4467315673828125|    0.1343994140625|-0.9299163818359376|-0.4051971435546875|   -0.3905029296875| -0.575103759765625|    0.0545654296875|-0.0464630126953125|  0.187103271484375|    -0.613525390625|-0.8540496826171875|-0.1290740966796875|    -1.006103515625|  0.495758056640625|5.5728912353515625|  3.94268798828125|  4.19097900390625|4.1148529052734375| 4.482269287109375|    4.264892578125| 4.603683471679688|  4.69415283203125|5.0186920166015625| 4.439605712890625|  4.43206787109375|  4.28021240234375|4.3227386474609375|4.3330841064453125|4.4962921142578125| 4.542449951171875| 4.612564086914063|    4.458251953125|  3.85906982421875| 4.500030517578125| 4.379806518554688|4.5892181396484375|4.7866973876953125| 4.379928588867188|4.7354888916015625|  4.23004150390625|9.672378540039062|9.672576904296877|9.134994506835938|9.178817749023438| 8.76531982421875|9.325302124023438|9.481536865234377|9.173721313476562|8.472549438476562|     9.2119140625|9.219284057617188|10.078399658203123|8.799530029296875|8.875640869140625|9.987319946289062|9.935684204101562|9.058883666992188|9.565322875976562|9.198471069335938|8.568466186523438|8.941818237304688|9.670989990234377|9.705413818359377|9.098220825195312|9.150741577148438|9.147323608398438|-0.6536102294921875|    0.0411376953125| 0.9009552001953124|-0.0857391357421875| 0.0484771728515625|-0.1322784423828125|    -0.468505859375| 0.3654022216796875|   0.75372314453125| 0.5620269775390625|  -0.41583251953125|  -0.13885498046875|-0.3425140380859375| 0.0513153076171875| -0.516387939453125|-0.1521759033203125|   -0.1173095703125|-0.0032806396484375| 0.0237884521484375| -0.299713134765625| 0.2111358642578125|  -0.25811767578125|-0.4831695556640625|-0.1006927490234375|   -0.8309326171875| 0.3006134033203125| 4.806655883789063| 4.21258544921875|      4.1572265625|4.2232208251953125| 4.362075805664063|4.2954864501953125| 4.405929565429688| 4.383331298828125| 4.342620849609375| 4.507369995117188| 4.515151977539063|4.3421783447265625|4.3795928955078125| 4.326461791992188| 4.391998291015625|4.2504425048828125| 4.214691162109375|4.2752838134765625|     3.90673828125|4.2133331298828125|    4.150634765625| 4.281417846679688| 4.333648681640625| 4.249847412109375|4.4672698974609375|3.9629974365234375|8.522750854492188|8.855545043945312|        8.8359375| 8.85015869140625|8.782821655273438|   8.814697265625|8.748550415039062| 8.76470947265625|8.760223388671875|8.691238403320312|8.695281982421875|8.791656494140625|8.767562866210938| 8.80047607421875| 8.75274658203125| 8.83624267578125|8.853897094726562| 8.82562255859375|8.994705200195312| 8.85015869140625|    8.88232421875|8.818740844726562|8.783721923828125|8.837295532226562|8.690353393554688|   8.965087890625|  0.520904541015625|         -0.0703125| 0.1246185302734375|  0.015960693359375|    0.2684326171875| 0.1043853759765625| -0.137420654296875| -0.031951904296875| -0.069244384765625| 0.0074615478515625|        -0.01171875|-0.1981353759765625|-0.0852203369140625|         -0.0234375|   0.10650634765625|-0.1075897216796875| 0.0319366455078125|  0.222625732421875|   0.01702880859375|  0.060699462890625|-0.0308990478515625|  0.001068115234375|-0.0958709716796875|-0.0149078369140625|-0.0532684326171875|0.1587066650390625|      0.25244140625| 0.0234222412109375|  0.187469482421875| 0.105438232421875|-0.1342315673828125|   0.10650634765625|    -0.307861328125|-0.1097259521484375|  0.356842041015625| 0.246063232421875|    0.0926513671875|-0.3739166259765625|  0.025543212890625|  -0.07244873046875|    -0.272705078125|   -0.2183837890625|   -0.2769775390625|    0.1746826171875| 0.0223541259765625|  0.082000732421875|-0.0628509521484375|  0.07135009765625| 0.1224822998046875|   0.04046630859375|0.4090423583984375|   0.49639892578125|  0.133148193359375|-0.0244903564453125| 0.0053253173828125|-0.0053253173828125|  0.086273193359375|   0.02874755859375| -0.034088134765625|   -0.0074462890625| 0.0127716064453125|-0.010650634765625|                0.0| -0.034088134765625| 0.0170440673828125| 0.0149078369140625|0.0053253173828125| -0.022369384765625|    0.0660400390625| 0.0159759521484375|0.0127716064453125| -0.020233154296875|-0.0383453369140625|    0.0191650390625|-0.0021209716796875|  0.018096923828125|  0.034088134765625|  0.086273193359375| -0.598541259765625| -0.215911865234375|    0.4373779296875| 0.0977020263671875|     0.178955078125|    -0.104736328125| -0.098907470703125|-0.1906280517578125| -0.15277099609375|-0.1957244873046875|         0.03515625|-0.1508331298828125| -0.042938232421875|  0.176116943359375|-0.6735076904296875| -0.597198486328125|   -0.1915283203125| -0.181060791015625| 0.0216827392578125| 0.0052337646484375| 0.021087646484375| 0.4712066650390625| 0.0546112060546875|-0.1506805419921875| -0.095611572265625| 0.2189178466796875| 0.1756744384765625| -0.298065185546875|  0.183441162109375|-0.0309600830078125|  -0.06927490234375|  -0.09844970703125|   0.04010009765625|-0.2868499755859375|-0.0067291259765625|  -0.42047119140625|     0.002685546875| 0.0703277587890625|-0.1538238525390625|-0.086334228515625| 0.3844146728515625|     0.320068359375|   0.19781494140625| 0.2090301513671875|-0.0544586181640625| 0.0842437744140625| 0.022430419921875| -0.295074462890625|-0.0216827392578125|  0.052520751953125|-0.0499725341796875| 0.0233306884765625|-1.7136383056640625| 0.874481201171875| 0.491851806640625| 0.0466766357421875|  0.075714111328125|-0.0806427001953125|-0.0097198486328125|   0.11297607421875|-0.1506805419921875|-0.991485595703125|-0.4448699951171875| 0.8952789306640625|-0.3830718994140625|  0.378875732421875|-0.0378570556640625|   -0.691162109375|   0.24884033203125| 0.0329132080078125|  0.261260986328125|  0.118499755859375| 0.4263153076171875|  0.054168701171875|-0.3561248779296875|   0.53839111328125|    0.5943603515625| 0.4632720947265625|    0.224365234375|      0.2041015625|0.1855316162109375|  0.20550537109375|0.2091827392578125| 0.208526611328125| 0.224945068359375|0.1985015869140625|    0.184326171875|0.1942901611328125|0.2266998291015625|0.2088165283203125|0.2178497314453125| 0.206756591796875|0.2168731689453125|0.2018280029296875|0.2060699462890625|   0.2093505859375|0.1881866455078125|  0.21209716796875|  0.19500732421875|0.2124176025390625|0.2199859619140625|  0.20538330078125|0.2335052490234375| 0.189422607421875| -0.065887451171875| -0.091339111328125|-0.1292572021484375| -0.080657958984375|-0.1005401611328125|-0.0800018310546875|-0.0609893798828125|-0.1204376220703125| -0.143829345703125|-0.1341094970703125|-0.0714263916015625|-0.0910797119140625|-0.0687713623046875|     -0.08642578125|-0.0696868896484375|-0.0827484130859375|      -0.0810546875|-0.0830535888671875|-0.0813446044921875|   -0.0714111328125| -0.102447509765625|-0.0731964111328125| -0.056610107421875|  -0.08148193359375|-0.0444183349609375|-0.1023406982421875|-0.3541717529296875| -0.390777587890625| -0.403594970703125|  -0.38787841796875|-0.3849029541015625|-0.3747406005859375|-0.3624114990234375|  -0.38909912109375|-0.4006500244140625|-0.4030303955078125|-0.3676910400390625|  -0.38165283203125|-0.3673858642578125| -0.375030517578125|-0.3614654541015625|-0.3730010986328125|-0.3690643310546875|-0.3663482666015625| -0.385040283203125|   -0.3760986328125| -0.394805908203125|-0.3766937255859375| -0.366973876953125|-0.3785247802734375|   -0.3536376953125|-0.3984832763671875| 0.5875000357627869| 0.5375000238418579|  0.512499988079071| 0.4625000059604645|  0.699999988079071| 0.7125000357627869|0.36250001192092896|  0.512499988079071|0.30000001192092896|                0.5|0.3499999940395355|             0.3125| 0.4625000059604645|0.26250001788139343|0.5250000357627869|0.42500001192092896| 0.4625000059604645|  0.487500011920929|              0.625|  0.699999988079071|  0.487500011920929|0.4749999940395355|             0.5625|              0.375|0.32500001788139343|             0.1875|         369.0|           945|            451.0|            451.0|         177.0|           930|            684.0|           856|            379.0|            928|          667.0|           1068|            535|          207.0|          707.0|           1066.0|         1222.0|            954|            908|          614.0|          192.0|          551.0|           673.0|           1219|          524.0|           50.0|          94.0|           752|            494.0|            494.0|         525.0|           288|            348.0|           579|           287.0|            762|          318.0|          339.0|            766|          566.0|          361.0|            335.0|          318.0|            750|            972|          552.0|          566.0|          763.0|            343.0|            343|            328|          765.0|874.4941394886532|557.3149917237108|       0.0|275.74807342935327|789.4162400153673|253.21137415211032|288.00173610587836|559.2790001421473|725.9655639215953| 515.0310670241165|  401.549498816771|682.9480214481919|  384.166630513375| 540.3933752369658|359.94027282314494|156.92354826475216|508.3778122617076|226.7156809750927| 512.6753358608155| 422.2321636256528| 409.4996947495809|437.36026339849394|            546.0|695.1618516575833|644.7053590594699|    25808|0.012971343311409535| -0.1371636023888221| 4.471640366774339|9.272716228778544|-0.06694382887620193|4.306084266075722|8.798942565917969|0.027321448692908645| 0.03792513333834135|0.013722933255709134|-0.07394350492037259|-0.00407937856820...|0.029023977426382214|0.20728947566105768|-0.08671335073617789|-0.37858288104717547|0.4697115455682461|thabetsedghiani|\n",
            "|        95|        67|       105|         3|        98|        84|        75|        84|       130|         91|         90|         83|         91|        120|         98|        112|         99|         67|          2|        112|        136|         97|         96|         91|         92|        144|                 2636|                 2852|                 4246|                  149|                 1543|                 3160|                 1289|                 2906|                 3531|                 1614|                 2239|                 3140|                  527|                 1428|                 1864|                  817|                 1253|                 1610|                  361|                  718|                   930|                  273|                   485|                  1372|                    82|                   969|                  1291|                    796|                   1118|                   1999|                    232|                   1113|                   1417|                    798|                   1102|                   1537|                    213|                    648|                   1043|                    315|                    710|                    921|                    297|                    508|                    995|                     99|                    586|                   2745|                    388|                   2547|                   3007|                   2092|                   2552|                   2853|                    458|                    759|                   1136|                    189|                    566|                    967|                    241|                    642|                   1128|                    304|                    790|                   1440|                    390|                   1040|                   2638|                    559|                   2157|                   1506|                 2798|                 3052|                 4344|                  321|                 1613|                 3325|                 1397|                 3109|                 3720|                 1715|                 2326|                 3218|                  709|                 1601|                 2046|                  976|                 1421|                 1824|                  520|                  923|                  1096|                  487|                   660|                  1546|                   303|                  1189|                  1504|                    977|                   1292|                   2181|                    405|                   1294|                   1627|                    972|                   1305|                   1718|                    424|                    837|                   1246|                    533|                    942|                   1140|                    507|                    705|                   1160|                    310|                    765|                   2859|                    554|                   2648|                   3218|                   2161|                   2731|                   3056|                    572|                    897|                   1235|                    437|                    775|                   1175|                    474|                    874|                   1355|                    497|                    978|                   1629|                    577|                   1228|                   2878|                    742|                   2392|                   1742|               2731|               2947|               4341|                216|               1610|               3227|               1394|               3011|               3636|               1617|               2242|               3143|                625|               1526|               1962|                901|               1337|               1694|                436|                793|                1005|                357|                 569|                1456|                 212|                1099|                1421|                  887|                 1209|                 2090|                  322|                 1203|                 1507|                  881|                 1185|                 1620|                  304|                  739|                 1134|                  435|                  830|                 1041|                  395|                  606|                 1093|                  211|                  698|                 2857|                  487|                 2646|                 3106|                 2159|                 2619|                 2920|                  460|                  761|                 1138|                  301|                  678|                 1079|                  377|                  778|                 1264|                  401|                  887|                 1537|                  486|                 1136|                 2734|                  650|                 2248|                 1598|                   2703|                   2957|                   4249|                    254|                   1546|                   3258|                   1292|                   3004|                   3615|                   1712|                   2323|                   3215|                    611|                   1503|                   1948|                    892|                   1337|                   1740|                    445|                    848|                    1021|                    403|                     576|                    1462|                     173|                    1059|                    1374|                      886|                     1201|                     2090|                      315|                     1204|                     1537|                      889|                     1222|                     1635|                      333|                      746|                     1155|                      413|                      822|                     1020|                      409|                      607|                     1062|                      198|                      653|                     2747|                      455|                     2549|                     3119|                     2094|                     2664|                     2989|                      570|                      895|                     1233|                      325|                      663|                     1063|                      338|                      738|                     1219|                      400|                      881|                     1532|                      481|                     1132|                     2782|                      651|                     2301|                     1650| 0.02352941408753395|0.011764707043766977|0.007843137718737125| 0.01568627543747425|0.003921568859368...| 0.01568627543747425|0.007843137718737125|0.003921568859368...|0.007843137718737125| 0.01568627543747425| 0.01568627543747425|0.007843137718737125|0.007843137718737125| 0.01568627543747425|0.011764707043766977|0.007843137718737125|0.007843137718737125|0.011764707043766977| 0.01568627543747425| 0.01960784383118153|0.007843137718737125|0.007843137718737125| 0.01568627543747425|0.011764707043766977|0.011764707043766977|0.007843137718737125|   -1.3133544921875|  0.154327392578125|     1.230712890625| 0.0795440673828125|  0.483001708984375|-0.1226654052734375|-1.0906524658203125|-0.6371307373046875|  0.726531982421875|  0.481353759765625|-0.9987945556640624|   -0.2139892578125|  -0.62396240234375|   0.09210205078125| -0.778411865234375|-0.2267303466796875|-0.3004913330078125|-0.1997222900390625| -0.044036865234375|-0.3943328857421875|   0.04718017578125|  -0.17742919921875| -0.399200439453125| -0.016693115234375|  -0.60601806640625| 0.4190216064453125|5.9145355224609375| 4.424331665039063| 4.599884033203125|4.7171173095703125|  4.48284912109375|      4.4599609375| 5.896987915039063| 5.110397338867188| 4.927886962890625|     5.11572265625|5.2857208251953125|   4.6456298828125| 4.725799560546875|    4.542724609375| 4.908782958984375| 4.845367431640625| 4.319992065429688|4.7343292236328125|4.1531524658203125| 4.379898071289063| 4.828460693359375| 4.337738037109375| 5.231475830078125|4.7833099365234375|5.0962982177734375|4.2096099853515625|  9.0286865234375|8.563873291015625|8.684310913085938|  8.7984619140625|8.770523071289062|9.292648315429688|9.855194091796877|8.958480834960938| 8.60235595703125|8.714828491210938|9.651031494140623| 9.027313232421877|8.753677368164062|8.667770385742188|   9.675537109375|  8.8726806640625| 8.92034912109375|8.964462280273438|8.989700317382812|9.084121704101562|9.128372192382812|9.137435913085938|9.827911376953123|8.954116821289062|8.992355346679688|9.129119873046877|-1.2448272705078125|  0.561431884765625| 0.9849090576171876|  0.211883544921875|     0.442626953125| 0.0019378662109375|    -0.600341796875|-0.1180572509765625|    0.9190673828125|  0.641632080078125|  -0.43634033203125|  -0.24554443359375|-0.3778228759765625|   -0.0504150390625| -0.445770263671875| -0.233428955078125|-0.2292327880859375|-0.1782073974609375|-0.0869293212890625|    -0.253173828125| 0.0620880126953125|-0.3257598876953125| -0.495147705078125|  0.292388916015625| -0.638641357421875|    0.4559326171875| 5.242843627929688|  4.5965576171875| 4.579498291015625|4.4624786376953125| 4.337692260742188| 4.385269165039063| 5.087677001953125|4.8683013916015625|4.9693145751953125|   4.8861083984375| 4.902862548828125| 4.646987915039063| 4.698013305664063| 4.588775634765625|4.6513214111328125|    4.497802734375| 4.456344604492188|4.5637969970703125|  4.12445068359375| 4.348312377929688| 4.378387451171875|4.4412384033203125| 5.068511962890625|4.7321319580078125| 5.008514404296875| 4.168746948242188|8.193405151367188|  8.6444091796875|8.615371704101562|8.729843139648438| 8.78387451171875|8.771453857421875|8.362045288085938|8.511978149414062|8.404083251953125|8.478302001953125| 8.48175048828125| 8.63214111328125| 8.59967041015625|8.666549682617188|8.621810913085938| 8.71099853515625|  8.7325439453125|8.678070068359375|8.896697998046875|8.786117553710938| 8.77459716796875|  8.7371826171875|8.380599975585938|8.584259033203125|8.406784057617188|8.864669799804688|   0.11077880859375|-0.0735015869140625|   0.11822509765625|  0.027679443359375|-0.0383453369140625|-0.0191802978515625| -0.024505615234375|-0.0607147216796875| 0.1246185302734375|-0.0862884521484375|-0.1672515869140625| 0.0031890869140625| -0.001068115234375|  -0.00213623046875|           -0.09375|  0.121429443359375|-0.0767059326171875| -0.080963134765625|  0.037261962890625|  -0.02130126953125|    0.1512451171875| 0.0468597412109375|-0.1182403564453125| 0.0468597412109375|    0.0308837890625|    0.085205078125| 0.6455230712890625|-0.4985504150390625| 0.0532379150390625| 0.107574462890625|        -0.08203125| 0.0340728759765625|    0.0809326171875|     0.061767578125|-0.0862884521484375|  0.21942138671875|   -0.2535400390625|-0.0426177978515625| -0.045806884765625|-0.2034759521484375|  0.462310791015625|-0.1438140869140625| 0.0756072998046875| -0.038360595703125| -0.012786865234375|  -0.10333251953125| 0.0308685302734375| 0.173614501953125|   0.12994384765625|    0.2215576171875|0.1107635498046875|  0.072418212890625| 0.1416778564453125| 0.0820159912109375|  0.029815673828125| 0.0021209716796875|-0.0117034912109375|   0.00958251953125|  0.031951904296875|-0.0010528564453125|-0.0159759521484375|   0.0543212890625| -0.102264404296875|   0.04473876953125|-0.0276947021484375|-0.0031890869140625|0.0372772216796875|  0.018096923828125|-0.0127716064453125|  0.018096923828125|0.0117034912109375|  0.018096923828125|    0.0074462890625| 0.0053253173828125|  0.010650634765625| -0.006378173828125| 0.0010528564453125| 0.0031890869140625|-0.0216827392578125|  -0.23822021484375|  0.382171630859375|  -0.13287353515625| 0.1439361572265625|-0.0282745361328125| -0.316619873046875|-0.1333160400390625|0.6539154052734375|   0.16998291015625|   0.15142822265625| 0.1090850830078125|  -0.26141357421875|  0.148590087890625| 0.1895904541015625|  0.202301025390625|   0.04010009765625| -0.006134033203125|-0.0160064697265625| -0.146636962890625|  0.01690673828125|  -0.02618408203125|-0.0531158447265625|   0.28460693359375| 0.0281219482421875| 0.1306304931640625|  0.098602294921875|-0.1936187744140625|       0.2783203125|   0.24688720703125| 0.1179046630859375|  -0.04937744140625|   0.49798583984375| 0.0900726318359375|-0.0157012939453125| -0.104888916015625| -0.073760986328125|-0.0764617919921875| 0.0448760986328125|    0.058349609375|-0.2436065673828125|   -0.0709228515625|   0.11895751953125|  -0.05072021484375|  0.015106201171875|  0.030670166015625|0.0532684326171875|-0.0670318603515625|-0.1627960205078125|   0.05865478515625|   -0.1219482421875|  -0.06268310546875| 0.2293853759765625|-0.039642333984375|-0.302703857421875|  0.109527587890625| 0.3763275146484375|  0.072723388671875| 0.7215423583984375|   -0.0364990234375|    0.1431884765625|  -0.0411376953125| 0.3097381591796875|-0.1183624267578125| 0.2061920166015625|  0.235076904296875|-0.3378753662109375|-0.115814208984375| 0.3127288818359375|   0.09906005859375| 0.2108306884765625|   0.33099365234375|    0.4095458984375| 0.2554168701171875|    -0.058349609375| 0.5424346923828125| -0.151580810546875|   -0.0875244140625|0.2816619873046875| 0.203094482421875|0.1987762451171875| 0.207000732421875|0.2015533447265625| 0.209869384765625|0.2638702392578125|0.2361907958984375|0.2153472900390625|0.2153472900390625|0.2500457763671875|0.2297210693359375| 0.238311767578125|    0.219482421875| 0.236175537109375|0.2219085693359375| 0.218536376953125|  0.22296142578125|0.1984100341796875|   0.2198486328125| 0.210052490234375|0.2222747802734375|       0.248046875|0.2194671630859375| 0.256500244140625|0.1847381591796875|   -0.0494384765625|-0.1366119384765625|-0.1421661376953125|-0.1093902587890625|-0.1125946044921875| -0.088531494140625|-0.0761566162109375| -0.104888916015625|    -0.152587890625|    -0.152587890625|-0.0716400146484375|-0.0863189697265625|    -0.076416015625| -0.101409912109375| -0.053985595703125|  -0.08148193359375| -0.079681396484375| -0.086334228515625|-0.0815582275390625| -0.069366455078125|-0.0972747802734375| -0.079010009765625|-0.0942535400390625| -0.113739013671875| -0.070343017578125|-0.1086883544921875| -0.337493896484375|-0.4264678955078125| -0.424163818359375|     -0.40087890625|   -0.3990478515625|-0.3875885009765625|   -0.3682861328125|  -0.39471435546875|  -0.42755126953125|  -0.42755126953125| -0.383880615234375|-0.3910369873046875|-0.3809051513671875|-0.3912811279296875|-0.3730316162109375| -0.385101318359375|     -0.38720703125|   -0.3870849609375|-0.3933563232421875|  -0.38226318359375|-0.3893890380859375|   -0.3841552734375|   -0.3780517578125|-0.4016876220703125| -0.368133544921875| -0.411773681640625| 0.7750000357627869|0.42500001192092896| 0.3499999940395355| 0.5875000357627869|0.30000001192092896|  0.550000011920929|0.38750001788139343|0.30000001192092896|             0.4375|  0.574999988079071|0.4625000059604645|             0.4375|0.32500001788139343|             0.5625|            0.4375|0.36250001192092896|0.38750001788139343| 0.4625000059604645| 0.4749999940395355|             0.6875|0.30000001192092896|0.3499999940395355|0.36250001192092896| 0.4000000059604645|0.38750001788139343|0.21250000596046448|         370.0|           936|            514.0|            514.0|         210.0|           945|            655.0|           839|            377.0|            942|          655.0|           1104|            524|          217.0|          666.0|           1128.0|         1229.0|            925|            925|          625.0|          188.0|          517.0|708.505615234375|           1199|          525.0|           43.0|         110.0|           755|            498.0|            498.0|         550.0|           328|            378.0|           588|           344.0|            764|          333.0|          338.0|            744|          538.0|          334.0|            323.0|          322.0|            764|            764|          564.0|          532.0|          783.0|350.5018310546875|            389|            328|          737.0|858.1264475588664|494.0981683835713|       0.0|308.41530441921975|767.7948944868024|294.27877939124323| 279.2060171271386|522.4748797789231|704.0063920164363| 517.8127074531872| 449.0278387806262|707.9802257125548|369.70934529708603|493.17035596231864|462.13093382720007|101.00495037373169|536.4513025429242|              0.0|360.55512754639886|438.17005831069747| 413.8139678647883| 473.0000706208663|492.0028968397958|676.7547561709487|632.1431799837757|    18987|0.011463047542537632|-0.17037846491887018|4.7953062791090755|9.040204561673676|-0.05329777644230...|4.641997704139123|8.617277292104868|0.001549353966346...| 0.03726959228515625|0.013312706580528846|0.048880357008713946|0.016005295973557692| 0.12597010685847354| 0.2241997352013221|-0.09524829571063702| -0.3916185819185697|0.4346153930975841|thabetsedghiani|\n",
            "|        91|        74|       128|         2|       119|        75|        91|        91|       143|        113|        121|         83|         76|        121|         95|         91|         90|         90|          4|         99|        127|         97|         83|         90|        106|        119|                 1297|                 1501|                 2303|                  130|                  932|                 1595|                  674|                 1337|                 1630|                  661|                  954|                 2056|                  174|                 1276|                 1768|                 1027|                 1519|                 1860|                  401|                  742|                   968|                  250|                   476|                  1834|                    83|                  1441|                  2392|                   1245|                   2196|                   2961|                    830|                   1595|                   3078|                    682|                   2165|                   3257|                   1407|                   2499|                   2833|                    971|                   1305|                   1667|                    239|                    601|                   1120|                    271|                    790|                   2896|                    429|                   2535|                   3850|                   2016|                   3331|                   3675|                   1311|                   1655|                   2103|                    245|                    693|                   1170|                    321|                    798|                   1212|                    380|                    794|                   1417|                    331|                    954|                   3274|                    533|                   2853|                   2214|                 1462|                 1720|                 2396|                  332|                 1008|                 1788|                  804|                 1584|                 1833|                  782|                 1031|                 2149|                  368|                 1486|                 1978|                 1193|                 1685|                 2078|                  583|                  976|                  1172|                  484|                   680|                  2046|                   339|                  1705|                  2618|                   1479|                   2392|                   3150|                   1034|                   1792|                   3320|                    841|                   2369|                   3435|                   1604|                   2670|                   3000|                   1187|                   1517|                   1878|                    425|                    786|                   1305|                    452|                    971|                   2991|                    609|                   2629|                   4039|                   2110|                   3520|                   3892|                   1414|                   1786|                   2204|                    471|                    889|                   1352|                    545|                   1008|                   1429|                    560|                    981|                   1620|                    504|                   1143|                   3476|                    729|                   3062|                   2439|               1388|               1592|               2394|                204|               1006|               1669|                802|               1465|               1758|                663|                956|               2058|                293|               1395|               1887|               1102|               1594|               1935|                492|                833|                1059|                341|                 567|                1925|                 226|                1584|                2535|                 1358|                 2309|                 3074|                  951|                 1716|                 3199|                  765|                 2248|                 3340|                 1483|                 2575|                 2909|                 1092|                 1426|                 1788|                  334|                  696|                 1215|                  362|                  881|                 2987|                  519|                 2625|                 3940|                 2106|                 3421|                 3765|                 1315|                 1659|                 2107|                  344|                  792|                 1269|                  448|                  925|                 1339|                  477|                  891|                 1514|                  414|                 1037|                 3357|                  623|                 2943|                 2320|                   1371|                   1629|                   2305|                    258|                    934|                   1714|                    676|                   1456|                   1705|                    780|                   1029|                   2147|                    249|                   1367|                   1859|                   1118|                   1610|                   2003|                    492|                    885|                    1081|                    393|                     589|                    1955|                     196|                    1562|                    2475|                     1366|                     2279|                     3037|                      913|                     1671|                     3199|                      758|                     2286|                     3352|                     1528|                     2594|                     2924|                     1066|                     1396|                     1757|                      330|                      691|                     1210|                      361|                      880|                     2900|                      519|                     2539|                     3949|                     2020|                     3430|                     3802|                     1410|                     1782|                     2200|                      372|                      790|                     1253|                      418|                      881|                     1302|                      463|                      884|                     1523|                      421|                     1060|                     3393|                      639|                     2972|                     2333|0.011764707043766977| 0.01568627543747425|0.003921568859368...| 0.01568627543747425|0.011764707043766977| 0.02352941408753395|0.003921568859368...| 0.02352941408753395|0.007843137718737125|0.011764707043766977|0.011764707043766977|0.007843137718737125| 0.02352941408753395| 0.01568627543747425|0.007843137718737125| 0.01568627543747425|0.007843137718737125|0.011764707043766977|0.011764707043766977|0.007843137718737125|0.011764707043766977|0.003921568859368...| 0.01960784383118153| 0.01568627543747425|0.003921568859368...| 0.01960784383118153|-1.3302764892578125|  0.455474853515625|   0.81707763671875|  0.061737060546875|  0.519500732421875|-0.2268524169921875|-0.7200164794921875|-0.1371002197265625| 0.5178070068359375| 0.6443328857421875|    -1.067626953125|-0.1769866943359375|-0.3815460205078125|    0.1983642578125|   -0.8306884765625| -0.267852783203125|-0.1905364990234375|-0.0496673583984375| -0.490875244140625| -0.212493896484375| 0.1759490966796875|-0.3241119384765625|   -0.6114501953125|    -0.171142578125|-0.6531219482421875| 0.1118927001953125| 5.739349365234375| 4.501510620117188|4.4217681884765625|  4.49615478515625|4.5377044677734375| 4.592437744140625|4.4883880615234375| 4.689224243164063| 4.578460693359375|4.8019561767578125|4.9017181396484375|4.8529205322265625|4.6965179443359375| 4.430435180664063|4.8973541259765625|4.3092193603515625|4.6668548583984375| 4.586105346679688| 3.909088134765625|  4.59259033203125|4.2261505126953125|4.2049102783203125|4.4609222412109375| 4.459014892578125|     4.79150390625| 4.013946533203125|        9.0703125| 8.73004150390625|9.155899047851562|9.059844970703123| 8.75726318359375|8.753707885742188|8.860565185546875|  8.8353271484375| 8.75140380859375|8.767074584960938|8.965072631835938|   9.4354248046875|8.749069213867188|8.919448852539062|9.735733032226562| 9.49554443359375|9.134368896484377|9.170440673828123|9.325729370117188|8.781707763671875|  9.1685791015625|  9.3118896484375|9.666336059570312|9.707351684570312|9.591506958007812|   9.033447265625|-1.3269805908203125|   0.55828857421875| 1.0082550048828125| -0.030670166015625|    0.3956298828125|-0.0097198486328125| -0.662139892578125|   -0.0802001953125| 0.5966033935546875| 0.5681610107421875|  -0.80743408203125|-0.0653839111328125|   -0.4439697265625| -0.038299560546875|     -0.60302734375| -0.325897216796875| -0.209930419921875| -0.138702392578125|    -0.357177734375|-0.2709808349609375|     0.225341796875|-0.1086273193359375| -0.375885009765625|  0.110870361328125|-0.7157135009765625|-0.0193023681640625|5.0926055908203125|4.449310302734375| 4.332305908203125|4.4937591552734375|   4.5196533203125|  4.45440673828125|4.7216644287109375|   4.5938720703125|4.5182952880859375|  4.56439208984375|  4.69561767578125|  4.67242431640625|  4.66314697265625| 4.506622314453125|4.4672698974609375| 4.418487548828125|4.4319610595703125|   4.4918212890625| 3.795852661132813|4.2538909912109375| 4.065643310546875|4.1861114501953125|4.0847930908203125| 4.126251220703125|4.4425811767578125| 3.945632934570313|8.274795532226562|  8.7213134765625|8.739730834960938|8.716232299804688|8.693939208984375|8.736434936523438|8.569442749023438|8.663558959960938| 8.68316650390625|  8.6610107421875| 8.57122802734375|8.621658325195312|8.615524291992188|8.709503173828125| 8.70904541015625|8.748703002929688|8.745407104492188|8.716232299804688|9.035110473632812|8.831756591796875|8.921234130859375|8.867523193359375|8.907318115234375|8.895492553710938|8.713241577148438|8.977798461914062| 0.0575103759765625| 0.1927947998046875| 0.1033172607421875|  -0.05645751953125|-0.0149078369140625|  -0.06817626953125|-0.0042572021484375|-0.1075897216796875|         -0.0234375| -0.001068115234375|  0.037261962890625|-0.0372772216796875|     0.085205078125|   0.08306884765625|  0.001068115234375|  -0.02130126953125| 0.0564422607421875| 0.0702972412109375| -0.036224365234375|-0.1427459716796875|-0.0852203369140625| -0.113983154296875|  0.051116943359375| 0.0543060302734375|-0.0617828369140625|     0.38134765625|   -0.4442138671875|-0.1118621826171875|-0.1672515869140625|  0.12994384765625|   -0.1363525390625|-0.1885528564453125| 0.2971954345703125|-0.2354278564453125|  0.128875732421875| 0.140594482421875|    0.1864013671875|   0.11822509765625| -0.240753173828125|-0.1555328369140625| 0.1491241455078125| 0.1480560302734375|   0.05218505859375| 0.0212860107421875| -0.209869384765625|        -0.01171875| -0.092681884765625|0.1033172607421875|-0.0543365478515625|  0.018096923828125|0.1938629150390625|   -0.4676513671875| 0.0489959716796875|  0.029815673828125| -0.062835693359375| 0.0372772216796875| -0.029815673828125| 0.0138397216796875|   0.00958251953125| 0.0042572021484375|  0.041534423828125|0.0127716064453125| 0.0042572021484375|   0.03302001953125| 0.0479278564453125|-0.0394134521484375|0.0138397216796875| 0.0117034912109375|-0.0127716064453125|-0.0053253173828125|               0.0|-0.0276947021484375|  0.010650634765625|-0.0351409912109375|  0.006378173828125|  0.031951904296875| -0.008514404296875|   0.02874755859375| 0.0221405029296875|  -0.06268310546875|   0.35882568359375| -0.024383544921875| 0.0424957275390625|  -0.11236572265625| -0.015411376953125| -0.013153076171875|0.2724761962890625|     0.171630859375|-0.0377044677734375|  0.024688720703125| -0.123443603515625|  0.280120849609375| 0.0930633544921875|  -0.01165771484375|-0.0270843505859375|  0.021392822265625| 0.0052337646484375| 0.1440887451171875| 0.164886474609375|    0.0152587890625| -0.450103759765625|  0.030364990234375|-0.1677398681640625| 0.0360565185546875| 0.1099700927734375|-0.0032806396484375| 0.1041412353515625|-0.0189971923828125|  -0.12628173828125|  0.096954345703125|-0.0792999267578125| 0.0915679931640625| 0.1767120361328125| 0.0252838134765625| 0.0424957275390625|-0.0300750732421875|      0.13720703125|0.1021881103515625| 0.0410003662109375|  0.434539794921875| -0.029022216796875| 0.1553192138671875| -0.259613037109375| 0.0963592529296875|0.0595550537109375|   0.03485107421875|  0.437835693359375|-0.0824432373046875|  0.027374267578125| -0.059844970703125|  -0.29254150390625|0.0701751708984375|0.2576751708984375| 0.0944061279296875|-0.0269317626953125| 0.1939239501953125|-0.2184600830078125| 0.4679107666015625|   -0.0736083984375|0.1831512451171875|  0.090972900390625| -0.012115478515625|    -0.049072265625| 0.0867767333984375| -0.070770263671875|     0.75146484375|     0.141845703125|   0.49664306640625|-0.2866973876953125| 0.2374725341796875| -0.067474365234375|   0.16339111328125| 0.9088897705078124|-0.4774932861328125|    -0.051025390625| -1.752105712890625|0.2698516845703125| 0.196868896484375|0.1767120361328125|  0.21942138671875|0.2068939208984375|0.2175140380859375| 0.239288330078125| 0.225372314453125|0.2052154541015625|0.2084197998046875| 0.246368408203125|    0.228271484375|0.2341766357421875| 0.227935791015625| 0.225006103515625| 0.218536376953125|0.2185211181640625|0.2196197509765625|   0.1920166015625|0.2120819091796875| 0.188201904296875| 0.204864501953125|0.2051239013671875|0.1901092529296875|  0.22113037109375| 0.190521240234375| -0.043731689453125|-0.1302032470703125|-0.1560821533203125| -0.093780517578125|-0.1088714599609375| -0.088592529296875| -0.073272705078125|-0.0898284912109375|-0.1309967041015625|-0.1242218017578125|-0.0491180419921875|     -0.08837890625| -0.072967529296875|-0.0748443603515625|-0.0616607666015625| -0.075897216796875|-0.0822601318359375|-0.0857696533203125|    -0.052001953125|      -0.0771484375|-0.0990142822265625|-0.0728607177734375|  -0.06414794921875| -0.092987060546875|-0.0572967529296875|-0.0943756103515625| -0.351165771484375| -0.415496826171875|-0.4290313720703125|-0.3956146240234375| -0.394683837890625| -0.391326904296875|    -0.374755859375| -0.388519287109375|    -0.410888671875|-0.4104461669921875| -0.358734130859375|-0.3750457763671875|    -0.366455078125|-0.3673248291015625|-0.3693084716796875|-0.3745880126953125|-0.3750152587890625|  -0.37725830078125|   -0.3756103515625|  -0.37823486328125|-0.3933868408203125|  -0.38287353515625|   -0.3765869140625| -0.391143798828125|-0.3658294677734375|-0.3968658447265625| 0.4749999940395355| 0.6000000238418579|  0.512499988079071|  0.550000011920929|              0.375| 0.7125000357627869| 0.2750000059604645|             0.6875| 0.3499999940395355|             0.4375| 0.512499988079071|0.32500001788139343|  0.699999988079071|  0.512499988079071|0.3499999940395355| 0.4625000059604645| 0.4124999940395355|0.38750001788139343|  0.487500011920929|             0.4375|              0.375|0.2750000059604645| 0.5250000357627869|  0.637499988079071| 0.3375000059604645| 0.5875000357627869|         407.0|           955|            465.0|            465.0|         189.0|           929|692.6450805664062|           844|            358.0|            931|          674.0|           1092|            530|          204.0|          651.0|           1109.0|         1216.0|            941|            941|          609.0|          195.0|          497.0|           626.0|           1210|          544.0|           46.0|         141.0|           750|            500.0|            500.0|         560.0|           348|377.1329345703125|           562|           306.0|            749|          329.0|          363.0|            741|          526.0|          329.0|            293.0|          316.0|            743|            743|          559.0|          509.0|          755.0|            334.0|            374|            368|          740.0|819.2588113654928|550.0909015790027|       0.0| 282.4464551025557|769.7687964577417|238.14360335129453|238.92288194589904| 549.301374474887|724.2775711010248|  492.391104712504| 419.3804954930546|677.2946183161358|390.51376416203317|488.48541431653814|  459.412668523627|109.44404963267759|507.8917207437034|              0.0|379.57871383943535| 417.0083932009042|389.51251584512664| 440.3203379359168|585.3682601576551|666.0270264786558|621.6011583000791|    20541|0.012518854632687109|   -0.16693115234375| 4.571007948655349|9.112811161921574|-0.12026508037860575|4.422629723182092|8.732553922213041| 0.01535797119140625|-0.03188617412860577|       0.00634765625| 0.02449974646935096| 0.05709604116586538|0.029477046086237982|0.21492473895733166|-0.08616579495943509| -0.3840842613807091| 0.473076928120393|thabetsedghiani|\n",
            "|       100|        85|       139|         1|       105|        71|        89|        96|       138|         83|         98|         95|         95|        129|         87|         94|        116|         75|          3|         87|        128|        107|         93|         96|         79|         90|                  640|                  941|                 1480|                  216|                  755|                 1542|                  400|                 1187|                 1465|                  786|                 1064|                 1477|                  173|                  586|                 1315|                  342|                 1071|                 2465|                  640|                 2034|                  2282|                 1298|                  1546|                  2728|                   110|                  1292|                  1763|                   1099|                   1570|                   2901|                    373|                   1704|                   2015|                   1236|                   1547|                   3864|                    216|                   2533|                   3082|                   2188|                   2737|                   2925|                    462|                    650|                   1294|                     94|                    738|                   1755|                    528|                   1545|                   2282|                    942|                   1679|                   1948|                    734|                   1003|                   1418|                    182|                    597|                    959|                    287|                    649|                   1189|                    255|                    795|                   3921|                    447|                   3573|                   5635|                   3030|                   5092|                   1983|                  825|                 1180|                 1581|                  440|                  841|                 1732|                  540|                 1431|                 1675|                  892|                 1136|                 1567|                  349|                  780|                 1516|                  502|                 1238|                 2674|                  825|                 2261|                  2454|                 1532|                  1725|                  2922|                   331|                  1528|                  1996|                   1280|                   1748|                   3079|                    566|                   1897|                   2242|                   1426|                   1771|                   4046|                    440|                   2715|                   3271|                   2404|                   2960|                   3170|                    643|                    853|                   1456|                    304|                    907|                   1852|                    719|                   1664|                   2485|                   1020|                   1841|                   2151|                    824|                   1134|                   1528|                    397|                    791|                   1139|                    522|                    870|                   1413|                    455|                    998|                   4107|                    636|                   3745|                   5818|                   3205|                   5278|                   2152|                740|               1041|               1580|                301|                840|               1627|                539|               1326|               1604|                787|               1065|               1478|                278|                691|               1420|                413|               1142|               2536|                729|               2123|                2371|               1394|                1642|                2824|                 248|                1430|                1901|                 1182|                 1653|                 2984|                  471|                 1802|                 2113|                 1331|                 1642|                 3959|                  311|                 2628|                 3177|                 2317|                 2866|                 3054|                  549|                  737|                 1381|                  188|                  832|                 1849|                  644|                 1661|                 2398|                 1017|                 1754|                 2023|                  737|                 1006|                 1421|                  269|                  684|                 1046|                  415|                  777|                 1317|                  362|                  902|                 4028|                  540|                 3666|                 5728|                 3126|                 5188|                 2062|                    725|                   1080|                   1481|                    355|                    756|                   1647|                    401|                   1292|                   1536|                    891|                   1135|                   1566|                    244|                    675|                   1411|                    431|                   1167|                   2603|                    736|                   2172|                    2365|                   1436|                    1629|                    2826|                     193|                    1390|                    1858|                     1197|                     1665|                     2996|                      468|                     1799|                     2144|                     1331|                     1676|                     3951|                      345|                     2620|                     3176|                     2275|                     2831|                     3041|                      556|                      766|                     1369|                      210|                      813|                     1758|                      603|                     1548|                     2369|                      945|                     1766|                     2076|                      821|                     1131|                     1525|                      310|                      704|                     1052|                      394|                      742|                     1285|                      348|                      891|                     4000|                      543|                     3652|                     5725|                     3109|                     5182|                     2073|0.011764707043766977| 0.02352941408753395|0.011764707043766977|0.007843137718737125|0.011764707043766977|0.007843137718737125|0.011764707043766977|0.011764707043766977|0.003921568859368...|0.011764707043766977|0.011764707043766977| 0.01960784383118153|0.011764707043766977| 0.01568627543747425| 0.01568627543747425|0.003921568859368...| 0.01960784383118153|0.011764707043766977| 0.01568627543747425|0.011764707043766977|0.011764707043766977| 0.02352941408753395| 0.01568627543747425|0.007843137718737125|0.007843137718737125|0.011764707043766977|-2.0643463134765625| -0.681182861328125| -0.321868896484375|-0.5566558837890625|  -0.50665283203125| -0.442047119140625|-1.3652191162109375|-0.4655609130859375|-0.5126495361328125|     -0.39208984375|   -1.8372802734375| -1.072601318359375|-1.2706146240234375|  -0.99127197265625|-1.3549957275390625|  -0.68658447265625|   -0.7994384765625| -0.851531982421875|-0.9170989990234376|-1.2751617431640625|-0.7222442626953125|-1.1338653564453125|-1.2020111083984375|-0.8364715576171875|-1.3762969970703125|-0.8866119384765625|  4.71063232421875| 3.930007934570313|  4.36175537109375| 4.324020385742188|  4.12359619140625| 4.726898193359375| 4.720718383789063|4.8378753662109375| 4.169891357421875|     4.08154296875| 4.353530883789063|4.5451202392578125|4.3507232666015625| 4.176681518554688| 4.496856689453125|  4.26470947265625| 4.373092651367188|        4.38671875| 3.913543701171875| 4.284332275390625| 3.945526123046875|4.2204437255859375|4.0588226318359375|3.9736480712890634| 4.163543701171875| 3.948272705078125|9.500946044921877|8.844406127929688|8.686187744140625|8.596939086914062|8.840316772460938|9.654556274414062|9.340713500976562|8.759201049804688|8.684646606445312|8.851547241210938|9.081344604492188| 9.218658447265623| 8.87725830078125| 8.87347412109375|9.346328735351562|9.056808471679688|8.925643920898438|9.179855346679688|9.356796264648438|9.190826416015623|8.687149047851562|9.110763549804688|9.023483276367188| 9.25286865234375|8.717987060546875|8.866226196289062|-1.6210174560546875|-0.5961456298828125|  0.213226318359375| -0.595855712890625|-0.4738922119140625| -0.578643798828125| -1.149505615234375|-0.6516571044921875|-0.0764617919921875|-0.4213714599609375|  -1.32623291015625| -1.028594970703125|-1.1566925048828125| -0.863555908203125|  -1.37396240234375|-0.7972564697265625|-0.9009552001953124|-0.7607574462890625|-0.7281341552734375| -1.259185791015625|     -0.71630859375|    -1.056884765625|    -1.233154296875|-0.7327728271484375|-1.2633819580078125|-0.8179168701171875| 4.601043701171875|4.238922119140625|  4.24566650390625| 4.403976440429688| 4.226654052734375| 4.209152221679688|4.4566497802734375| 4.429122924804688|4.1437530517578125|  4.20989990234375| 4.340377807617188|4.1644134521484375| 4.302215576171875|4.2042083740234375|4.2399749755859375|  4.18206787109375| 4.130584716796875| 4.266754150390625|3.9028472900390634| 4.160659790039063|4.0803070068359375|  4.09661865234375| 4.105743408203125|   3.9080810546875| 4.157073974609375|3.9411468505859375|8.507186889648438|8.822921752929688|8.837295532226562|8.741668701171875| 8.83624267578125|8.838333129882812|8.659378051757812|8.725067138671875|8.887710571289062| 8.84686279296875|8.693191528320312|8.818588256835938|8.736282348632812|8.817535400390625|8.735092163085938|8.834152221679688|  8.8485107421875|8.796890258789062|8.966873168945312|8.790451049804688| 8.88861083984375|8.847015380859375|8.819931030273438|8.964324951171875|    8.79150390625|8.942489624023438| -0.118255615234375| 0.0010528564453125|  0.027679443359375|   0.03619384765625| -0.036224365234375|  0.037261962890625|-0.0170440673828125| -0.172576904296875|  0.187469482421875| 0.0862579345703125| 0.0202178955078125|  0.074554443359375| 0.0862579345703125|-0.0852203369140625|-0.0191802978515625|     0.073486328125| -0.012786865234375| 0.0021209716796875|   0.02874755859375|-0.0639190673828125| -0.104400634765625| 0.0031890869140625|  -0.05645751953125|        -0.05859375| -0.001068115234375|0.0436553955078125|-0.4207916259765625|  0.060699462890625|     0.038330078125|        0.01171875| 0.1459197998046875| 0.1033172607421875|  0.197052001953125| -0.158721923828125| 0.2929229736328125|0.0234222412109375|  -0.11505126953125|  0.046844482421875|  -0.11505126953125| 0.0894622802734375| 0.1128997802734375| 0.0063934326171875|     0.073486328125|   0.02874755859375| 0.0351409912109375|-0.1555328369140625|-0.1672515869140625| 0.107574462890625|    0.1043701171875|   -0.0159912109375|  0.04046630859375|   -0.0159912109375| 0.0415496826171875|  0.045806884765625|-0.0191497802734375| -0.006378173828125| -0.051116943359375| 0.0554046630859375|-0.0234222412109375|         0.03515625|    -0.050048828125| 0.045806884765625| 0.0053253173828125|  0.010650634765625| 0.0191802978515625|  0.071380615234375| 0.012786865234375|-0.0308685302734375| 0.0095977783203125| 0.0404815673828125| -0.00531005859375| 0.0308990478515625|-0.0095672607421875|    0.0159912109375| 0.0063934326171875|  -0.01702880859375|   0.00213623046875| 0.0287628173828125|    -0.078857421875|-0.2035064697265625| 0.9120330810546876|-0.1415557861328125|  -0.02886962890625|-0.1443939208984375|-0.1241912841796875| -0.358673095703125|0.3350372314453125|    0.1292724609375| 0.0668792724609375|  0.023040771484375| -0.131378173828125| -0.046234130859375| 0.1146087646484375|   0.06463623046875| 0.1826934814453125|   -0.0245361328125| 0.1056365966796875|-0.0480194091796875|0.1752166748046875|-0.1354217529296875|    0.0504150390625|  0.076751708984375|-0.3981781005859375|-0.0344085693359375|  0.041290283203125| 0.0251312255859375| 0.0327606201171875| 0.0037384033203125|-0.1397552490234375| -0.002532958984375|  0.061187744140625|  -0.06927490234375|  0.072418212890625|  -0.03680419921875|  0.038604736328125|     0.114013671875|  0.086334228515625|0.1843414306640625|-0.0620880126953125|  -0.00897216796875|-0.3070526123046875|-0.0362091064453125|    -0.002685546875|-0.0019378662109375| 0.035308837890625|   0.29193115234375|-0.0811004638671875|         0.03515625|-0.0127105712890625|-0.0170440673828125|  0.013763427734375|-0.072113037109375|-0.292388916015625|  0.157562255859375|-0.0471343994140625| -0.058807373046875| 0.1009979248046875|-1.7651214599609375|  0.136016845703125|   -0.076904296875|-0.2679901123046875|   0.11895751953125| 0.1677398681640625| 0.0433807373046875|  0.006134033203125|  -0.9979248046875| -0.073760986328125|-0.3381805419921875|      -0.2783203125|  -0.05401611328125|      0.47509765625| 0.2724761962890625| 0.1798553466796875|  0.179107666015625|  0.112518310546875|-0.0193023681640625|0.2632598876953125| 0.197479248046875|0.1857147216796875| 0.203521728515625|0.1916961669921875| 0.193756103515625| 0.226043701171875|0.2033843994140625|0.1891937255859375|  0.19183349609375|0.2330169677734375| 0.205047607421875|0.2199859619140625|       0.201171875|0.2197723388671875|   0.2022705078125|0.2024383544921875|0.2053680419921875|0.1921539306640625|  0.21514892578125|0.1979522705078125|  0.20501708984375|       0.216796875|0.1947479248046875| 0.215240478515625|0.1930999755859375| -0.060394287109375|-0.1112213134765625|-0.1287078857421875|-0.1068572998046875|   -0.1060791015625|-0.1077423095703125|-0.0864105224609375|-0.1136322021484375|-0.1196746826171875|-0.1120758056640625|-0.0648040771484375| -0.083709716796875|-0.0794525146484375|   -0.0965576171875|-0.0723419189453125|  -0.09320068359375| -0.086395263671875|  -0.09600830078125|   -0.0867919921875|-0.0727081298828125|-0.0847625732421875| -0.075958251953125|  -0.06536865234375|-0.0832061767578125|-0.0660552978515625|  -0.08624267578125|  -0.54095458984375| -0.581085205078125|-0.5800628662109375| -0.574371337890625|-0.5721282958984375|  -0.57281494140625|-0.5548248291015625|-0.5765533447265625|     -0.59033203125|-0.5859832763671875|-0.5561065673828125|    -0.568115234375|  -0.56402587890625|    -0.570556640625|-0.5470123291015625|  -0.55999755859375| -0.559783935546875|-0.5600433349609375|-0.5612945556640625|  -0.55157470703125|-0.5565643310546875|   -0.5548095703125|-0.5492706298828125|    -0.562744140625| -0.546539306640625|   -0.5694580078125| 0.4124999940395355|  0.574999988079071|               0.75| 0.3499999940395355| 0.4000000059604645|0.36250001192092896|0.38750001788139343| 0.4000000059604645|             0.3125|             0.4375|0.4000000059604645|  0.637499988079071|0.42500001192092896|             0.4375|0.4625000059604645|0.26250001788139343| 0.5875000357627869|0.45000001788139343|  0.487500011920929|0.45000001788139343|              0.375| 0.574999988079071| 0.4000000059604645|0.32500001788139343|             0.4375| 0.3499999940395355|         379.0|           926|            459.0|            459.0|         154.0|           939|            644.0|           855|            373.0|            930|          655.0|           1076|            532|          186.0|          630.0|           1074.0|         1166.0|            905|            905|          582.0|          195.0|          521.0|           685.0|           1201|          539.0|           89.0|         124.0|           761|            503.0|            503.0|         541.0|           318|            337.0|           532|           300.0|            786|          329.0|          338.0|            754|          510.0|          334.0|            326.0|          307.0|            746|            746|          537.0|          497.0|          770.0|            344.0|            353|            325|          735.0| 839.629680275775|533.5288183406778|       0.0|307.35809733924367|816.0600468102823| 295.6112311804137|287.30819688968154|534.9280325426963|739.2191826515326| 533.3610409469368| 421.0961885365385|684.8299058890462|423.38162454220895|477.61072014769513|444.07206622349037| 93.94147114027969|510.7269329103372|              0.0|384.72067789501517|389.06169176622876|425.21171197416464|456.47781983355986|516.0784824035974|662.5918804211233|608.7692502089769|    21040|0.012669684257931434| -0.9431674663837141| 4.286250187800482|9.020189725435698| -0.8448873666616586|4.205689063439002|8.807465773362381|-0.00144547682542...|0.013630206768329326| 0.01016998291015625|0.012999901404747596|0.009386502779447116| -0.0914752666766827|0.20635047325721154|-0.09024458665114182| -0.5641156710111178| 0.440384620657334|thabetsedghiani|\n",
            "|        80|        83|       165|         3|       111|        89|        82|        50|       123|         92|         48|         89|         92|        122|         91|         98|         66|         83|          5|         74|        134|         50|         81|        107|        106|        128|                  796|                 1073|                 1570|                  194|                  691|                 1404|                  332|                 1045|                 1373|                  710|                 1038|                 1467|                  217|                  646|                 1348|                  340|                 1042|                 1963|                  620|                 1541|                  1765|                  871|                  1095|                  1513|                   101|                   519|                  1711|                    326|                   1518|                   2145|                   1144|                   1771|                   2027|                    538|                    794|                   1140|                    164|                    510|                   1898|                    224|                   1612|                   1820|                   1297|                   1505|                   1960|                    110|                    565|                   1632|                    389|                   1456|                   1958|                    984|                   1486|                   1695|                    497|                    706|                    995|                    135|                    424|                    772|                    155|                    503|                    981|                    298|                    776|                   1237|                    397|                    858|                   1950|                    354|                   1446|                    986|                  959|                 1318|                 1653|                  442|                  777|                 1598|                  500|                 1321|                 1627|                  824|                 1130|                 1552|                  417|                  839|                 1509|                  511|                 1181|                 2175|                  752|                 1746|                  1939|                 1044|                  1237|                  1611|                   316|                   690|                  1923|                    466|                   1699|                   2329|                   1281|                   1911|                   2197|                    719|                   1005|                   1320|                    378|                    693|                   2088|                    437|                   1832|                   2008|                   1486|                   1662|                   2134|                    274|                    746|                   1735|                    538|                   1527|                   2098|                   1072|                   1643|                   1912|                    576|                    845|                   1050|                    343|                    548|                    927|                    339|                    718|                   1222|                    429|                    933|                   1393|                    585|                   1045|                   2159|                    567|                   1681|                   1220|                876|               1153|               1650|                277|                774|               1487|                497|               1210|               1538|                713|               1041|               1470|                328|                757|               1459|                429|               1131|               2052|                702|               1623|                1847|                921|                1145|                1563|                 224|                 642|                1834|                  418|                 1610|                 2237|                 1192|                 1819|                 2075|                  627|                  883|                 1229|                  256|                  602|                 1990|                  346|                 1734|                 1942|                 1388|                 1596|                 2051|                  208|                  663|                 1730|                  455|                 1522|                 2024|                 1067|                 1569|                 1778|                  502|                  711|                 1000|                  209|                  498|                  846|                  289|                  637|                 1115|                  348|                  826|                 1287|                  478|                  939|                 2031|                  461|                 1553|                 1092|                    879|                   1238|                   1573|                    359|                    694|                   1515|                    335|                   1156|                   1462|                    821|                   1127|                   1549|                    306|                    728|                   1398|                    422|                   1092|                   2086|                    670|                   1664|                    1857|                    994|                    1187|                    1561|                     193|                     567|                    1800|                      374|                     1607|                     2237|                     1233|                     1863|                     2149|                      630|                      916|                     1231|                      286|                      601|                     1996|                      315|                     1710|                     1886|                     1395|                     1571|                     2043|                      176|                      648|                     1637|                      472|                     1461|                     2032|                      989|                     1560|                     1829|                      571|                      840|                     1045|                      269|                      474|                      853|                      205|                      584|                     1088|                      379|                      883|                     1343|                      504|                      964|                     2078|                      460|                     1574|                     1114|0.027450982481241226|0.011764707043766977| 0.01568627543747425|0.011764707043766977|0.011764707043766977|0.011764707043766977| 0.01568627543747425| 0.01960784383118153| 0.01568627543747425| 0.01568627543747425|0.007843137718737125| 0.01568627543747425| 0.01960784383118153| 0.01568627543747425|  0.0313725508749485|0.007843137718737125|0.011764707043766977| 0.01960784383118153| 0.01568627543747425|0.007843137718737125| 0.01568627543747425|0.007843137718737125|0.003921568859368...| 0.01568627543747425|0.011764707043766977|0.007843137718737125|-2.4896392822265625|-0.7769927978515625|-0.1737518310546875|   -1.0985107421875|-1.0478057861328125|-1.0625762939453125|-1.9309844970703125|-1.2481231689453125|-0.1935272216796875|-0.1687469482421875|  -1.69171142578125|  -0.91729736328125|-1.0089263916015625| -0.790740966796875|-1.1918182373046875|  -0.70782470703125|  -0.93975830078125|-0.8106231689453125|-1.1220550537109375| -1.502716064453125|   -1.2572021484375|-1.5316314697265625|-1.5641632080078125|  0.038970947265625|    -1.522705078125|   -0.4713134765625|   5.2008056640625|   4.3209228515625| 4.556854248046875|        4.47265625| 4.745025634765625| 4.632965087890625|5.0034942626953125|4.6294708251953125|4.6097259521484375| 4.564376831054688|    5.039794921875| 4.876922607421875|  4.56842041015625| 4.656539916992188|4.6066741943359375|4.7298431396484375| 4.414398193359375|  4.78179931640625|3.9150543212890634| 4.035568237304688|4.0146026611328125| 4.317550659179688| 4.213104248046875|4.5478057861328125|4.8744659423828125|3.9572601318359375|9.044326782226562|8.743820190429688|  8.4849853515625|8.796951293945312|9.063156127929688|9.014266967773438|8.751876831054688|  9.1680908203125|9.182174682617188|8.924758911132812|    8.31494140625|     8.68212890625|8.764694213867188|8.657028198242188|8.960174560546875| 8.45172119140625| 8.91253662109375|9.005218505859375|9.110031127929688|8.843948364257812|8.386611938476562|9.065200805664062|   9.080810546875|8.814804077148438|9.018035888671877|9.071151733398438|  -2.12200927734375| -0.829437255859375|    -0.375732421875|-0.9588775634765624| -0.921905517578125|-1.0745391845703125| -1.806121826171875|-1.2295684814453125|-0.3221588134765625|-0.3471527099609375| -1.188568115234375| -0.929534912109375|-0.9721832275390624|-0.9105377197265624|  -1.08306884765625|   -0.9051513671875|       -0.931640625| -0.788726806640625|-1.0588226318359375|-1.4689788818359375|-1.2264251708984375|-1.4071807861328125|  -1.55682373046875|-0.3254547119140625|-1.7139434814453125|-0.3456573486328125|4.7967681884765625| 4.35040283203125| 4.496749877929688|4.4163970947265625| 4.519943237304688|4.4816436767578125|  4.90032958984375| 4.630828857421875|         4.3984375|   4.3878173828125|4.9103546142578125|4.5295257568359375|4.6157073974609375| 4.542694091796875|4.5621490478515625|4.5094757080078125| 4.522186279296875| 4.530120849609375| 3.985443115234375| 4.130584716796875| 4.074020385742188|   4.1307373046875| 4.234893798828125| 4.308502197265625| 4.804702758789063|3.6761322021484375|8.285873413085938| 8.74945068359375|8.706649780273438| 8.70306396484375|8.653839111328125|8.656082153320312|8.300247192382812|8.556427001953125|8.758880615234375|8.763214111328125|8.404983520507812|8.647994995117188|8.597564697265625|    8.64306640625|8.612838745117188|  8.6610107421875|8.651596069335938|    8.66162109375|8.897445678710938|8.772048950195312|8.835494995117188|8.782073974609375|8.706954956054688|8.803329467773438|  8.3753662109375|9.084793090820312|  0.117156982421875|         -0.0234375| 0.1022491455078125|  -0.02557373046875| 0.0298004150390625|-0.0980072021484375|-0.0884246826171875|  -0.06072998046875|-0.0085296630859375|-0.0319671630859375| -0.057525634765625|  0.013824462890625|  0.062835693359375| 0.0649566650390625|-0.0213165283203125|-0.0181121826171875|  -0.04901123046875|-0.0862884521484375|-0.1800384521484375|-0.1086578369140625|  0.037261962890625| 0.0415191650390625|   -0.1363525390625|   0.01275634765625| 0.0053253173828125|  0.16510009765625|-0.6242523193359375|-0.0063934326171875|  0.074554443359375|  0.14166259765625| 0.2130279541015625| 0.1672210693359375|  0.389862060546875|  0.105438232421875|  0.117156982421875|0.0788116455078125|-0.2610015869140625| -0.057525634765625|-0.0532684326171875|   0.02874755859375|  0.173614501953125|-0.0308990478515625|  0.008514404296875| 0.0031890869140625|     0.073486328125|  -0.06072998046875|  0.187469482421875|0.0873260498046875|-0.3930816650390625| 0.0212860107421875| 0.354705810546875|-0.1800384521484375| 0.0532684326171875|  0.036224365234375|-0.0436553955078125|         0.03515625|-0.0425872802734375|  0.012786865234375| 0.1320953369140625| 0.0415496826171875|-0.0212860107421875|0.0522003173828125|-0.0234222412109375| 0.0170440673828125|    -0.050048828125|-0.0308685302734375|0.0213165283203125| 0.0085296630859375|    -0.026611328125|    0.0042724609375|   0.0159912109375| 0.0085296630859375|    -0.026611328125| 0.0191802978515625| 0.0308990478515625|  0.036224365234375| 0.0202484130859375| -0.046844482421875| -0.463714599609375|-0.0851287841796875| 0.2895355224609375|-0.1472320556640625|  0.098297119140625| 0.0498199462890625| -0.109222412109375| -0.058502197265625|     0.04443359375|  0.069427490234375|-0.3484954833984375|     0.067626953125|      0.08154296875| 0.0486297607421875|  -0.12359619140625|   0.02886962890625|-0.0355987548828125| 0.0082244873046875|-0.0281219482421875|-0.1446990966796875|0.2974700927734375|    -0.067626953125|-0.1430511474609375| -0.033660888671875|   -0.1199951171875| 0.1397552490234375|  0.635650634765625|  0.052520751953125|-0.2326812744140625|  0.063140869140625|  0.060150146484375|     0.002685546875| 0.1969146728515625|   -0.1033935546875| 0.0284271240234375| -0.018402099609375|   0.19647216796875| -0.069122314453125| -0.217559814453125|0.0948638916015625|        0.037109375| -0.001190185546875|-0.1862945556640625| 0.1074371337890625|-0.0900726318359375|  -0.05804443359375|  0.03680419921875|     0.023193359375|   0.01959228515625|  0.439178466796875|   0.01959228515625| 0.2048492431640625| 0.8767242431640625| 0.092315673828125| 0.015411376953125|   0.10040283203125|  0.264556884765625|  0.271881103515625| 0.5175933837890625|    -0.236572265625|  -0.39593505859375|-0.045928955078125|-0.1904754638671875| 0.1027984619140625| -0.100555419921875| 0.1795501708984375|  0.372589111328125|-0.307647705078125|  -0.35089111328125|  0.611114501953125|-0.0173492431640625|  0.419281005859375|-0.4150848388671875|  -0.16534423828125| 0.1443939208984375|  0.148590087890625|-0.3763275146484375| 0.2932891845703125|  0.27191162109375|   0.2061767578125| 0.196563720703125|0.2093658447265625| 0.220062255859375|0.2222747802734375| 0.278289794921875|0.2319488525390625|0.1880645751953125|0.1962127685546875|0.2489471435546875|0.2196807861328125| 0.223297119140625| 0.223297119140625|0.2275543212890625|0.2171173095703125|      0.2177734375|0.2146453857421875|0.1966094970703125| 0.223541259765625|0.2147064208984375|0.2197418212890625|0.2226409912109375|   0.1859130859375|  0.24847412109375| 0.155120849609375| -0.047515869140625| -0.112640380859375|-0.1262664794921875|  -0.10821533203125|  -0.10479736328125| -0.096649169921875|-0.0690155029296875|-0.0973968505859375|-0.1336212158203125|-0.1257476806640625| -0.102569580078125| -0.105682373046875|-0.1089019775390625|-0.1089019775390625| -0.098724365234375| -0.105499267578125|-0.1050872802734375|-0.1122589111328125|   -0.0870361328125|-0.0630950927734375|-0.0716705322265625| -0.067718505859375|      -0.0693359375|-0.1236114501953125|  -0.09075927734375| -0.099212646484375|-0.5658721923828125| -0.609222412109375|-0.6100616455078125|-0.6037445068359375| -0.599334716796875|-0.5964202880859375|-0.5658111572265625| -0.594207763671875|-0.6075592041015625|-0.6021881103515625|-0.5791473388671875|  -0.59332275390625|-0.5919647216796875|-0.5919647216796875| -0.587188720703125|-0.5915679931640625|    -0.592041015625|-0.5930938720703125| -0.588226318359375| -0.578033447265625|-0.5801544189453125|-0.5785675048828125| -0.574615478515625|    -0.599853515625|-0.5784149169921875| -0.600677490234375|             0.8125| 0.4625000059604645| 0.6000000238418579|                0.5|0.36250001192092896|  0.487500011920929|              0.625|  0.512499988079071|  0.512499988079071|  0.512499988079071|            0.3125| 0.4000000059604645|  0.637499988079071|              0.625|            0.8125|             0.4375|              0.375| 0.5250000357627869|  0.550000011920929|0.38750001788139343| 0.5250000357627869|             0.375| 0.4124999940395355| 0.4749999940395355|0.36250001192092896|0.30000001192092896|         372.0|           942|            446.0|            446.0|         167.0|           937|            632.0|           829|            364.0|            934|          631.0|           1062|            513|          183.0|          633.0|1080.560302734375|         1192.0|            919|            919|          578.0|          173.0|          506.0|           648.0|           1213|          489.0|           56.0|         139.0|           757|            514.0|            514.0|         529.0|           340|            338.0|           586|           322.0|            790|          322.0|          375.0|            744|          509.0|          324.0|326.6732177734375|          302.0|            753|            753|          556.0|          500.0|          772.0|            318.0|            350|            356|          699.0|840.7282557402243|552.3268959592681|       0.0| 279.4029348450012|792.8562290857027|305.00655730656024| 316.7222758190525|534.7158123713941|737.5120338001273| 557.5239905152065| 434.2464737910949|661.4846937004667|  405.123437979093|486.54393429576334| 447.5682860491232|114.13839757920915|527.1906675957001|              0.0| 393.8146772277539| 408.8532744151623| 429.9686035049536| 475.6889740155851|565.9054691377349|724.0248614515941|552.3929760596164|    14431| 0.01432880936548687|  -1.045468257023738| 4.549465472881612|8.858209463266226| -1.0307769775390625|4.440251863919771| 8.66430429311899|   -0.01312255859375|0.021495525653545674|0.008983905498798076|-0.02634664682241...|0.047762357271634616| 0.06955308180588943|0.21845890925480768|-0.09776658278245193| -0.5905098548302283|0.4961538509680674|thabetsedghiani|\n",
            "|        78|        59|       140|         5|       131|        98|        66|        67|       143|        100|         73|         96|         84|        121|         91|         81|         83|         83|          2|         78|        126|         82|         89|         98|        115|         99|                 1611|                 1939|                 2388|                  269|                  718|                 1418|                  309|                 1009|                 1231|                  695|                  917|                 1357|                   91|                  531|                  995|                  342|                  806|                 2308|                  398|                 1900|                  2092|                 1435|                  1627|                  2026|                    49|                   448|                  1503|                    299|                   1354|                   2008|                    982|                   1636|                   1910|                    558|                    832|                   1071|                    190|                    429|                    937|                    118|                    626|                    821|                    417|                    612|                   1037|                    114|                    539|                   1427|                    342|                   1230|                   1678|                    805|                   1253|                   1473|                    446|                    666|                    990|                    142|                    466|                    836|                    198|                    568|                   1090|                    288|                    810|                   1527|                    433|                   1150|                   2264|                    619|                   1733|                    999|                 1748|                 2157|                 2471|                  468|                  782|                 1608|                  454|                 1280|                 1469|                  831|                 1020|                 1428|                  320|                  728|                 1193|                  506|                  971|                 2549|                  531|                 2109|                  2258|                 1645|                  1794|                  2166|                   292|                   664|                  1742|                    472|                   1550|                   2192|                   1151|                   1793|                   2104|                    738|                   1049|                   1258|                    395|                    604|                   1102|                    330|                    828|                   1025|                    589|                    786|                   1211|                    278|                    703|                   1510|                    508|                   1315|                   1839|                    890|                   1414|                   1682|                    526|                    794|                   1074|                    346|                    626|                   1003|                    406|                    783|                   1314|                    459|                    990|                   1724|                    620|                   1354|                   2452|                    832|                   1930|                   1213|               1689|               2017|               2466|                328|                777|               1477|                449|               1149|               1371|                700|                922|               1362|                222|                662|               1126|                440|                904|               2406|                464|               1966|                2158|               1502|                1694|                2093|                 192|                 591|                1646|                  399|                 1454|                 2108|                 1055|                 1709|                 1983|                  654|                  928|                 1167|                  274|                  513|                 1021|                  239|                  747|                  942|                  508|                  703|                 1128|                  195|                  620|                 1508|                  425|                 1313|                 1761|                  888|                 1336|                 1556|                  448|                  668|                  992|                  220|                  544|                  914|                  324|                  694|                 1216|                  370|                  892|                 1609|                  522|                 1239|                 2353|                  717|                 1831|                 1114|                   1670|                   2079|                   2393|                    409|                    723|                   1549|                    314|                   1140|                   1329|                    826|                   1015|                   1423|                    189|                    597|                   1062|                    408|                    873|                   2451|                    465|                   2043|                    2192|                   1578|                    1727|                    2099|                     149|                     521|                    1599|                      372|                     1450|                     2092|                     1078|                     1720|                     2031|                      642|                      953|                     1162|                      311|                      520|                     1018|                      209|                      707|                      904|                      498|                      695|                     1120|                      197|                      622|                     1429|                      425|                     1232|                     1756|                      807|                     1331|                     1599|                      524|                      792|                     1072|                      268|                      548|                      925|                      280|                      657|                     1188|                      377|                      908|                     1642|                      531|                     1265|                     2363|                      734|                     1832|                     1098|0.007843137718737125|0.011764707043766977|0.003921568859368...| 0.01568627543747425|0.007843137718737125|0.007843137718737125|0.003921568859368...|0.007843137718737125|0.007843137718737125|0.011764707043766977| 0.02352941408753395|0.011764707043766977|0.007843137718737125|0.011764707043766977| 0.01568627543747425| 0.01568627543747425|0.007843137718737125| 0.01568627543747425|0.011764707043766977|0.007843137718737125| 0.01568627543747425|0.003921568859368...|0.007843137718737125| 0.01568627543747425|0.011764707043766977|0.003921568859368...| -2.359344482421875| -0.633026123046875| -0.102081298828125| -0.688751220703125|-0.7697296142578125|-0.7006683349609375|-1.3530426025390625|-0.9419403076171876| 0.0796356201171875| 0.1770477294921875| -1.188018798828125|-0.6347198486328125| -0.913360595703125|   -0.6641845703125| -1.031707763671875| -0.599578857421875|-0.5605621337890625| -0.666107177734375|-0.7704010009765625|-1.4403839111328125|-0.7217864990234375|  -1.09429931640625|-1.1071319580078125|-0.7362213134765625|  -1.17364501953125|  -0.22344970703125| 5.213424682617188|4.3773040771484375|4.5971527099609375|4.3517608642578125| 4.517852783203125| 4.892242431640625| 4.527435302734375| 4.278610229492188|   4.3668212890625|4.3200531005859375|  4.54327392578125| 4.585418701171875|4.6091156005859375|4.5883331298828125|  4.74505615234375|4.5883331298828125|4.5452728271484375|4.6344757080078125|  4.23626708984375|4.3943634033203125|4.1595306396484375|  4.45172119140625|4.6529693603515625| 4.227096557617188|  4.67474365234375| 4.041763305664063|8.294876098632812|8.274978637695312|8.767730712890625|   8.465087890625| 8.98663330078125|   9.027099609375| 9.16241455078125| 9.10467529296875|     8.7333984375|9.178634643554688|8.618362426757812|     8.74462890625|8.778915405273438|8.803085327148438|9.052398681640623|9.035552978515623|8.999359130859375|8.984649658203125|8.734970092773438|9.394683837890623|8.759140014648438|9.328567504882812|9.163421630859377|8.828643798828125|8.999404907226562|9.119674682617188| -2.002288818359375|  -0.60931396484375|-0.1101226806640625| -0.626373291015625| -0.569366455078125|   -0.8336181640625|-1.3376007080078125|  -0.95123291015625|    0.1478271484375|    0.1478271484375|-0.9614105224609376|-0.6857757568359375|-0.7852935791015625|-0.8394622802734375|-0.9974822998046876|   -0.5460205078125|-0.6299591064453125|  -0.55230712890625|-0.6610870361328125|-1.0437164306640625|-0.7837982177734375|    -0.952880859375|     -1.01318359375| -0.474945068359375|   -1.1278076171875|    -0.470458984375| 4.756515502929688|4.417739868164063|4.3607330322265625|4.5187530517578125| 4.474761962890625| 4.384078979492188| 4.482086181640625| 4.287857055664063|4.3513031005859375|4.3513031005859375|4.6317291259765625| 4.466522216796875|     4.48193359375| 4.588180541992188| 4.600753784179688| 4.494064331054688| 4.472503662109375|        4.51171875|  4.42987060546875|4.3851165771484375| 4.136276245117188|   4.3394775390625| 4.527130126953125| 4.362075805664063|4.4195404052734375|  3.87664794921875|8.338699340820312|    8.73388671875|8.782974243164062|8.680770874023438|8.707550048828125| 8.73223876953125|8.619125366210938| 8.76800537109375|8.787155151367188|8.787155151367188|8.590240478515625|   8.703369140625|8.687057495117188|8.626296997070312|  8.6026611328125|8.699020385742188|8.704559326171875|      8.689453125|8.723861694335938|8.709197998046875|8.856887817382812|8.742416381835938|8.639923095703125|8.770095825195312| 8.68121337890625|8.995452880859375|  0.298248291015625|   0.08306884765625|     0.120361328125| 0.0234222412109375|   -0.2066650390625|   -0.2066650390625|  -0.41119384765625| 0.0447235107421875|-0.1097259521484375| 0.0564422607421875| 0.0457916259765625| 0.0340728759765625|-0.0063934326171875| 0.0010528564453125|          -0.046875| 0.0457916259765625| -0.038360595703125| 0.0436553955078125|-0.0426177978515625|-0.0862884521484375| 0.0756072998046875| 0.1342010498046875| 0.0915985107421875| 0.0234222412109375| 0.0117034912109375|0.0798797607421875| 0.4218292236328125|-0.1193084716796875| 0.2822723388671875|    0.085205078125| 0.5113067626953125| 0.5113067626953125| -0.278045654296875| 0.0010528564453125| 0.2151641845703125|   0.1629638671875|  0.274810791015625| 0.1672210693359375|-0.0330352783203125|  0.380279541015625|    -0.296142578125|  0.010650634765625| 0.1906585693359375|     0.061767578125| -0.012786865234375|-0.1097259521484375| 0.0543060302734375|0.1459197998046875|    0.2332763671875| 0.1810760498046875|   0.1160888671875|-0.3398284912109375|  0.034088134765625|  0.034088134765625|  0.045806884765625|-0.0319366455078125|-0.0117034912109375|-0.0117034912109375| -0.018096923828125| -0.006378173828125|  0.003204345703125| 0.034088134765625|  0.127838134765625|-0.0106353759765625|  0.001068115234375| -0.046844482421875|0.0181121826171875|-0.0010528564453125|  0.026641845703125| -0.015960693359375|        0.01171875| 0.0319671630859375| -0.058563232421875| 0.0522003173828125| 0.0554046630859375|-0.0234222412109375|  -0.03619384765625|-0.0883941650390625| -0.166839599609375|-0.0945587158203125| 0.1675872802734375| 0.0804901123046875|   0.15277099609375|   0.18719482421875| 0.0160064697265625| 0.0270843505859375|-0.002532958984375|  -0.11431884765625|-0.2308807373046875|-0.2958221435546875| 0.0095672607421875|   0.34625244140625|   0.04937744140625| 0.0671844482421875|     0.151123046875| 0.0016326904296875|      0.13916015625|-0.0097198486328125|-0.001495361328125| 0.2250518798828125| -0.653167724609375|   0.00567626953125|   -0.0596923828125| -0.013153076171875| 0.0486297607421875| 0.0378570556640625| 0.1523284912109375|-0.0822906494140625|    0.0430908203125|-0.0146636962890625|   -0.1126708984375|  -0.03814697265625| 0.3731842041015625|-0.0872344970703125| 0.0872344970703125|   -0.0875244140625|-0.0837860107421875|   0.0828857421875| -0.044586181640625| 0.0142059326171875| 0.0453338623046875|-0.0082244873046875|   -0.0987548828125| -0.293426513671875| 0.041595458984375| 0.1208953857421875|-0.0188446044921875|-0.1027984619140625| 0.2802581787109375| -4.425048828125E-4|      0.28759765625| -0.06927490234375|0.1162567138671875|  -0.08319091796875|  -0.03814697265625| -5.950927734375E-4|-0.4572906494140625|  -0.09381103515625| 0.1997528076171875|      -0.294921875|  0.055206298828125|  0.602874755859375|   -0.5347900390625| 0.3734893798828125|  0.291778564453125|  0.16668701171875|-0.1117706298828125|  -8.85009765625E-4|    -0.327392578125| -0.245697021484375|-0.2497406005859375|    -0.915771484375|-0.0950164794921875|-0.2587127685546875| 0.3329315185546875|-0.3978729248046875|0.2836761474609375|0.2045745849609375|0.1962738037109375|0.2031707763671875| 0.212188720703125| 0.212188720703125|0.2249908447265625|    0.210693359375| 0.176177978515625| 0.179290771484375|0.2352752685546875|0.2082977294921875|0.2122344970703125|0.2121429443359375|0.2271270751953125| 0.209197998046875| 0.209808349609375|0.2080841064453125|0.2081451416015625|0.2081451416015625|0.1965179443359375|0.2105865478515625|   0.2227783203125| 0.199310302734375| 0.226104736328125|  0.17486572265625|-0.0484466552734375|-0.1184844970703125|-0.1280670166015625|-0.1210174560546875| -0.097259521484375| -0.097259521484375|    -0.082275390625|    -0.091064453125| -0.151397705078125| -0.135833740234375|  -0.09478759765625|  -0.11566162109375|-0.1073455810546875|-0.1091766357421875| -0.097259521484375| -0.118194580078125|-0.1137542724609375| -0.117156982421875|-0.1105499267578125|-0.1105499267578125| -0.099517822265625| -0.094512939453125| -0.092742919921875|-0.1139373779296875|-0.0812225341796875| -0.109649658203125|-0.5407562255859375| -0.579315185546875| -0.575836181640625|   -0.5792236328125|-0.5690155029296875|-0.5690155029296875| -0.557525634765625|  -0.56634521484375|-0.5873260498046875| -0.582244873046875| -0.557403564453125|  -0.57318115234375|-0.5686187744140625|-0.5708160400390625|  -0.56829833984375| -0.579132080078125| -0.577301025390625|-0.5776824951171875| -0.578033447265625| -0.578033447265625|-0.5779571533203125|-0.5731658935546875|-0.5650787353515625|-0.5800018310546875|-0.5591278076171875|-0.6006622314453125| 0.3499999940395355| 0.4124999940395355| 0.2750000059604645|                0.5| 0.3375000059604645|0.30000001192092896|0.32500001788139343| 0.4000000059604645| 0.3375000059604645|0.45000001788139343| 0.675000011920929| 0.4000000059604645| 0.3499999940395355| 0.3499999940395355|0.5875000357627869| 0.4625000059604645| 0.4000000059604645| 0.4625000059604645|0.45000001788139343|0.32500001788139343| 0.6625000238418579|0.3499999940395355| 0.4000000059604645|0.36250001192092896| 0.4124999940395355|0.23749999701976776|         370.0|           947|441.9419250488281|441.9419250488281|         192.0|           937|            644.0|           823|            373.0|            913|          636.0|           1060|            534|          162.0|          642.0|           1078.0|         1198.0|            918|            918|          606.0|          170.0|          515.0|           651.0|           1191|          528.0|           26.0|         134.0|           757|509.9146728515625|509.9146728515625|         540.0|           378|            331.0|           567|           303.0|            746|          336.0|          350.0|            755|          524.0|          376.0|            341.0|          317.0|            752|            752|          583.0|          520.0|          757.0|            298.0|            357|            393|          729.0|849.1513410458704|562.2586753136263|       0.0|251.74608796710731|762.4099946878977|296.74568236117614| 296.2043213729334| 521.724064999881|698.4618815654868|494.80198059425766| 424.2310691121054|663.8531464111622| 437.8869717175883|502.29871590518724| 437.4025605777817|122.37646832622684|517.3248495867949|              0.0| 354.8309456628607| 440.5280921802831|418.56182339052384| 478.7243465711765|543.2135859862124|663.9766562161655|604.0695324215583|    14437| 0.01055807014927268| -0.8006715040940505| 4.504630455603967|8.897730313814604| -0.7411481417142428|4.427256657527043|8.706125699556791|0.002240694486177...| 0.10839550311748798|0.004436199481670673|-6.16220327524038...| 0.00977325439453125|-0.06724254901592548|0.21045567439152646|-0.10604330209585336| -0.5727345393254206|0.4067307762228526|thabetsedghiani|\n",
            "|        58|        90|       174|         2|       115|        95|       102|        81|       119|         82|         81|         91|        113|        124|         99|        113|         92|         72|          5|         80|        138|         64|         98|         90|         86|        133|                  632|                  998|                 1834|                  276|                 1112|                 1708|                  662|                 1258|                 1646|                  594|                  982|                 1361|                  273|                  652|                 1188|                  284|                  820|                 1209|                  434|                  823|                  1071|                  308|                   556|                   965|                   129|                   538|                  1778|                    327|                   1567|                   3935|                   1159|                   3527|                   3739|                   2277|                   2489|                   2785|                     99|                    395|                    918|                    172|                    695|                    886|                    424|                    615|                   1096|                     78|                    559|                   1575|                    389|                   1405|                   1889|                    944|                   1428|                   1653|                    479|                    704|                   1044|                    145|                    485|                    788|                    202|                    505|                   1039|                    239|                    773|                   1646|                    436|                   1309|                   2521|                    783|                   1995|                   1126|                  780|                 1230|                 1894|                  540|                 1204|                 1913|                  838|                 1547|                 1915|                  711|                 1079|                 1465|                  483|                  869|                 1384|                  481|                  996|                 1423|                  617|                 1044|                  1255|                  508|                   719|                  1127|                   330|                   738|                  1988|                    490|                   1740|                   4130|                   1331|                   3721|                   3944|                   2481|                   2704|                   2975|                    336|                    607|                   1144|                    395|                    932|                   1102|                    636|                    806|                   1267|                    283|                    744|                   1693|                    553|                   1502|                   2061|                   1021|                   1580|                   1863|                    564|                    847|                   1113|                    363|                    629|                    966|                    404|                    741|                   1267|                    401|                    927|                   1796|                    624|                   1493|                   2752|                    959|                   2218|                   1345|                690|               1056|               1892|                366|               1202|               1798|                836|               1432|               1820|                596|                984|               1363|                388|                767|               1303|                379|                915|               1304|                536|                925|                1173|                389|                 637|                1046|                 248|                 657|                1897|                  409|                 1649|                 4017|                 1240|                 3608|                 3820|                 2368|                 2580|                 2876|                  212|                  508|                 1031|                  296|                  819|                 1010|                  523|                  714|                 1195|                  191|                  672|                 1688|                  481|                 1497|                 1981|                 1016|                 1500|                 1725|                  484|                  709|                 1049|                  225|                  565|                  868|                  340|                  643|                 1177|                  303|                  837|                 1710|                  534|                 1407|                 2619|                  873|                 2085|                 1212|                    722|                   1172|                   1836|                    450|                   1114|                   1823|                    664|                   1373|                   1741|                    709|                   1077|                   1463|                    368|                    754|                   1269|                    386|                    901|                   1328|                    515|                    942|                    1153|                    427|                     638|                    1046|                     211|                     619|                    1869|                      408|                     1658|                     4048|                     1250|                     3640|                     3863|                     2390|                     2613|                     2884|                      223|                      494|                     1031|                      271|                      808|                      978|                      537|                      707|                     1168|                      170|                      631|                     1580|                      461|                     1410|                     1969|                      949|                     1508|                     1791|                      559|                      842|                     1108|                      283|                      549|                      886|                      266|                      603|                     1129|                      337|                      863|                     1732|                      526|                     1395|                     2654|                      869|                     2128|                     1259| 0.01960784383118153|0.011764707043766977|0.007843137718737125|0.007843137718737125|0.003921568859368...| 0.01568627543747425|0.011764707043766977|0.011764707043766977|0.007843137718737125|0.011764707043766977| 0.01568627543747425| 0.01568627543747425| 0.01568627543747425| 0.01568627543747425| 0.01960784383118153| 0.01568627543747425|0.007843137718737125| 0.01568627543747425| 0.01568627543747425|0.003921568859368...|0.011764707043766977| 0.01568627543747425|0.011764707043766977|0.011764707043766977|0.027450982481241226|0.007843137718737125|     -2.92822265625|-0.5361175537109375|       0.1494140625|-0.3532562255859375|-0.3437042236328125| -0.278717041015625|-1.2873382568359375|-0.6818084716796875|  0.358184814453125|-0.1502838134765625| -0.938385009765625|   -0.8116455078125|-1.1596527099609375| -1.142059326171875|  -1.14288330078125|-0.8233489990234375| -0.950347900390625| -0.766754150390625|-0.3329925537109375|-0.7198333740234375|-0.8798370361328125|-0.7751312255859375|-0.9449920654296876|   -0.5194091796875|      -0.8974609375|-0.3882904052734375|5.2419281005859375| 3.938796997070313|4.3478851318359375|  4.21343994140625| 4.169158935546875| 4.360504150390625|4.0633392333984375|    3.849365234375|  4.07086181640625| 4.044692993164063| 4.732192993164063|4.6028594970703125| 4.428009033203125| 4.192184448242188|  4.33001708984375|4.1284027099609375|4.1974945068359375|    4.289794921875| 3.989303588867188| 3.933761596679688|4.1820831298828125|4.0650177001953125|  4.30474853515625|4.0693206787109375|  4.22894287109375|  3.57806396484375|8.831527709960938|9.306304931640623|8.805343627929688| 8.46856689453125| 8.93585205078125| 8.95196533203125|9.053329467773438|9.187088012695312|9.453018188476562|9.441146850585938| 8.98736572265625| 9.227401733398438|8.664169311523438|8.554473876953125|9.235549926757812|9.000473022460938| 9.04364013671875|9.317550659179688|9.120285034179688|  9.2650146484375|8.912811279296875|9.008926391601562|9.201400756835938|     8.9228515625|9.109970092773438|8.858871459960938|-1.2493133544921875|  -0.35089111328125|   -0.0013427734375|  -0.54632568359375|-0.5171356201171875|-0.7249908447265625|-1.3993988037109375|-0.6566009521484375|    -0.030517578125|-0.1207427978515625|-0.9479522705078124| -0.623382568359375| -0.936126708984375|-0.7523651123046875|     -1.08740234375|-0.8209075927734375| -0.881805419921875| -0.703582763671875| -0.483917236328125| -1.035186767578125|    -0.748779296875|-0.8997650146484375|-1.0109405517578125|-0.3998260498046875|-1.3578033447265625|  -0.17730712890625|4.2194671630859375|    3.81005859375| 4.219329833984375|3.9504241943359375|3.9086761474609375|  4.05950927734375| 4.235641479492188|  4.01776123046875| 4.000396728515625|4.0111846923828125| 4.735870361328125|  4.46173095703125| 4.138824462890625| 4.160812377929688| 4.161407470703125|  4.10125732421875| 4.088394165039063|    4.169189453125| 4.044097900390625| 4.046051025390625|4.0590667724609375|4.0942230224609375|   4.1864013671875| 4.069244384765625| 4.470260620117188| 3.460968017578125|8.763824462890625|9.029281616210938|8.852401733398438|8.959091186523438|    8.97900390625|8.897293090820312|8.733291625976562|8.921539306640625|8.953414916992188|  8.9478759765625| 8.53472900390625|8.710540771484375| 8.84088134765625|8.848220825195312| 8.81304931640625|8.869903564453125|8.869903564453125|8.848220825195312|8.920791625976562|8.872756958007812|8.895645141601562| 8.86541748046875|8.810211181640625|  8.9134521484375|8.622116088867188|      9.173828125|  0.230072021484375|-0.0308990478515625|-0.0074615478515625| 0.0681610107421875| 0.0330047607421875|-0.0170440673828125|-0.0543365478515625|   0.25457763671875| -0.026641845703125| 0.0681610107421875|-0.0053253173828125|-0.0095977783203125| 0.0308685302734375|   -0.1597900390625|-0.0745697021484375| -0.036224365234375|-0.0532684326171875|-0.1683197021484375|  0.070281982421875| 0.0308685302734375|   0.01702880859375|-0.0404815673828125|-0.0990753173828125| -0.003204345703125|-0.2237091064453125|0.0084991455078125| 0.6849517822265625|  0.018096923828125| 0.1927947998046875|0.0564422607421875|  -0.06817626953125|-0.0191802978515625|-0.0213165283203125| 0.0298004150390625|  -0.07989501953125|0.0021209716796875|     0.038330078125|-0.0202484130859375|   0.03619384765625|-0.1235809326171875|-0.3824310302734375|  0.010650634765625| 0.1214141845703125| -0.193878173828125| 0.2034454345703125| -0.113983154296875| 0.1832122802734375|               0.0|     0.120361328125|-0.0053253173828125|-0.059661865234375| 0.0021209716796875| 0.1789703369140625| 0.0554046630859375|                0.0| -0.004241943359375|    -0.003173828125|-0.0095672607421875|  -0.05963134765625|  0.001068115234375| -0.084136962890625|0.0671234130859375| -0.018096923828125| 0.0170440673828125|-0.0649566650390625| -0.027679443359375| 0.182159423828125|-0.0084991455078125|-0.0319366455078125|         0.03515625| 0.184295654296875|-0.0202178955078125|-0.0425872802734375|  0.012786865234375| -0.074554443359375| -0.027679443359375|-0.0457916259765625| -0.006378173828125| 0.6938629150390625| 0.0683746337890625|   0.15936279296875| 0.0914154052734375|-0.0622406005859375|-0.0219879150390625| -0.582977294921875| -0.013763427734375|    0.178955078125|  0.058502197265625|-0.2060394287109375|  0.010467529296875|-0.2035064697265625|-0.0281219482421875| 0.0579071044921875|  0.270233154296875|  -0.01361083984375|-0.0577545166015625|    0.2445068359375|    -0.262451171875| -0.04608154296875| -0.067474365234375|-0.1334686279296875|   0.21307373046875|    0.1080322265625| 0.6322174072265625| -0.137359619140625| 0.0948638916015625|   0.08782958984375| -0.016754150390625|   -0.0133056640625| -0.006134033203125|  0.162506103515625| 0.1026458740234375|-0.0140533447265625|-0.1349639892578125|  0.011810302734375| -0.049224853515625| -0.018402099609375|0.1223907470703125|  -0.01226806640625|    0.1915283203125|-0.1595001220703125| 0.2528839111328125|  -0.17266845703125|-0.1985626220703125|   0.0086669921875|   0.00701904296875|  -0.02288818359375|  0.127777099609375|-0.1631011962890625| -0.144989013671875|-0.1470794677734375| -0.01031494140625|0.0851287841796875| -0.112518310546875| 0.0543060302734375| 0.1551666259765625| 0.1803131103515625|  -0.08453369140625|-0.4851226806640625|-0.110870361328125| -0.152618408203125|  0.590911865234375|   -0.6407470703125| 0.2617034912109375|   0.45489501953125|0.3118438720703125|    -0.526123046875|    0.2425537109375| 0.0359039306640625|  -0.63909912109375| 0.1424407958984375|     -0.00927734375|-0.0067291259765625|-0.1770172119140625|-0.3980255126953125| 0.5681610107421875| 0.234161376953125|0.1712493896484375|0.1705474853515625|  0.18328857421875|0.1834259033203125|  0.19757080078125|0.2221527099609375|   0.1927490234375|0.1651153564453125| 0.177581787109375|0.2327423095703125|  0.20648193359375|0.1989288330078125| 0.198577880859375| 0.212127685546875| 0.198699951171875|0.1957550048828125|0.1963043212890625|    0.187255859375|    0.202880859375|0.1932220458984375|0.2014617919921875|0.2096710205078125| 0.184356689453125|0.2252960205078125| 0.146453857421875|-0.0585174560546875|-0.1039886474609375|  -0.12432861328125| -0.097930908203125|    -0.097412109375|-0.0908050537109375|-0.0678863525390625|     -0.09814453125| -0.127471923828125|-0.1205902099609375|-0.1027069091796875|  -0.11285400390625| -0.105743408203125|-0.1034698486328125| -0.081268310546875|-0.0980987548828125| -0.089874267578125|-0.1056976318359375| -0.099884033203125|    -0.079345703125| -0.087493896484375|-0.0862579345703125|      -0.0751953125|-0.1060028076171875| -0.079132080078125| -0.095550537109375|-0.5507049560546875|   -0.5828857421875|-0.5803070068359375|-0.5697479248046875| -0.567901611328125|-0.5632476806640625| -0.549346923828125|   -0.5711669921875| -0.590484619140625|-0.5820465087890625|   -0.5618896484375| -0.576019287109375|-0.6136322021484375| -0.610809326171875|   -0.5950927734375|-0.5933380126953125|-0.5972137451171875|-0.6026458740234375|-0.5679473876953125|-0.5551605224609375|-0.5587921142578125|-0.5623321533203125|-0.5547637939453125| -0.574981689453125|-0.5566864013671875|  -0.59564208984375|  0.612500011920929|0.45000001788139343|0.38750001788139343|0.45000001788139343|             0.3125|  0.487500011920929| 0.6500000357627869| 0.4625000059604645|0.42500001192092896|0.45000001788139343|0.5375000238418579|             0.4375| 0.4625000059604645|                0.5|            0.5625|  0.512499988079071|0.36250001192092896| 0.4749999940395355|  0.512499988079071| 0.2874999940395355|0.32500001788139343|0.5875000357627869|                0.5| 0.4000000059604645| 0.7875000238418579| 0.2750000059604645|         376.0|           927|            450.0|            450.0|         150.0|           941|            657.5|           866|            407.0|            933|          662.0|           1050|            543|          206.0|          626.0|           1089.0|         1200.0|            938|            938|          604.0|          179.0|          527.0|           663.0|           1181|          515.0|           51.0|          94.0|           766|            532.0|            532.0|         520.0|           363|            352.0|           581|           308.0|            752|          311.0|          381.0|            763|          493.0|          346.0|            330.0|          340.0|            772|            772|          568.0|          524.0|          762.0|            319.0|            348|            346|          742.0|869.0138088661192|531.3049971532361|       0.0|300.23990407672335| 806.430406172783| 283.7133236208691| 309.6986438459168|534.0505594042571|688.3400322515029| 517.6118236671183| 394.2638710305574|634.8015437914436|431.82056458672736| 444.9820221087588| 463.2763753959401|111.44954015158608|505.2405367743169|              0.0| 391.3719458520245|427.27157640077115| 421.6017077764273| 463.4058696218683|518.8111409752107|666.0030029962328|610.0098359862733|    15268|0.012971343257679391| -0.7401874248798077|  4.21354499230018|9.033265333909254| -0.7101657573993391| 4.11077880859375|8.863334068885218|-0.00763174203725...| 0.02354841965895433|0.007879990797776442|  0.0418243408203125|-0.00362513615534...|-0.01602877103365...| 0.1956945566030649|-0.09598658635066104| -0.5763379610501803|0.4697115478607325|thabetsedghiani|\n",
            "|        88|       106|       131|         2|       112|       106|        90|       115|       128|         93|         95|         96|         82|        137|         93|         91|        105|         76|          3|        112|        149|         87|        113|        128|         86|        122|                 1178|                 1748|                 3788|                  464|                 2504|                 3363|                 1909|                 2768|                 3017|                  857|                 1106|                 1518|                  137|                  549|                 1016|                  306|                  773|                 2255|                  377|                 1859|                  2086|                 1367|                  1594|                  2056|                    99|                   561|                  3503|                    369|                   3311|                   4253|                   2847|                   3789|                   4063|                    846|                   1120|                   1482|                    192|                    554|                   1059|                    225|                    730|                    939|                    412|                    621|                   1212|                    118|                    709|                   1691|                    486|                   1468|                   2189|                    906|                   1627|                   1981|                    718|                   1072|                   1548|                    242|                    718|                   1747|                    327|                   1356|                   1765|                    942|                   1351|                   1934|                    296|                    879|                   1568|                    455|                   1144|                    603|                 1372|                 1967|                 3878|                  701|                 2612|                 3581|                 2042|                 3011|                 3254|                  971|                 1214|                 1610|                  355|                  751|                 1243|                  502|                  994|                 2489|                  582|                 2077|                  2269|                 1610|                  1802|                  2266|                   320|                   784|                  3727|                    557|                   3500|                   4428|                   3038|                   3966|                   4295|                   1024|                   1353|                   1671|                    411|                    729|                   1232|                    455|                    958|                   1181|                    596|                    819|                   1381|                    314|                    876|                   1785|                    667|                   1576|                   2406|                    985|                   1815|                   2206|                    833|                   1224|                   1638|                    503|                    917|                   1972|                    563|                   1618|                   2042|                   1142|                   1566|                   2107|                    537|                   1078|                   1803|                    669|                   1394|                    811|               1266|               1836|               3876|                570|               2610|               3469|               2040|               2899|               3148|                859|               1108|               1520|                249|                661|               1128|                412|                879|               2361|                467|               1949|                2176|               1482|                1709|                2171|                 227|                 689|                3631|                  462|                 3404|                 4346|                 2942|                 3884|                 4158|                  942|                 1216|                 1578|                  274|                  636|                 1141|                  362|                  867|                 1076|                  505|                  714|                 1305|                  209|                  800|                 1782|                  591|                 1573|                 2294|                  982|                 1703|                 2057|                  721|                 1075|                 1551|                  354|                  830|                 1859|                  476|                 1505|                 1914|                 1029|                 1438|                 2021|                  409|                  992|                 1681|                  583|                 1272|                  689|                   1284|                   1879|                   3790|                    595|                   2506|                   3475|                   1911|                   2880|                   3123|                    969|                   1212|                   1608|                    243|                    639|                   1131|                    396|                    888|                   2383|                    492|                   1987|                    2179|                   1495|                    1687|                    2151|                     192|                     656|                    3599|                      464|                     3407|                     4335|                     2943|                     3871|                     4200|                      928|                     1257|                     1575|                      329|                      647|                     1150|                      318|                      821|                     1044|                      503|                      726|                     1288|                      223|                      785|                     1694|                      562|                     1471|                     2301|                      909|                     1739|                     2130|                      830|                     1221|                     1635|                      391|                      805|                     1860|                      414|                     1469|                     1893|                     1055|                     1479|                     2020|                      424|                      965|                     1690|                      541|                     1266|                      725|0.007843137718737125|0.011764707043766977| 0.01960784383118153|0.011764707043766977|0.011764707043766977|0.007843137718737125| 0.01960784383118153| 0.01568627543747425|0.011764707043766977| 0.01960784383118153|0.011764707043766977| 0.01960784383118153| 0.01960784383118153| 0.01568627543747425| 0.01568627543747425| 0.01568627543747425|0.011764707043766977|0.011764707043766977|0.007843137718737125|0.007843137718737125| 0.01568627543747425| 0.01568627543747425|0.003921568859368...| 0.01960784383118153|0.003921568859368...|0.007843137718737125|     -2.37744140625|-1.0386810302734375|  -0.01092529296875|-1.1239471435546875|  -0.81146240234375|-0.7655487060546875| -1.196502685546875|-0.8082122802734375|-0.1095733642578125|-0.4762115478515625| -1.486480712890625| -0.443084716796875| -0.888519287109375| -0.832305908203125| -1.063751220703125| -0.904022216796875|-1.0213165283203125|-0.8569488525390625| -1.494293212890625| -1.315338134765625|-0.9587860107421876| -0.985992431640625| -0.901641845703125|-0.3297576904296875| -1.514312744140625|-0.2937774658203125|   4.0933837890625|  3.81671142578125|  4.16839599609375| 3.899856567382813| 4.442901611328125|4.6947784423828125|4.5929718017578125|4.6956329345703125|4.4540557861328125| 4.359039306640625| 4.268402099609375| 4.039596557617188|4.1197052001953125| 4.252349853515625|  4.10235595703125|4.3597564697265625|4.3150177001953125|  4.12530517578125|   3.6011962890625| 4.145233154296875|    3.814208984375|3.8773040771484375|3.5635223388671875| 4.071701049804688|       4.626953125|  4.11297607421875|9.134063720703123|  8.8868408203125| 9.10821533203125|9.047409057617188|   8.781982421875|9.011245727539062|  9.1175537109375|9.008560180664062|8.639816284179688|8.853897094726562|8.695205688476562| 8.621047973632812|9.263259887695312|8.645584106445312|       9.06640625| 8.87701416015625| 9.07464599609375|8.935195922851562|   8.855224609375|8.953750610351562|8.292556762695312|8.967605590820312|9.041213989257812|8.675262451171875|9.082962036132812|9.265228271484377| -2.141448974609375|   -0.8336181640625| -0.044281005859375|  -1.12811279296875|-0.8033905029296875|      -0.8740234375| -1.183319091796875|-0.9370269775390624|   -0.1915283203125|-0.4526519775390625| -1.318756103515625| -0.863555908203125|-1.1517486572265625|-0.9196624755859376| -1.180633544921875| -0.895416259765625|-0.9802703857421876|-0.9325408935546876|-1.2849273681640625| -1.224334716796875| -0.875518798828125|-1.1194305419921875|  -1.14007568359375|-0.5915069580078125|  -1.41705322265625|     -0.49169921875| 4.205108642578125|4.028091430664063|  3.98394775390625| 3.959548950195313| 4.381683349609375|4.3824310302734375| 4.470260620117188|   4.4342041015625|4.3206329345703125| 4.321823120117188| 4.424484252929688|4.2709503173828125| 4.219772338867188| 4.246109008789063| 4.195083618164063| 4.125045776367188|4.1379241943359375| 4.140167236328125|      3.6357421875|3.9631500244140634| 3.992019653320313| 3.966583251953125| 3.992767333984375|4.0847930908203125|  4.49615478515625| 4.058609008789063|8.596527099609375|8.902084350585938|8.960739135742188|8.900436401367188|8.736282348632812|8.729095458984375|8.647842407226562|8.696487426757812|8.801376342773438| 8.79119873046875|  8.6517333984375|8.785369873046875|8.776992797851562|8.791656494140625|   8.784912109375|8.851654052734375|  8.8365478515625|8.840728759765625|9.016555786132812|8.886077880859375|8.914352416992188| 8.89849853515625| 8.88397216796875|8.895645141601562| 8.59906005859375| 8.91375732421875|   0.01702880859375|      0.27587890625| 0.1128997802734375| 0.0180816650390625|     0.050048828125|-0.0298309326171875|  -0.22796630859375| 0.2173004150390625|  0.006378173828125|     0.014892578125| -0.071380615234375| 0.0223541259765625| -0.162994384765625| 0.0990447998046875|     0.073486328125| -0.057525634765625|-0.0202484130859375|-0.0063934326171875| 0.0415191650390625|  -0.00213623046875| 0.0915985107421875|-0.1097259521484375| 0.0212860107421875|  0.039398193359375| 0.0042572021484375|0.0053253173828125|    0.4825439453125|-0.1214447021484375|    0.1512451171875|  0.04046630859375|-0.0394134521484375|   0.15338134765625|   0.09478759765625|    0.1512451171875|-0.1651153564453125|0.1704254150390625|-0.3494110107421875| 0.0670928955078125|-0.0532684326171875|   -0.0042724609375|-0.2258453369140625| 0.0031890869140625| 0.2939910888671875| 0.0447235107421875| 0.0756072998046875| -0.129974365234375| 0.0638885498046875|   0.1864013671875| 0.1789398193359375|    0.0809326171875|    0.038330078125|-0.3973541259765625|  -0.00531005859375|  0.047943115234375|-0.0447235107421875|-0.0202178955078125| 0.0980072021484375|   0.03729248046875|-0.0883941650390625| -0.027679443359375|  0.014923095703125|-0.015960693359375|  0.045806884765625|  0.113983154296875|  -0.04046630859375| 0.0319671630859375|0.1800384521484375|  -0.01702880859375|-0.0798797607421875| -0.004241943359375|         0.0703125|  -0.00531005859375|   0.04901123046875| 0.0735015869140625|-0.0543060302734375|    -0.073486328125|-0.0447235107421875|    0.0042724609375| 0.0728607177734375|-0.0282745361328125|       -0.333984375| 0.1321258544921875| 0.2000579833984375|  0.098297119140625|  0.010162353515625| -0.054168701171875| 0.301666259765625|-0.0405426025390625|-0.1273345947265625|  0.039947509765625|-0.3039093017578125|  0.091278076171875|      0.21337890625|-0.1675872802734375|  -0.05401611328125|-0.0251312255859375|  -0.18988037109375|  0.285797119140625| 0.018402099609375|  -0.00103759765625|-0.0282745361328125| 0.2946319580078125|     -0.13916015625| -0.236114501953125|     0.336669921875|    0.0013427734375|-0.0454864501953125|     -0.02587890625|-0.0314178466796875|-0.0465240478515625|   0.25347900390625| 0.0453338623046875| 0.1972198486328125| 0.0332183837890625| -0.059844970703125|-0.1553192138671875|  -0.02752685546875|0.0466766357421875|  -0.19915771484375| -0.157867431640625|-0.3239593505859375|  0.056854248046875| 0.1446990966796875|-0.2497406005859375| 0.066131591796875|  0.072418212890625| 0.0701751708984375|-0.1415557861328125|  0.012115478515625|  0.262908935546875|-0.1952667236328125|0.0450286865234375| -0.31048583984375|-0.0778045654296875|  0.148590087890625|-0.5098114013671875| 0.0837860107421875| -0.711822509765625| 0.0403900146484375|0.0745086669921875|-0.1212005615234375|  -0.25482177734375|-0.1506805419921875|-0.0456390380859375|   -0.2352294921875|  0.04278564453125|-0.1862945556640625|     0.115966796875|  -0.46685791015625|  1.057037353515625| 0.2530364990234375|-0.3966827392578125|  0.211578369140625| -0.403411865234375| 0.0128631591796875|   -0.5460205078125| 0.255828857421875|0.1972198486328125|     0.17236328125| 0.202178955078125|0.2139739990234375|     0.21435546875|   0.2320556640625|0.2097320556640625|0.1842803955078125| 0.193572998046875|0.2285308837890625|    0.203369140625|0.2119598388671875| 0.206268310546875|0.2144927978515625| 0.202423095703125|  0.20269775390625|0.2043304443359375| 0.191436767578125|0.2168426513671875|  0.19647216796875|0.2012176513671875| 0.206329345703125|  0.19293212890625|0.2380828857421875|0.1874847412109375|-0.0348358154296875| -0.091522216796875|-0.1217803955078125|-0.0698394775390625|  -0.09954833984375|           -0.09375|  -0.07928466796875|  -0.09564208984375|-0.1271820068359375|-0.1177825927734375|-0.0850677490234375|-0.0992584228515625|-0.0861663818359375|       -0.091796875|-0.0744476318359375|-0.0861663818359375|   -0.0867919921875|    -0.087158203125|   -0.0555419921875|-0.0576019287109375|    -0.081298828125| -0.073516845703125| -0.063568115234375|-0.0923309326171875| -0.076202392578125|  -0.09710693359375|  -0.54315185546875|-0.5724639892578125|-0.5754241943359375|-0.5601348876953125|-0.5672149658203125|-0.5652313232421875|   -0.5548095703125|-0.5674896240234375| -0.575164794921875|-0.5729522705078125|-0.5517730712890625|-0.5913543701171875| -0.570953369140625|-0.5751495361328125|  -0.55462646484375|-0.5574493408203125|-0.5592803955078125|-0.5614166259765625| -0.572784423828125|-0.5397796630859375|-0.5504608154296875|     -0.55029296875|-0.5387115478515625|-0.5609283447265625|-0.5489349365234375|-0.5686798095703125|0.38750001788139343|              0.375| 0.7250000238418579|  0.574999988079071|0.42500001192092896| 0.3375000059604645| 0.6500000357627869| 0.4749999940395355|                0.5|  0.612500011920929|            0.4375| 0.6000000238418579| 0.6625000238418579|             0.5625| 0.487500011920929|  0.512499988079071|0.38750001788139343|  0.487500011920929|0.36250001192092896| 0.4000000059604645|  0.612500011920929| 0.550000011920929|             0.3125| 0.6000000238418579|             0.3125|0.32500001788139343|         378.0|           930|            460.0|            460.0|         172.0|           939|            646.0|           838|            356.0|            931|          656.0|           1059|            524|          179.0|          649.0|           1081.0|         1200.0|            922|            922|          594.0|          202.0|          514.0|           671.0|           1188|          525.0|           57.0|         102.0|           788|            529.0|            529.0|         555.0|           334|            332.0|           558|           315.0|            790|          328.0|          311.0|            751|          489.0|          344.0|            310.0|          312.0|            781|            781|          557.0|          503.0|          737.0|            361.0|            397|            346|          754.0|880.5112151472008|536.6386121031546|       0.0|289.17122955093583|798.2042345164549| 293.0068258590574|296.54679226051326|539.7897738935038|745.8216945088149| 537.6513740333972|  403.358401424837|692.6940161427699|433.20780233047515|491.85871955267805| 433.3358974283114|119.01680553602505|545.2017975025394|              0.0|397.19013079380517| 395.7019080065195|             390.0|407.46165463758666|518.2518692682161|664.9586453306703|620.8767993732735|    19224|0.013122172739643315| -0.9234167245718148| 4.177435067983774|8.919298025277945| -0.9606358454777644|4.170657231257512| 8.81113785963792|0.016252957857572116|  0.0304266122671274|0.009435800405649038|0.001122694749098...|0.005190922663762019|-0.09717149000901444|  0.206939697265625|-0.08558420034555289| -0.5617928138146033|0.4875000096284426|thabetsedghiani|\n",
            "+----------+----------+----------+----------+----------+----------+----------+----------+----------+-----------+-----------+-----------+-----------+-----------+-----------+-----------+-----------+-----------+-----------+-----------+-----------+-----------+-----------+-----------+-----------+-----------+---------------------+---------------------+---------------------+---------------------+---------------------+---------------------+---------------------+---------------------+---------------------+---------------------+---------------------+---------------------+---------------------+---------------------+---------------------+---------------------+---------------------+---------------------+---------------------+---------------------+----------------------+---------------------+----------------------+----------------------+----------------------+----------------------+----------------------+-----------------------+-----------------------+-----------------------+-----------------------+-----------------------+-----------------------+-----------------------+-----------------------+-----------------------+-----------------------+-----------------------+-----------------------+-----------------------+-----------------------+-----------------------+-----------------------+-----------------------+-----------------------+-----------------------+-----------------------+-----------------------+-----------------------+-----------------------+-----------------------+-----------------------+-----------------------+-----------------------+-----------------------+-----------------------+-----------------------+-----------------------+-----------------------+-----------------------+-----------------------+-----------------------+-----------------------+-----------------------+-----------------------+-----------------------+-----------------------+-----------------------+-----------------------+-----------------------+-----------------------+-----------------------+---------------------+---------------------+---------------------+---------------------+---------------------+---------------------+---------------------+---------------------+---------------------+---------------------+---------------------+---------------------+---------------------+---------------------+---------------------+---------------------+---------------------+---------------------+---------------------+---------------------+----------------------+---------------------+----------------------+----------------------+----------------------+----------------------+----------------------+-----------------------+-----------------------+-----------------------+-----------------------+-----------------------+-----------------------+-----------------------+-----------------------+-----------------------+-----------------------+-----------------------+-----------------------+-----------------------+-----------------------+-----------------------+-----------------------+-----------------------+-----------------------+-----------------------+-----------------------+-----------------------+-----------------------+-----------------------+-----------------------+-----------------------+-----------------------+-----------------------+-----------------------+-----------------------+-----------------------+-----------------------+-----------------------+-----------------------+-----------------------+-----------------------+-----------------------+-----------------------+-----------------------+-----------------------+-----------------------+-----------------------+-----------------------+-----------------------+-----------------------+-----------------------+-------------------+-------------------+-------------------+-------------------+-------------------+-------------------+-------------------+-------------------+-------------------+-------------------+-------------------+-------------------+-------------------+-------------------+-------------------+-------------------+-------------------+-------------------+-------------------+-------------------+--------------------+-------------------+--------------------+--------------------+--------------------+--------------------+--------------------+---------------------+---------------------+---------------------+---------------------+---------------------+---------------------+---------------------+---------------------+---------------------+---------------------+---------------------+---------------------+---------------------+---------------------+---------------------+---------------------+---------------------+---------------------+---------------------+---------------------+---------------------+---------------------+---------------------+---------------------+---------------------+---------------------+---------------------+---------------------+---------------------+---------------------+---------------------+---------------------+---------------------+---------------------+---------------------+---------------------+---------------------+---------------------+---------------------+---------------------+---------------------+---------------------+---------------------+---------------------+---------------------+-----------------------+-----------------------+-----------------------+-----------------------+-----------------------+-----------------------+-----------------------+-----------------------+-----------------------+-----------------------+-----------------------+-----------------------+-----------------------+-----------------------+-----------------------+-----------------------+-----------------------+-----------------------+-----------------------+-----------------------+------------------------+-----------------------+------------------------+------------------------+------------------------+------------------------+------------------------+-------------------------+-------------------------+-------------------------+-------------------------+-------------------------+-------------------------+-------------------------+-------------------------+-------------------------+-------------------------+-------------------------+-------------------------+-------------------------+-------------------------+-------------------------+-------------------------+-------------------------+-------------------------+-------------------------+-------------------------+-------------------------+-------------------------+-------------------------+-------------------------+-------------------------+-------------------------+-------------------------+-------------------------+-------------------------+-------------------------+-------------------------+-------------------------+-------------------------+-------------------------+-------------------------+-------------------------+-------------------------+-------------------------+-------------------------+-------------------------+-------------------------+-------------------------+-------------------------+-------------------------+-------------------------+--------------------+--------------------+--------------------+--------------------+--------------------+--------------------+--------------------+--------------------+--------------------+--------------------+--------------------+--------------------+--------------------+--------------------+--------------------+--------------------+--------------------+--------------------+--------------------+--------------------+--------------------+--------------------+--------------------+--------------------+--------------------+--------------------+-------------------+-------------------+-------------------+-------------------+-------------------+-------------------+-------------------+-------------------+-------------------+-------------------+-------------------+-------------------+-------------------+-------------------+-------------------+-------------------+-------------------+-------------------+-------------------+-------------------+-------------------+-------------------+-------------------+-------------------+-------------------+-------------------+------------------+------------------+------------------+------------------+------------------+------------------+------------------+------------------+------------------+------------------+------------------+------------------+------------------+------------------+------------------+------------------+------------------+------------------+------------------+------------------+------------------+------------------+------------------+------------------+------------------+------------------+-----------------+-----------------+-----------------+-----------------+-----------------+-----------------+-----------------+-----------------+-----------------+-----------------+-----------------+------------------+-----------------+-----------------+-----------------+-----------------+-----------------+-----------------+-----------------+-----------------+-----------------+-----------------+-----------------+-----------------+-----------------+-----------------+-------------------+-------------------+-------------------+-------------------+-------------------+-------------------+-------------------+-------------------+-------------------+-------------------+-------------------+-------------------+-------------------+-------------------+-------------------+-------------------+-------------------+-------------------+-------------------+-------------------+-------------------+-------------------+-------------------+-------------------+-------------------+-------------------+------------------+-----------------+------------------+------------------+------------------+------------------+------------------+------------------+------------------+------------------+------------------+------------------+------------------+------------------+------------------+------------------+------------------+------------------+------------------+------------------+------------------+------------------+------------------+------------------+------------------+------------------+-----------------+-----------------+-----------------+-----------------+-----------------+-----------------+-----------------+-----------------+-----------------+-----------------+-----------------+-----------------+-----------------+-----------------+-----------------+-----------------+-----------------+-----------------+-----------------+-----------------+-----------------+-----------------+-----------------+-----------------+-----------------+-----------------+-------------------+-------------------+-------------------+-------------------+-------------------+-------------------+-------------------+-------------------+-------------------+-------------------+-------------------+-------------------+-------------------+-------------------+-------------------+-------------------+-------------------+-------------------+-------------------+-------------------+-------------------+-------------------+-------------------+-------------------+-------------------+------------------+-------------------+-------------------+-------------------+------------------+-------------------+-------------------+-------------------+-------------------+-------------------+------------------+-------------------+-------------------+-------------------+-------------------+-------------------+-------------------+-------------------+-------------------+-------------------+-------------------+-------------------+------------------+-------------------+-------------------+------------------+-------------------+-------------------+-------------------+-------------------+-------------------+-------------------+-------------------+-------------------+-------------------+-------------------+------------------+-------------------+-------------------+-------------------+-------------------+------------------+-------------------+-------------------+-------------------+------------------+-------------------+-------------------+-------------------+-------------------+-------------------+-------------------+-------------------+-------------------+-------------------+-------------------+-------------------+-------------------+-------------------+-------------------+-------------------+------------------+-------------------+-------------------+-------------------+-------------------+-------------------+-------------------+-------------------+-------------------+-------------------+-------------------+-------------------+------------------+-------------------+-------------------+-------------------+-------------------+-------------------+-------------------+-------------------+-------------------+-------------------+-------------------+-------------------+-------------------+-------------------+-------------------+-------------------+-------------------+-------------------+-------------------+------------------+-------------------+-------------------+-------------------+-------------------+-------------------+-------------------+------------------+-------------------+-------------------+-------------------+-------------------+-------------------+-------------------+------------------+------------------+-------------------+-------------------+-------------------+-------------------+-------------------+-------------------+------------------+-------------------+-------------------+-------------------+-------------------+-------------------+------------------+-------------------+-------------------+-------------------+-------------------+-------------------+-------------------+-------------------+-------------------+-------------------+-------------------+------------------+------------------+------------------+------------------+------------------+------------------+------------------+------------------+------------------+------------------+------------------+------------------+------------------+------------------+------------------+------------------+------------------+------------------+------------------+------------------+------------------+------------------+------------------+------------------+------------------+------------------+-------------------+-------------------+-------------------+-------------------+-------------------+-------------------+-------------------+-------------------+-------------------+-------------------+-------------------+-------------------+-------------------+-------------------+-------------------+-------------------+-------------------+-------------------+-------------------+-------------------+-------------------+-------------------+-------------------+-------------------+-------------------+-------------------+-------------------+-------------------+-------------------+-------------------+-------------------+-------------------+-------------------+-------------------+-------------------+-------------------+-------------------+-------------------+-------------------+-------------------+-------------------+-------------------+-------------------+-------------------+-------------------+-------------------+-------------------+-------------------+-------------------+-------------------+-------------------+-------------------+-------------------+-------------------+-------------------+-------------------+-------------------+-------------------+-------------------+-------------------+-------------------+-------------------+------------------+-------------------+-------------------+-------------------+------------------+-------------------+-------------------+-------------------+-------------------+-------------------+-------------------+------------------+-------------------+-------------------+-------------------+-------------------+--------------+--------------+-----------------+-----------------+--------------+--------------+-----------------+--------------+-----------------+---------------+---------------+---------------+---------------+---------------+---------------+-----------------+---------------+---------------+---------------+---------------+---------------+---------------+----------------+---------------+---------------+---------------+--------------+--------------+-----------------+-----------------+--------------+--------------+-----------------+--------------+----------------+---------------+---------------+---------------+---------------+---------------+---------------+-----------------+---------------+---------------+---------------+---------------+---------------+---------------+-----------------+---------------+---------------+---------------+-----------------+-----------------+----------+------------------+-----------------+------------------+------------------+-----------------+-----------------+------------------+------------------+-----------------+------------------+------------------+------------------+------------------+-----------------+-----------------+------------------+------------------+------------------+------------------+-----------------+-----------------+-----------------+---------+--------------------+--------------------+------------------+-----------------+--------------------+-----------------+-----------------+--------------------+--------------------+--------------------+--------------------+--------------------+--------------------+-------------------+--------------------+--------------------+------------------+---------------+\n",
            "only showing top 10 rows\n",
            "\n"
          ],
          "name": "stdout"
        }
      ]
    },
    {
      "cell_type": "code",
      "metadata": {
        "id": "16s2kicBuKlQ",
        "colab_type": "code",
        "colab": {
          "base_uri": "https://localhost:8080/",
          "height": 270
        },
        "outputId": "0f536cf0-0751-441c-9dca-b52dc0ddc6f0"
      },
      "source": [
        "df.describe().toPandas()"
      ],
      "execution_count": null,
      "outputs": [
        {
          "output_type": "execute_result",
          "data": {
            "text/html": [
              "<div>\n",
              "<style scoped>\n",
              "    .dataframe tbody tr th:only-of-type {\n",
              "        vertical-align: middle;\n",
              "    }\n",
              "\n",
              "    .dataframe tbody tr th {\n",
              "        vertical-align: top;\n",
              "    }\n",
              "\n",
              "    .dataframe thead th {\n",
              "        text-align: right;\n",
              "    }\n",
              "</style>\n",
              "<table border=\"1\" class=\"dataframe\">\n",
              "  <thead>\n",
              "    <tr style=\"text-align: right;\">\n",
              "      <th></th>\n",
              "      <th>summary</th>\n",
              "      <th>HoldTime 1</th>\n",
              "      <th>HoldTime 2</th>\n",
              "      <th>HoldTime 3</th>\n",
              "      <th>HoldTime 4</th>\n",
              "      <th>HoldTime 5</th>\n",
              "      <th>HoldTime 6</th>\n",
              "      <th>HoldTime 7</th>\n",
              "      <th>HoldTime 8</th>\n",
              "      <th>HoldTime 9</th>\n",
              "      <th>HoldTime 10</th>\n",
              "      <th>HoldTime 11</th>\n",
              "      <th>HoldTime 12</th>\n",
              "      <th>HoldTime 13</th>\n",
              "      <th>HoldTime 14</th>\n",
              "      <th>HoldTime 15</th>\n",
              "      <th>HoldTime 16</th>\n",
              "      <th>HoldTime 17</th>\n",
              "      <th>HoldTime 18</th>\n",
              "      <th>HoldTime 19</th>\n",
              "      <th>HoldTime 20</th>\n",
              "      <th>HoldTime 21</th>\n",
              "      <th>HoldTime 22</th>\n",
              "      <th>HoldTime 23</th>\n",
              "      <th>HoldTime 24</th>\n",
              "      <th>HoldTime 25</th>\n",
              "      <th>HoldTime 26</th>\n",
              "      <th>release_pressTime 1_2</th>\n",
              "      <th>release_pressTime 1_3</th>\n",
              "      <th>release_pressTime 1_4</th>\n",
              "      <th>release_pressTime 2_3</th>\n",
              "      <th>release_pressTime 2_4</th>\n",
              "      <th>release_pressTime 2_5</th>\n",
              "      <th>release_pressTime 3_4</th>\n",
              "      <th>release_pressTime 3_5</th>\n",
              "      <th>release_pressTime 3_6</th>\n",
              "      <th>release_pressTime 4_5</th>\n",
              "      <th>release_pressTime 4_6</th>\n",
              "      <th>release_pressTime 4_7</th>\n",
              "      <th>release_pressTime 5_6</th>\n",
              "      <th>...</th>\n",
              "      <th>distance 5</th>\n",
              "      <th>distance 6</th>\n",
              "      <th>distance 7</th>\n",
              "      <th>distance 8</th>\n",
              "      <th>distance 9</th>\n",
              "      <th>distance 10</th>\n",
              "      <th>distance 11</th>\n",
              "      <th>distance 12</th>\n",
              "      <th>distance 13</th>\n",
              "      <th>distance 14</th>\n",
              "      <th>distance 15</th>\n",
              "      <th>distance 16</th>\n",
              "      <th>distance 17</th>\n",
              "      <th>distance 18</th>\n",
              "      <th>distance 19</th>\n",
              "      <th>distance 20</th>\n",
              "      <th>distance 21</th>\n",
              "      <th>distance 22</th>\n",
              "      <th>distance 23</th>\n",
              "      <th>distance 24</th>\n",
              "      <th>distance 25</th>\n",
              "      <th>TotalTime</th>\n",
              "      <th>MeanSize</th>\n",
              "      <th>MeanACCX</th>\n",
              "      <th>MeanACCY</th>\n",
              "      <th>MeanACCZ</th>\n",
              "      <th>MeanGravX</th>\n",
              "      <th>MeanGravY</th>\n",
              "      <th>MeanGravZ</th>\n",
              "      <th>MeanGyroX</th>\n",
              "      <th>MeanGyroY</th>\n",
              "      <th>MeanGyroZ</th>\n",
              "      <th>MeanLinAccX</th>\n",
              "      <th>MeanLinAccY</th>\n",
              "      <th>MeanLinAccZ</th>\n",
              "      <th>MeanRotvetX</th>\n",
              "      <th>MeanRotvetY</th>\n",
              "      <th>MeanRotvetZ</th>\n",
              "      <th>MeanPressure</th>\n",
              "      <th>UserID</th>\n",
              "    </tr>\n",
              "  </thead>\n",
              "  <tbody>\n",
              "    <tr>\n",
              "      <th>0</th>\n",
              "      <td>count</td>\n",
              "      <td>545</td>\n",
              "      <td>545</td>\n",
              "      <td>545</td>\n",
              "      <td>545</td>\n",
              "      <td>545</td>\n",
              "      <td>545</td>\n",
              "      <td>545</td>\n",
              "      <td>545</td>\n",
              "      <td>545</td>\n",
              "      <td>545</td>\n",
              "      <td>545</td>\n",
              "      <td>545</td>\n",
              "      <td>545</td>\n",
              "      <td>545</td>\n",
              "      <td>545</td>\n",
              "      <td>545</td>\n",
              "      <td>545</td>\n",
              "      <td>545</td>\n",
              "      <td>545</td>\n",
              "      <td>545</td>\n",
              "      <td>545</td>\n",
              "      <td>545</td>\n",
              "      <td>545</td>\n",
              "      <td>545</td>\n",
              "      <td>545</td>\n",
              "      <td>545</td>\n",
              "      <td>545</td>\n",
              "      <td>545</td>\n",
              "      <td>545</td>\n",
              "      <td>545</td>\n",
              "      <td>545</td>\n",
              "      <td>545</td>\n",
              "      <td>545</td>\n",
              "      <td>545</td>\n",
              "      <td>545</td>\n",
              "      <td>545</td>\n",
              "      <td>545</td>\n",
              "      <td>545</td>\n",
              "      <td>545</td>\n",
              "      <td>...</td>\n",
              "      <td>545</td>\n",
              "      <td>545</td>\n",
              "      <td>545</td>\n",
              "      <td>545</td>\n",
              "      <td>545</td>\n",
              "      <td>545</td>\n",
              "      <td>545</td>\n",
              "      <td>545</td>\n",
              "      <td>545</td>\n",
              "      <td>545</td>\n",
              "      <td>545</td>\n",
              "      <td>545</td>\n",
              "      <td>545</td>\n",
              "      <td>545</td>\n",
              "      <td>545</td>\n",
              "      <td>545</td>\n",
              "      <td>545</td>\n",
              "      <td>545</td>\n",
              "      <td>545</td>\n",
              "      <td>545</td>\n",
              "      <td>545</td>\n",
              "      <td>545</td>\n",
              "      <td>545</td>\n",
              "      <td>545</td>\n",
              "      <td>545</td>\n",
              "      <td>545</td>\n",
              "      <td>545</td>\n",
              "      <td>545</td>\n",
              "      <td>545</td>\n",
              "      <td>545</td>\n",
              "      <td>545</td>\n",
              "      <td>545</td>\n",
              "      <td>545</td>\n",
              "      <td>545</td>\n",
              "      <td>545</td>\n",
              "      <td>545</td>\n",
              "      <td>545</td>\n",
              "      <td>545</td>\n",
              "      <td>545</td>\n",
              "      <td>545</td>\n",
              "    </tr>\n",
              "    <tr>\n",
              "      <th>1</th>\n",
              "      <td>mean</td>\n",
              "      <td>98.33394495412844</td>\n",
              "      <td>103.73211009174312</td>\n",
              "      <td>100.75229357798165</td>\n",
              "      <td>2.7871559633027525</td>\n",
              "      <td>107.09357798165138</td>\n",
              "      <td>96.24770642201835</td>\n",
              "      <td>92.35045871559633</td>\n",
              "      <td>95.5137614678899</td>\n",
              "      <td>106.18532110091743</td>\n",
              "      <td>97.48990825688074</td>\n",
              "      <td>97.92110091743119</td>\n",
              "      <td>98.99816513761468</td>\n",
              "      <td>99.28440366972477</td>\n",
              "      <td>106.00183486238532</td>\n",
              "      <td>98.72477064220183</td>\n",
              "      <td>103.75412844036697</td>\n",
              "      <td>102.90642201834862</td>\n",
              "      <td>94.99633027522935</td>\n",
              "      <td>3.036697247706422</td>\n",
              "      <td>96.97981651376146</td>\n",
              "      <td>106.01651376146789</td>\n",
              "      <td>97.89357798165138</td>\n",
              "      <td>97.53577981651377</td>\n",
              "      <td>100.56330275229358</td>\n",
              "      <td>95.49724770642202</td>\n",
              "      <td>101.77981651376147</td>\n",
              "      <td>611.3889908256881</td>\n",
              "      <td>1132.7082568807339</td>\n",
              "      <td>1788.6880733944954</td>\n",
              "      <td>417.58715596330273</td>\n",
              "      <td>1073.5669724770642</td>\n",
              "      <td>2261.977981651376</td>\n",
              "      <td>555.2275229357798</td>\n",
              "      <td>1743.6385321100918</td>\n",
              "      <td>2207.4862385321103</td>\n",
              "      <td>1185.6238532110092</td>\n",
              "      <td>1649.4715596330275</td>\n",
              "      <td>2149.977981651376</td>\n",
              "      <td>356.75412844036697</td>\n",
              "      <td>...</td>\n",
              "      <td>773.2069203042475</td>\n",
              "      <td>298.39384804542726</td>\n",
              "      <td>283.6066764081872</td>\n",
              "      <td>521.1615077478066</td>\n",
              "      <td>717.685825053724</td>\n",
              "      <td>512.5657286446428</td>\n",
              "      <td>432.4728446509277</td>\n",
              "      <td>717.1054228749956</td>\n",
              "      <td>384.30706729230377</td>\n",
              "      <td>492.5002141402515</td>\n",
              "      <td>426.48483335332435</td>\n",
              "      <td>130.7759983375147</td>\n",
              "      <td>510.15367612877736</td>\n",
              "      <td>13.884340390199808</td>\n",
              "      <td>414.36910769921644</td>\n",
              "      <td>391.13106433125307</td>\n",
              "      <td>390.4860156787569</td>\n",
              "      <td>444.63613253547936</td>\n",
              "      <td>564.1782514131173</td>\n",
              "      <td>709.5504079926068</td>\n",
              "      <td>608.3323756447013</td>\n",
              "      <td>14357.748623853211</td>\n",
              "      <td>0.011766643936817468</td>\n",
              "      <td>-0.3013934655684186</td>\n",
              "      <td>5.7512921297642725</td>\n",
              "      <td>7.6874827156793755</td>\n",
              "      <td>-0.2754266172205804</td>\n",
              "      <td>5.685299221730688</td>\n",
              "      <td>7.604607775250033</td>\n",
              "      <td>0.02291653349774777</td>\n",
              "      <td>0.019095915778893024</td>\n",
              "      <td>0.005571253096123522</td>\n",
              "      <td>-0.003194750003101289</td>\n",
              "      <td>0.00567168974085601</td>\n",
              "      <td>0.014146776542582808</td>\n",
              "      <td>0.2022494179477301</td>\n",
              "      <td>0.025019555371162672</td>\n",
              "      <td>0.08585261719783766</td>\n",
              "      <td>0.44212950624120695</td>\n",
              "      <td>None</td>\n",
              "    </tr>\n",
              "    <tr>\n",
              "      <th>2</th>\n",
              "      <td>stddev</td>\n",
              "      <td>26.679236460625418</td>\n",
              "      <td>26.10220607342648</td>\n",
              "      <td>27.097100711560962</td>\n",
              "      <td>1.0443388104434215</td>\n",
              "      <td>28.75083846357072</td>\n",
              "      <td>23.508976681674937</td>\n",
              "      <td>21.1233275697764</td>\n",
              "      <td>22.34637697592949</td>\n",
              "      <td>29.911090143048984</td>\n",
              "      <td>22.400277148996643</td>\n",
              "      <td>25.121821109238407</td>\n",
              "      <td>24.52868212169359</td>\n",
              "      <td>20.819202349139086</td>\n",
              "      <td>26.16354805119313</td>\n",
              "      <td>23.139233123681468</td>\n",
              "      <td>24.480824323928744</td>\n",
              "      <td>24.271754475099534</td>\n",
              "      <td>23.749612715903893</td>\n",
              "      <td>0.9807579368014459</td>\n",
              "      <td>21.248649523767817</td>\n",
              "      <td>26.295578475907735</td>\n",
              "      <td>20.320041700530016</td>\n",
              "      <td>23.79359591196796</td>\n",
              "      <td>24.656167423445034</td>\n",
              "      <td>26.552121532038303</td>\n",
              "      <td>26.2524360908005</td>\n",
              "      <td>392.1479629917453</td>\n",
              "      <td>495.85531907007004</td>\n",
              "      <td>874.5250990374519</td>\n",
              "      <td>247.3851564737686</td>\n",
              "      <td>703.4221127887002</td>\n",
              "      <td>6266.260165874544</td>\n",
              "      <td>609.9120654241225</td>\n",
              "      <td>6233.744583531132</td>\n",
              "      <td>6245.904199445601</td>\n",
              "      <td>6106.104144788516</td>\n",
              "      <td>6115.434030850029</td>\n",
              "      <td>6135.730388490812</td>\n",
              "      <td>210.86475075867997</td>\n",
              "      <td>...</td>\n",
              "      <td>32.860664857342876</td>\n",
              "      <td>27.93772997428853</td>\n",
              "      <td>32.65708871621702</td>\n",
              "      <td>32.81276969074375</td>\n",
              "      <td>30.296199067684952</td>\n",
              "      <td>30.371973799281406</td>\n",
              "      <td>32.2516297870162</td>\n",
              "      <td>31.52117791194546</td>\n",
              "      <td>31.5850237932979</td>\n",
              "      <td>27.2137650255061</td>\n",
              "      <td>28.556432273689353</td>\n",
              "      <td>24.485458548037105</td>\n",
              "      <td>30.495877795473916</td>\n",
              "      <td>53.50751862886787</td>\n",
              "      <td>35.26497962460354</td>\n",
              "      <td>28.540035422396553</td>\n",
              "      <td>33.3876998570855</td>\n",
              "      <td>28.105934206402488</td>\n",
              "      <td>31.372837843741912</td>\n",
              "      <td>34.20228917269292</td>\n",
              "      <td>31.10681255595369</td>\n",
              "      <td>7944.533692142726</td>\n",
              "      <td>0.0014488570623222205</td>\n",
              "      <td>0.9050910212476859</td>\n",
              "      <td>1.7972661664847436</td>\n",
              "      <td>1.3346139547600822</td>\n",
              "      <td>0.8732428892858858</td>\n",
              "      <td>1.7851921289768202</td>\n",
              "      <td>1.3056947703931798</td>\n",
              "      <td>0.038549173908900725</td>\n",
              "      <td>0.055223490928019904</td>\n",
              "      <td>0.024289325487474027</td>\n",
              "      <td>0.05188609498162549</td>\n",
              "      <td>0.05812224915482459</td>\n",
              "      <td>0.09784324425624265</td>\n",
              "      <td>0.1198207112636697</td>\n",
              "      <td>0.23162512577947225</td>\n",
              "      <td>0.6634805443804376</td>\n",
              "      <td>0.035353327311876195</td>\n",
              "      <td>None</td>\n",
              "    </tr>\n",
              "    <tr>\n",
              "      <th>3</th>\n",
              "      <td>min</td>\n",
              "      <td>12</td>\n",
              "      <td>30</td>\n",
              "      <td>32</td>\n",
              "      <td>1</td>\n",
              "      <td>32</td>\n",
              "      <td>40</td>\n",
              "      <td>33</td>\n",
              "      <td>38</td>\n",
              "      <td>33</td>\n",
              "      <td>31</td>\n",
              "      <td>39</td>\n",
              "      <td>41</td>\n",
              "      <td>48</td>\n",
              "      <td>46</td>\n",
              "      <td>38</td>\n",
              "      <td>41</td>\n",
              "      <td>48</td>\n",
              "      <td>25</td>\n",
              "      <td>1</td>\n",
              "      <td>40</td>\n",
              "      <td>40</td>\n",
              "      <td>42</td>\n",
              "      <td>49</td>\n",
              "      <td>42</td>\n",
              "      <td>24</td>\n",
              "      <td>32</td>\n",
              "      <td>89</td>\n",
              "      <td>306</td>\n",
              "      <td>500</td>\n",
              "      <td>43</td>\n",
              "      <td>252</td>\n",
              "      <td>600</td>\n",
              "      <td>21</td>\n",
              "      <td>344</td>\n",
              "      <td>585</td>\n",
              "      <td>219</td>\n",
              "      <td>464</td>\n",
              "      <td>759</td>\n",
              "      <td>52</td>\n",
              "      <td>...</td>\n",
              "      <td>670.4386623696457</td>\n",
              "      <td>213.2346125749757</td>\n",
              "      <td>177.05366418123066</td>\n",
              "      <td>428.47637041031794</td>\n",
              "      <td>615.5079203389669</td>\n",
              "      <td>420.1059390201476</td>\n",
              "      <td>346.41900765608193</td>\n",
              "      <td>619.0702706478481</td>\n",
              "      <td>272.1177909230753</td>\n",
              "      <td>411.87619499067915</td>\n",
              "      <td>330.0060605504087</td>\n",
              "      <td>62.096698785040104</td>\n",
              "      <td>388.81486597093993</td>\n",
              "      <td>0.0</td>\n",
              "      <td>329.6558811852141</td>\n",
              "      <td>301.179348561617</td>\n",
              "      <td>283.35137197479736</td>\n",
              "      <td>365.16845427829605</td>\n",
              "      <td>468.79633104366343</td>\n",
              "      <td>621.2060849669778</td>\n",
              "      <td>505.6055775008817</td>\n",
              "      <td>6669</td>\n",
              "      <td>0.008144796933405675</td>\n",
              "      <td>-3.2756283099834738</td>\n",
              "      <td>-0.08832784799429086</td>\n",
              "      <td>2.2691421508789062</td>\n",
              "      <td>-3.0854151799128604</td>\n",
              "      <td>-0.08803206223707932</td>\n",
              "      <td>2.2452181302584133</td>\n",
              "      <td>-0.11088268573467548</td>\n",
              "      <td>-0.27118800236628604</td>\n",
              "      <td>-0.3928357637845553</td>\n",
              "      <td>-0.2791026188777043</td>\n",
              "      <td>-0.1837257972130409</td>\n",
              "      <td>-0.4472697331355168</td>\n",
              "      <td>-0.0196075439453125</td>\n",
              "      <td>-0.4465384850135216</td>\n",
              "      <td>-0.9776124220628004</td>\n",
              "      <td>0.3495192367296953</td>\n",
              "      <td>ahmedboujelben</td>\n",
              "    </tr>\n",
              "    <tr>\n",
              "      <th>4</th>\n",
              "      <td>max</td>\n",
              "      <td>188</td>\n",
              "      <td>224</td>\n",
              "      <td>194</td>\n",
              "      <td>9</td>\n",
              "      <td>193</td>\n",
              "      <td>201</td>\n",
              "      <td>159</td>\n",
              "      <td>184</td>\n",
              "      <td>222</td>\n",
              "      <td>178</td>\n",
              "      <td>180</td>\n",
              "      <td>191</td>\n",
              "      <td>172</td>\n",
              "      <td>171</td>\n",
              "      <td>179</td>\n",
              "      <td>249</td>\n",
              "      <td>374</td>\n",
              "      <td>176</td>\n",
              "      <td>9</td>\n",
              "      <td>174</td>\n",
              "      <td>190</td>\n",
              "      <td>192</td>\n",
              "      <td>174</td>\n",
              "      <td>191</td>\n",
              "      <td>196</td>\n",
              "      <td>180</td>\n",
              "      <td>5850</td>\n",
              "      <td>6154</td>\n",
              "      <td>7632</td>\n",
              "      <td>2574</td>\n",
              "      <td>7059</td>\n",
              "      <td>125539</td>\n",
              "      <td>6616</td>\n",
              "      <td>125042</td>\n",
              "      <td>125534</td>\n",
              "      <td>122527</td>\n",
              "      <td>123019</td>\n",
              "      <td>123413</td>\n",
              "      <td>1543</td>\n",
              "      <td>...</td>\n",
              "      <td>862.939742971663</td>\n",
              "      <td>381.4354467010112</td>\n",
              "      <td>402.3493506891741</td>\n",
              "      <td>632.3140042731934</td>\n",
              "      <td>812.2665818559816</td>\n",
              "      <td>607.3977280168243</td>\n",
              "      <td>533.3385416412357</td>\n",
              "      <td>844.4199192345003</td>\n",
              "      <td>462.4110725317896</td>\n",
              "      <td>577.710134929274</td>\n",
              "      <td>527.274122255208</td>\n",
              "      <td>215.12786895239768</td>\n",
              "      <td>614.2255286130658</td>\n",
              "      <td>267.1666146808018</td>\n",
              "      <td>588.0017006778128</td>\n",
              "      <td>477.02620473093515</td>\n",
              "      <td>484.33459508897363</td>\n",
              "      <td>531.3002917371682</td>\n",
              "      <td>653.0007656963352</td>\n",
              "      <td>833.4056635276725</td>\n",
              "      <td>699.520550091275</td>\n",
              "      <td>139576</td>\n",
              "      <td>0.01840120785009976</td>\n",
              "      <td>2.1911456768329325</td>\n",
              "      <td>9.546778752253603</td>\n",
              "      <td>9.965908930851864</td>\n",
              "      <td>2.117254990797776</td>\n",
              "      <td>9.526238074669473</td>\n",
              "      <td>9.806294954740084</td>\n",
              "      <td>0.17223240778996393</td>\n",
              "      <td>0.4036419208233173</td>\n",
              "      <td>0.14106457050030047</td>\n",
              "      <td>0.19008343036358166</td>\n",
              "      <td>0.15984755295973554</td>\n",
              "      <td>0.3435222919170673</td>\n",
              "      <td>0.5357718834510217</td>\n",
              "      <td>0.4608160165640024</td>\n",
              "      <td>0.957263653094952</td>\n",
              "      <td>0.6125000107746857</td>\n",
              "      <td>zouaouihana</td>\n",
              "    </tr>\n",
              "  </tbody>\n",
              "</table>\n",
              "<p>5 rows × 853 columns</p>\n",
              "</div>"
            ],
            "text/plain": [
              "  summary          HoldTime 1  ...          MeanPressure          UserID\n",
              "0   count                 545  ...                   545             545\n",
              "1    mean   98.33394495412844  ...   0.44212950624120695            None\n",
              "2  stddev  26.679236460625418  ...  0.035353327311876195            None\n",
              "3     min                  12  ...    0.3495192367296953  ahmedboujelben\n",
              "4     max                 188  ...    0.6125000107746857     zouaouihana\n",
              "\n",
              "[5 rows x 853 columns]"
            ]
          },
          "metadata": {
            "tags": []
          },
          "execution_count": 10
        }
      ]
    },
    {
      "cell_type": "code",
      "metadata": {
        "id": "Bfh9JZe8uR9j",
        "colab_type": "code",
        "colab": {}
      },
      "source": [
        "#create a label_encoder column from userId \n",
        "l_indexer = StringIndexer(inputCol=\"UserID\", outputCol=\"labelIndex\")\n",
        "df = l_indexer.fit(df).transform(df)"
      ],
      "execution_count": null,
      "outputs": []
    },
    {
      "cell_type": "code",
      "metadata": {
        "id": "hISOPcEHumZs",
        "colab_type": "code",
        "colab": {}
      },
      "source": [
        "#drop UserId column and use labelIndex column \n",
        "df = df.drop('UserID')\n",
        "df = df.drop('Unnamed: 0')"
      ],
      "execution_count": null,
      "outputs": []
    },
    {
      "cell_type": "code",
      "metadata": {
        "id": "qD8LZhSfu2S-",
        "colab_type": "code",
        "colab": {}
      },
      "source": [
        "#transform all features columns into one column \n",
        "#create a list contains our training feature\n",
        "cols=df.columns\n",
        "cols.remove(\"labelIndex\")\n",
        "# Let us import the vector assembler\n",
        "assembler = VectorAssembler(inputCols=cols,outputCol=\"features\")\n",
        "# Now let us use the transform method to transform our dataset\n",
        "raw_data=assembler.transform(df)\n",
        "#raw_data.select(\"features\").show(truncate=False)"
      ],
      "execution_count": null,
      "outputs": []
    },
    {
      "cell_type": "code",
      "metadata": {
        "id": "Y6vZyC5AvQ4b",
        "colab_type": "code",
        "colab": {}
      },
      "source": [
        "# min max scaler [0-1] //scale all the features to [0,1]\n",
        "scaler = MinMaxScaler(inputCol=\"features\", outputCol=\"scaledFeatures\")\n",
        "raw_data = scaler.fit(raw_data).transform(raw_data)"
      ],
      "execution_count": null,
      "outputs": []
    },
    {
      "cell_type": "code",
      "metadata": {
        "id": "2H-jilTEtB60",
        "colab_type": "code",
        "colab": {
          "base_uri": "https://localhost:8080/",
          "height": 139
        },
        "outputId": "18f915b8-717c-457d-b248-cce301d28a2e"
      },
      "source": [
        "\n",
        "# Feature selection using chisquareSelector\n",
        "'''from pyspark.ml.feature import ChiSqSelector\n",
        "#css = ChiSqSelector(featuresCol='MinAbs_Scaled_features',outputCol='Aspect',labelCol='labelIndex',fpr=0.05)\n",
        "css = ChiSqSelector(numTopFeatures=300,featuresCol='scaledFeatures',outputCol='Aspect',labelCol='labelIndex')\n",
        "\n",
        "raw_data=css.fit(raw_data).transform(raw_data)\n",
        "#test=css.fit(test).transform(test)\n",
        "raw_data.select(\"Aspect\").show(5,truncate=False)'''"
      ],
      "execution_count": null,
      "outputs": [
        {
          "output_type": "stream",
          "text": [
            "+-------------------------------------------------------------------------------------------------------------------------------------------------------------------------------------------------------------------------------------------------------------------------------------------------------------------------------------------------------------------------------------------------------------------------------------------------------------------------------------------------------------------------------------------------------------------------------------------------------------------------------------------------------------------------------------------------------------------------------------------------------------------------------------------------------------------------------------------------------------------------------------------------------------------------------------------------------------------------------------------------------------------------------------------------------------------------------------------------------------------------------------------------------------------------------------------------------------------------------------------------+\n",
            "|Aspect                                                                                                                                                                                                                                                                                                                                                                                                                                                                                                                                                                                                                                                                                                                                                                                                                                                                                                                                                                                                                                                                                                                                                                                                                                           |\n",
            "+-------------------------------------------------------------------------------------------------------------------------------------------------------------------------------------------------------------------------------------------------------------------------------------------------------------------------------------------------------------------------------------------------------------------------------------------------------------------------------------------------------------------------------------------------------------------------------------------------------------------------------------------------------------------------------------------------------------------------------------------------------------------------------------------------------------------------------------------------------------------------------------------------------------------------------------------------------------------------------------------------------------------------------------------------------------------------------------------------------------------------------------------------------------------------------------------------------------------------------------------------+\n",
            "|[0.5,0.5,0.5,0.5,0.5,0.5,0.5,0.5,0.5,0.5,0.5,0.5,0.5,0.5,0.5,0.5,0.5,0.5,0.5,0.5,0.5,0.5,0.5,0.5,0.5,0.5,0.5,0.5,0.5,0.5,0.5,0.5,0.5,0.5,0.5,0.5,0.5,0.5,0.5,0.5,0.5,0.5,0.5,0.5,0.5,0.5,0.5,0.5,0.5,0.5,0.5,0.5,0.5,0.5,0.5,0.5,0.5,0.5,0.5,0.5,0.5,0.5,0.5,0.5,0.5,0.5,0.5,0.5,0.5,0.5,0.5,0.5,0.5,0.5,0.5,0.5,0.5,0.5,0.5,0.5,0.5,0.5,0.5,0.5,0.5,0.5,0.5,0.5,0.5,0.5,0.5,0.5,0.5,0.5,0.5,0.5,0.5,0.5,0.5,0.5,0.5,0.5,0.5,0.5,0.5,0.5,0.5,0.5,0.5,0.5,0.5,0.5,0.5,0.5,0.5,0.5,0.5,0.5,0.5,0.5,0.5,0.5,0.5,0.5,0.5,0.5,0.5,0.5,0.5,0.5,0.5,0.5,0.5,0.5,0.5,0.5,0.5,0.5,0.5,0.5,0.5,0.5,0.5,0.5,0.5,0.5,0.5,0.5,0.5,0.5,0.5,0.5,0.5,0.5,0.5,0.5,0.5,0.5,0.5,0.5,0.5,0.5,0.5,0.5,0.5,0.5,0.5,0.5,0.5,0.5,0.5,0.5,0.5,0.5,0.5,0.5,0.5,0.5,0.5,0.5,0.5,0.5,0.5,0.5,0.5,0.5,0.5,0.5,0.5,0.5,0.5,0.5,0.5,0.5,0.5,0.5,0.5,0.5,0.5,0.5,0.5,0.5,0.5,0.5,0.5,0.5,0.5,0.5,0.5,0.5,0.5,0.5,0.5,0.5,0.5,0.5,0.5,0.5,0.5,0.5,0.5,0.5,0.5,0.5,0.5,0.5,0.5,0.5,0.5,0.5,0.5,0.5,0.5,0.5,0.5,0.5,0.5,0.5,0.5,0.5,0.5,0.5,0.5,0.5,0.5,0.5,0.5,0.5,0.5,0.5,0.5,0.5,0.5,0.5,0.5,0.5,0.5,0.5,0.5,0.5,0.5,0.5,0.5,0.5,0.5,0.5,0.5,0.5,0.5,0.5,0.5,0.5,0.5,0.5,0.5,0.5,0.5,0.5,0.5,0.5,0.5,0.5,0.5,0.5,0.5,0.5,0.5,0.5,0.5,0.5,0.5,0.5,0.5,0.5,0.5,0.5,0.5,0.5,0.5,0.5]|\n",
            "+-------------------------------------------------------------------------------------------------------------------------------------------------------------------------------------------------------------------------------------------------------------------------------------------------------------------------------------------------------------------------------------------------------------------------------------------------------------------------------------------------------------------------------------------------------------------------------------------------------------------------------------------------------------------------------------------------------------------------------------------------------------------------------------------------------------------------------------------------------------------------------------------------------------------------------------------------------------------------------------------------------------------------------------------------------------------------------------------------------------------------------------------------------------------------------------------------------------------------------------------------+\n",
            "\n"
          ],
          "name": "stdout"
        }
      ]
    },
    {
      "cell_type": "code",
      "metadata": {
        "id": "jkx1e6KCv_S5",
        "colab_type": "code",
        "colab": {}
      },
      "source": [
        "#select the feature and the label column\n",
        "raw_data=raw_data.select(['scaledFeatures','labelIndex'])"
      ],
      "execution_count": null,
      "outputs": []
    },
    {
      "cell_type": "code",
      "metadata": {
        "id": "MnBiFGimwUT2",
        "colab_type": "code",
        "colab": {
          "base_uri": "https://localhost:8080/",
          "height": 153
        },
        "outputId": "481e6d34-1057-4cb2-e96b-9ebf803739c0"
      },
      "source": [
        "raw_data.show(2)"
      ],
      "execution_count": null,
      "outputs": [
        {
          "output_type": "stream",
          "text": [
            "+--------------------+----------+\n",
            "|            features|labelIndex|\n",
            "+--------------------+----------+\n",
            "|[113.0,105.0,113....|      26.0|\n",
            "|[106.0,91.0,136.0...|      26.0|\n",
            "+--------------------+----------+\n",
            "only showing top 2 rows\n",
            "\n"
          ],
          "name": "stdout"
        }
      ]
    },
    {
      "cell_type": "code",
      "metadata": {
        "id": "dTOVEqDcwZXG",
        "colab_type": "code",
        "colab": {}
      },
      "source": [
        "# we should divide our data into training and test sets (20% held out for testing)\n",
        "(trainingData, testData) = raw_data.randomSplit([0.8, 0.2])"
      ],
      "execution_count": null,
      "outputs": []
    },
    {
      "cell_type": "markdown",
      "metadata": {
        "id": "EhSMEuj4wci_",
        "colab_type": "text"
      },
      "source": [
        "##Decision tree classifier"
      ]
    },
    {
      "cell_type": "code",
      "metadata": {
        "id": "HJPPpb1pwilG",
        "colab_type": "code",
        "colab": {}
      },
      "source": [
        "dt = DecisionTreeClassifier(labelCol=\"labelIndex\", featuresCol=\"features\")"
      ],
      "execution_count": null,
      "outputs": []
    },
    {
      "cell_type": "code",
      "metadata": {
        "id": "Jv6E_tzyw2vn",
        "colab_type": "code",
        "colab": {}
      },
      "source": [
        "#using cross validation to evaluate our model\n",
        "paramGrid = ParamGridBuilder() \\\n",
        "    .build()\n",
        "ss=MulticlassClassificationEvaluator(labelCol='labelIndex',metricName=\"accuracy\")\n",
        "cv = CrossValidator(estimator = dt , estimatorParamMaps=paramGrid,evaluator=ss,numFolds=5)\n",
        "a=cv.fit(trainingData)"
      ],
      "execution_count": null,
      "outputs": []
    },
    {
      "cell_type": "code",
      "metadata": {
        "id": "OwSRIX66xD42",
        "colab_type": "code",
        "colab": {
          "base_uri": "https://localhost:8080/",
          "height": 34
        },
        "outputId": "72ed796a-0615-40a5-a3e7-1047b09803d1"
      },
      "source": [
        "#average of the model acuuracy for 5 folds\n",
        "a.avgMetrics"
      ],
      "execution_count": null,
      "outputs": [
        {
          "output_type": "execute_result",
          "data": {
            "text/plain": [
              "[0.22723300274927863]"
            ]
          },
          "metadata": {
            "tags": []
          },
          "execution_count": 187
        }
      ]
    },
    {
      "cell_type": "code",
      "metadata": {
        "id": "jzxSOWLKyRXk",
        "colab_type": "code",
        "colab": {
          "base_uri": "https://localhost:8080/",
          "height": 51
        },
        "outputId": "d113e232-3975-4723-bcb5-cc870bb2b5d9"
      },
      "source": [
        "#estimate the accuracy of the prediction\n",
        "predictions = a.transform(testData)\n",
        "evaluator = MulticlassClassificationEvaluator(\\\n",
        "labelCol=\"labelIndex\", predictionCol=\"prediction\",\\\n",
        "metricName=\"accuracy\")\n",
        "accuracy = evaluator.evaluate(predictions)\n",
        "print(\"Test Error = %g \" % (100 - 100*accuracy))\n",
        "print(\"accuracy = %g \" % (100*accuracy))"
      ],
      "execution_count": null,
      "outputs": [
        {
          "output_type": "stream",
          "text": [
            "Test Error = 73.7705 \n",
            "accuracy = 26.2295 \n"
          ],
          "name": "stdout"
        }
      ]
    },
    {
      "cell_type": "code",
      "metadata": {
        "id": "kaKiGq_5xijH",
        "colab_type": "code",
        "colab": {}
      },
      "source": [
        "selected = predictions.select(\"labelIndex\", \"probability\", \"prediction\")\n",
        "for row in selected.collect():\n",
        "    label, prob, prediction = row\n",
        "    print(\"%f --> prob=%s, prediction=%f\" % (label, str(max(prob)), prediction))"
      ],
      "execution_count": null,
      "outputs": []
    },
    {
      "cell_type": "markdown",
      "metadata": {
        "id": "h6Qz4ILdx_0R",
        "colab_type": "text"
      },
      "source": [
        "##random forest"
      ]
    },
    {
      "cell_type": "code",
      "metadata": {
        "id": "5WBwiiDiyFHI",
        "colab_type": "code",
        "colab": {}
      },
      "source": [
        "#using grid search & cross validation to evaluate our model\n",
        "rf = RandomForestClassifier(labelCol=\"labelIndex\",featuresCol=\"scaledFeatures\")\n",
        "paramGrid = ParamGridBuilder() \\\n",
        "    .addGrid(rf.numTrees,[90,100,110])\\\n",
        "    .build()\n",
        "ss=MulticlassClassificationEvaluator(labelCol='labelIndex',metricName=\"accuracy\")\n",
        "cv = CrossValidator(estimator = rf , estimatorParamMaps=paramGrid,evaluator=ss,numFolds=5)\n",
        "a=cv.fit(trainingData)"
      ],
      "execution_count": null,
      "outputs": []
    },
    {
      "cell_type": "code",
      "metadata": {
        "id": "0y-V29Jby4S9",
        "colab_type": "code",
        "colab": {
          "base_uri": "https://localhost:8080/",
          "height": 34
        },
        "outputId": "3acb9859-b5f0-4b64-bf3d-18859b5705a6"
      },
      "source": [
        "#average accuracy for each parameters\n",
        "a.avgMetrics"
      ],
      "execution_count": null,
      "outputs": [
        {
          "output_type": "execute_result",
          "data": {
            "text/plain": [
              "[0.73179953279737, 0.7130767965533066, 0.702405573073772, 0.7023925501336657]"
            ]
          },
          "metadata": {
            "tags": []
          },
          "execution_count": 26
        }
      ]
    },
    {
      "cell_type": "code",
      "metadata": {
        "id": "t56Bu2EczNns",
        "colab_type": "code",
        "colab": {
          "base_uri": "https://localhost:8080/",
          "height": 51
        },
        "outputId": "545f3436-8556-4ca2-9694-c411f79959e2"
      },
      "source": [
        "#estimate the accuracy of the prediction\n",
        "predictions = a.transform(testData)\n",
        "evaluator = MulticlassClassificationEvaluator(\\\n",
        "labelCol=\"labelIndex\", predictionCol=\"prediction\",\\\n",
        "metricName=\"accuracy\")\n",
        "accuracy = evaluator.evaluate(predictions)\n",
        "print(\"Test Error = %g \" % (100 - 100*accuracy))\n",
        "print(\"accuracy = %g \" % (100*accuracy))"
      ],
      "execution_count": null,
      "outputs": [
        {
          "output_type": "stream",
          "text": [
            "Test Error = 25.8621 \n",
            "accuracy = 74.1379 \n"
          ],
          "name": "stdout"
        }
      ]
    },
    {
      "cell_type": "code",
      "metadata": {
        "id": "yyVy3N5BzoKm",
        "colab_type": "code",
        "colab": {
          "base_uri": "https://localhost:8080/",
          "height": 34
        },
        "outputId": "394430f4-7777-4514-a8a5-868c4902c65f"
      },
      "source": [
        "print(a.bestModel)"
      ],
      "execution_count": null,
      "outputs": [
        {
          "output_type": "stream",
          "text": [
            "RandomForestClassificationModel: uid=RandomForestClassifier_3bb9d8509171, numTrees=90, numClasses=30, numFeatures=851\n"
          ],
          "name": "stdout"
        }
      ]
    },
    {
      "cell_type": "markdown",
      "metadata": {
        "id": "gwO0DETIz4tr",
        "colab_type": "text"
      },
      "source": [
        "##Logistic regression"
      ]
    },
    {
      "cell_type": "code",
      "metadata": {
        "id": "ihyjNQxez8Qx",
        "colab_type": "code",
        "colab": {}
      },
      "source": [
        "lr = LogisticRegression(labelCol=\"labelIndex\", featuresCol=\"scaledFeatures\",maxIter=100,regParam=0.01,elasticNetParam=0.1)\n",
        "#model=lr.fit(trainingData)"
      ],
      "execution_count": null,
      "outputs": []
    },
    {
      "cell_type": "code",
      "metadata": {
        "id": "QyEgGBEP0Gfo",
        "colab_type": "code",
        "colab": {}
      },
      "source": [
        "\n",
        "paramGrid = ParamGridBuilder() \\\n",
        "    .build()\n",
        "ss=MulticlassClassificationEvaluator(labelCol='labelIndex',metricName=\"accuracy\")\n",
        "cv = CrossValidator(estimator = lr , estimatorParamMaps=paramGrid,evaluator=ss,numFolds=5)\n",
        "a=cv.fit(trainingData)\n"
      ],
      "execution_count": null,
      "outputs": []
    },
    {
      "cell_type": "code",
      "metadata": {
        "id": "ttGUZiPN0PWI",
        "colab_type": "code",
        "colab": {
          "base_uri": "https://localhost:8080/",
          "height": 34
        },
        "outputId": "bbd0cea6-e8f7-48cc-b6b3-288a822400b6"
      },
      "source": [
        "a.avgMetrics"
      ],
      "execution_count": null,
      "outputs": [
        {
          "output_type": "execute_result",
          "data": {
            "text/plain": [
              "[0.8539423990089607]"
            ]
          },
          "metadata": {
            "tags": []
          },
          "execution_count": 200
        }
      ]
    },
    {
      "cell_type": "code",
      "metadata": {
        "id": "IzV2ADWQ0Ydr",
        "colab_type": "code",
        "colab": {
          "base_uri": "https://localhost:8080/",
          "height": 51
        },
        "outputId": "bdd14c2b-8064-440f-a046-57d4b16cd460"
      },
      "source": [
        "#estimate the accuracy of the prediction\n",
        "predictions = a.transform(testData)\n",
        "evaluator = MulticlassClassificationEvaluator(\\\n",
        "labelCol=\"labelIndex\", predictionCol=\"prediction\",\\\n",
        "metricName=\"accuracy\")\n",
        "accuracy = evaluator.evaluate(predictions)\n",
        "print(\"Test Error = %g \" % (100 - 100*accuracy))\n",
        "print(\"accuracy = %g \" % (100*accuracy))"
      ],
      "execution_count": null,
      "outputs": [
        {
          "output_type": "stream",
          "text": [
            "Test Error = 13.1148 \n",
            "accuracy = 86.8852 \n"
          ],
          "name": "stdout"
        }
      ]
    },
    {
      "cell_type": "code",
      "metadata": {
        "id": "Z8xBw6FOjBdL",
        "colab_type": "code",
        "colab": {
          "base_uri": "https://localhost:8080/",
          "height": 1000
        },
        "outputId": "04051d20-0cb4-466d-ee18-eeb2509af85b"
      },
      "source": [
        "trainingSummary=a.bestModel.summary\n",
        "objectiveHistory = trainingSummary.objectiveHistory\n",
        "print(\"objectiveHistory:\")\n",
        "print(len(objectiveHistory))\n",
        "#for objective in objectiveHistory:\n",
        "#    print(objective)\n",
        "# for multiclass, we can inspect metrics on a per-label basis\n",
        "print(\"False positive rate by label:\")\n",
        "for i, rate in enumerate(trainingSummary.falsePositiveRateByLabel):\n",
        "    print(\"label %d: %s\" % (i, 100*rate))\n",
        "\n",
        "print(\"True positive rate by label:\")\n",
        "for i, rate in enumerate(trainingSummary.truePositiveRateByLabel):\n",
        "    print(\"label %d: %s\" % (i, 100*rate))"
      ],
      "execution_count": null,
      "outputs": [
        {
          "output_type": "stream",
          "text": [
            "objectiveHistory:\n",
            "101\n",
            "False positive rate by label:\n",
            "label 0: 0.0\n",
            "label 1: 0.0\n",
            "label 2: 0.0\n",
            "label 3: 0.0\n",
            "label 4: 0.0\n",
            "label 5: 0.0\n",
            "label 6: 0.0\n",
            "label 7: 0.0\n",
            "label 8: 0.0\n",
            "label 9: 0.0\n",
            "label 10: 0.0\n",
            "label 11: 0.0\n",
            "label 12: 0.0\n",
            "label 13: 0.0\n",
            "label 14: 0.0\n",
            "label 15: 0.0\n",
            "label 16: 0.0\n",
            "label 17: 0.0\n",
            "label 18: 0.0\n",
            "label 19: 0.0\n",
            "label 20: 0.0\n",
            "label 21: 0.0\n",
            "label 22: 0.0\n",
            "label 23: 0.0\n",
            "label 24: 0.0\n",
            "label 25: 0.0\n",
            "label 26: 0.0\n",
            "label 27: 0.0\n",
            "label 28: 0.0\n",
            "label 29: 0.0\n",
            "True positive rate by label:\n",
            "label 0: 100.0\n",
            "label 1: 100.0\n",
            "label 2: 100.0\n",
            "label 3: 100.0\n",
            "label 4: 100.0\n",
            "label 5: 100.0\n",
            "label 6: 100.0\n",
            "label 7: 100.0\n",
            "label 8: 100.0\n",
            "label 9: 100.0\n",
            "label 10: 100.0\n",
            "label 11: 100.0\n",
            "label 12: 100.0\n",
            "label 13: 100.0\n",
            "label 14: 100.0\n",
            "label 15: 100.0\n",
            "label 16: 100.0\n",
            "label 17: 100.0\n",
            "label 18: 100.0\n",
            "label 19: 100.0\n",
            "label 20: 100.0\n",
            "label 21: 100.0\n",
            "label 22: 100.0\n",
            "label 23: 100.0\n",
            "label 24: 100.0\n",
            "label 25: 100.0\n",
            "label 26: 100.0\n",
            "label 27: 100.0\n",
            "label 28: 100.0\n",
            "label 29: 100.0\n"
          ],
          "name": "stdout"
        }
      ]
    },
    {
      "cell_type": "code",
      "metadata": {
        "id": "2cNcrYltjTrk",
        "colab_type": "code",
        "colab": {
          "base_uri": "https://localhost:8080/",
          "height": 51
        },
        "outputId": "40a4060c-627a-49b6-8881-49292cd341f6"
      },
      "source": [
        "import statistics\n",
        "\n",
        "s=[]\n",
        "for i, rate in enumerate(trainingSummary.falsePositiveRateByLabel):\n",
        "    s.append(rate)\n",
        "\n",
        "print(\"falsePositiveRate %s\" % (100*statistics.mean(s)))\n",
        "m=[]\n",
        "for i, rate in enumerate(trainingSummary.truePositiveRateByLabel):\n",
        "    m.append(rate)\n",
        "\n",
        "print(\"truePositive %s\" % (100*statistics.mean(m)))"
      ],
      "execution_count": null,
      "outputs": [
        {
          "output_type": "stream",
          "text": [
            "falsePositiveRate 0.0\n",
            "truePositive 100.0\n"
          ],
          "name": "stdout"
        }
      ]
    },
    {
      "cell_type": "code",
      "metadata": {
        "id": "zb0R_T-LkgsI",
        "colab_type": "code",
        "colab": {}
      },
      "source": [
        "FRR= (1-statistics.mean(m))*100\n",
        "FAR=100*statistics.mean(s)"
      ],
      "execution_count": null,
      "outputs": []
    },
    {
      "cell_type": "code",
      "metadata": {
        "id": "tzw-7WEdkh4o",
        "colab_type": "code",
        "colab": {
          "base_uri": "https://localhost:8080/",
          "height": 34
        },
        "outputId": "3e4cf9b9-4048-4185-962b-3175ecf6b7fc"
      },
      "source": [
        "print(FRR,FAR)"
      ],
      "execution_count": null,
      "outputs": [
        {
          "output_type": "stream",
          "text": [
            "0.0 0.0\n"
          ],
          "name": "stdout"
        }
      ]
    },
    {
      "cell_type": "markdown",
      "metadata": {
        "id": "jgIFepvB0jJh",
        "colab_type": "text"
      },
      "source": [
        "##deep Learning MultilayerPerceptronClassifier model"
      ]
    },
    {
      "cell_type": "code",
      "metadata": {
        "id": "WtCYuS1e0g2a",
        "colab_type": "code",
        "colab": {}
      },
      "source": [
        "layers = [851,250, 150, 60, 30]\n",
        "trainer = MultilayerPerceptronClassifier(labelCol=\"labelIndex\", featuresCol=\"scaledFeatures\",maxIter=65, layers=layers, blockSize=128, seed=1234)"
      ],
      "execution_count": null,
      "outputs": []
    },
    {
      "cell_type": "code",
      "metadata": {
        "id": "UvhQ6SSv2acj",
        "colab_type": "code",
        "colab": {}
      },
      "source": [
        "model = trainer.fit(trainingData)"
      ],
      "execution_count": null,
      "outputs": []
    },
    {
      "cell_type": "code",
      "metadata": {
        "id": "4Rn5OEjY4Ujt",
        "colab_type": "code",
        "colab": {}
      },
      "source": [
        "predictions = model.transform(testData)"
      ],
      "execution_count": null,
      "outputs": []
    },
    {
      "cell_type": "code",
      "metadata": {
        "id": "YC-JyLb2020o",
        "colab_type": "code",
        "colab": {
          "base_uri": "https://localhost:8080/",
          "height": 51
        },
        "outputId": "8762d3d3-1559-48db-eaa5-453abb330b03"
      },
      "source": [
        "#estimate the accuracy of the prediction\n",
        "\n",
        "evaluator = MulticlassClassificationEvaluator(\\\n",
        "labelCol=\"labelIndex\", predictionCol=\"prediction\",\\\n",
        "metricName=\"accuracy\")\n",
        "accuracy = evaluator.evaluate(predictions)\n",
        "print(\"Test Error = %g \" % (100 - 100*accuracy))\n",
        "print(\"accuracy = %g \" % (100*accuracy))"
      ],
      "execution_count": null,
      "outputs": [
        {
          "output_type": "stream",
          "text": [
            "Test Error = 33.6364 \n",
            "accuracy = 66.3636 \n"
          ],
          "name": "stdout"
        }
      ]
    },
    {
      "cell_type": "markdown",
      "metadata": {
        "id": "8hZZrPBz06TO",
        "colab_type": "text"
      },
      "source": [
        "##NaiveBayes model"
      ]
    },
    {
      "cell_type": "code",
      "metadata": {
        "id": "PC_6jkz6091S",
        "colab_type": "code",
        "colab": {}
      },
      "source": [
        "nb = NaiveBayes(labelCol=\"labelIndex\", featuresCol=\"scaledFeatures\",smoothing=0.1, modelType=\"multinomial\")\n",
        "#model = nb.fit(trainingData)"
      ],
      "execution_count": null,
      "outputs": []
    },
    {
      "cell_type": "code",
      "metadata": {
        "id": "REtybEdi1Q6z",
        "colab_type": "code",
        "colab": {}
      },
      "source": [
        "paramGrid = ParamGridBuilder() \\\n",
        "    .build()\n",
        "ss=MulticlassClassificationEvaluator(labelCol='labelIndex',metricName=\"accuracy\")\n",
        "cv = CrossValidator(estimator = nb , estimatorParamMaps=paramGrid,evaluator=ss,numFolds=5)\n",
        "a=cv.fit(trainingData)\n"
      ],
      "execution_count": null,
      "outputs": []
    },
    {
      "cell_type": "code",
      "metadata": {
        "id": "WpABSyoo1kKS",
        "colab_type": "code",
        "colab": {
          "base_uri": "https://localhost:8080/",
          "height": 34
        },
        "outputId": "a1d015ae-6d8a-4609-95f3-fb42eb70d4f4"
      },
      "source": [
        "a.avgMetrics"
      ],
      "execution_count": null,
      "outputs": [
        {
          "output_type": "execute_result",
          "data": {
            "text/plain": [
              "[0.7224501825124073]"
            ]
          },
          "metadata": {
            "tags": []
          },
          "execution_count": 220
        }
      ]
    },
    {
      "cell_type": "code",
      "metadata": {
        "id": "RpBUhxGG1jGr",
        "colab_type": "code",
        "colab": {
          "base_uri": "https://localhost:8080/",
          "height": 51
        },
        "outputId": "b0a25c93-9ef2-4d14-cc5d-53acfc105fb9"
      },
      "source": [
        "#estimate the accuracy of the prediction\n",
        "predictions = a.transform(testData)\n",
        "evaluator = MulticlassClassificationEvaluator(\\\n",
        "labelCol=\"labelIndex\", predictionCol=\"prediction\",\\\n",
        "metricName=\"accuracy\")\n",
        "accuracy = evaluator.evaluate(predictions)\n",
        "print(\"Test Error = %g \" % (100 - 100*accuracy))\n",
        "print(\"accuracy = %g \" % (100*accuracy))"
      ],
      "execution_count": null,
      "outputs": [
        {
          "output_type": "stream",
          "text": [
            "Test Error = 23.6364 \n",
            "accuracy = 76.3636 \n"
          ],
          "name": "stdout"
        }
      ]
    },
    {
      "cell_type": "markdown",
      "metadata": {
        "id": "8kBfnJuI2oYk",
        "colab_type": "text"
      },
      "source": [
        "##One-vs-Rest classifier (a.k.a. One-vs-All)"
      ]
    },
    {
      "cell_type": "code",
      "metadata": {
        "id": "2IElVUPO2po4",
        "colab_type": "code",
        "colab": {}
      },
      "source": [
        "lr = LogisticRegression(maxIter=10, tol=1E-6, fitIntercept=True)\n",
        "model = OneVsRest(labelCol=\"labelIndex\", featuresCol=\"Aspect\",classifier=lr)"
      ],
      "execution_count": null,
      "outputs": []
    },
    {
      "cell_type": "code",
      "metadata": {
        "id": "1KDO-Agt2tmg",
        "colab_type": "code",
        "colab": {}
      },
      "source": [
        "paramGrid = ParamGridBuilder() \\\n",
        "    .build()\n",
        "ss=MulticlassClassificationEvaluator(labelCol='labelIndex',metricName=\"accuracy\")\n",
        "cv = CrossValidator(estimator = model , estimatorParamMaps=paramGrid,evaluator=ss,numFolds=5)\n",
        "a=cv.fit(trainingData)"
      ],
      "execution_count": null,
      "outputs": []
    },
    {
      "cell_type": "code",
      "metadata": {
        "id": "QftLCOvJ3BP0",
        "colab_type": "code",
        "colab": {
          "base_uri": "https://localhost:8080/",
          "height": 34
        },
        "outputId": "35a2de33-25c2-4ad4-e3ca-8cd454f3ee60"
      },
      "source": [
        "a.avgMetrics"
      ],
      "execution_count": null,
      "outputs": [
        {
          "output_type": "execute_result",
          "data": {
            "text/plain": [
              "[0.9037808124733819]"
            ]
          },
          "metadata": {
            "tags": []
          },
          "execution_count": 110
        }
      ]
    },
    {
      "cell_type": "code",
      "metadata": {
        "id": "a_AWmdsQ3Eq3",
        "colab_type": "code",
        "colab": {
          "base_uri": "https://localhost:8080/",
          "height": 51
        },
        "outputId": "15449644-02af-44d5-8bda-8223d00b7328"
      },
      "source": [
        "#estimate the accuracy of the prediction\n",
        "predictions = a.transform(testData)\n",
        "evaluator = MulticlassClassificationEvaluator(\\\n",
        "labelCol=\"labelIndex\", predictionCol=\"prediction\",\\\n",
        "metricName=\"accuracy\")\n",
        "accuracy = evaluator.evaluate(predictions)\n",
        "print(\"Test Error = %g \" % (100 - 100*accuracy))\n",
        "print(\"accuracy = %g \" % (100*accuracy))"
      ],
      "execution_count": null,
      "outputs": [
        {
          "output_type": "stream",
          "text": [
            "Test Error = 11.0092 \n",
            "accuracy = 88.9908 \n"
          ],
          "name": "stdout"
        }
      ]
    },
    {
      "cell_type": "markdown",
      "metadata": {
        "id": "pasiDLov3f_p",
        "colab_type": "text"
      },
      "source": [
        "#DataAcionList_data Part"
      ]
    },
    {
      "cell_type": "code",
      "metadata": {
        "id": "1Lf6AIbG3leJ",
        "colab_type": "code",
        "colab": {}
      },
      "source": [
        "#read DatactioListPart csv file\n",
        "cc=pd.read_csv('dataAction.csv')"
      ],
      "execution_count": null,
      "outputs": []
    },
    {
      "cell_type": "code",
      "metadata": {
        "id": "ZsDSvxkD4-0b",
        "colab_type": "code",
        "colab": {}
      },
      "source": [
        "#create keystroke dataframe with spark\n",
        "df = my_spark.createDataFrame(cc)"
      ],
      "execution_count": null,
      "outputs": []
    },
    {
      "cell_type": "code",
      "metadata": {
        "id": "axiSJpGm5BUi",
        "colab_type": "code",
        "colab": {
          "base_uri": "https://localhost:8080/",
          "height": 1000
        },
        "outputId": "b377d969-1a66-4525-fa42-3014a198cea4"
      },
      "source": [
        "df.printSchema()"
      ],
      "execution_count": null,
      "outputs": [
        {
          "output_type": "stream",
          "text": [
            "root\n",
            " |-- 0: long (nullable = true)\n",
            " |-- Mean_Vel_X: double (nullable = true)\n",
            " |-- Mean_Vel_Y: double (nullable = true)\n",
            " |-- Mean_Vel_Z: double (nullable = true)\n",
            " |-- Mean_acc_X: double (nullable = true)\n",
            " |-- Mean_acc_Y: double (nullable = true)\n",
            " |-- Mean_acc_Z: double (nullable = true)\n",
            " |-- Mean_lin_acc_X: double (nullable = true)\n",
            " |-- Mean_lin_acc_Y: double (nullable = true)\n",
            " |-- Mean_lin_acc_Z: double (nullable = true)\n",
            " |-- Mean_gravity_X: double (nullable = true)\n",
            " |-- Mean_gravity_Y: double (nullable = true)\n",
            " |-- Mean_gravity_Z: double (nullable = true)\n",
            " |-- Mean_gyro_X: double (nullable = true)\n",
            " |-- Mean_gyro_Y: double (nullable = true)\n",
            " |-- Mean_gyro_Z: double (nullable = true)\n",
            " |-- Mean_size: double (nullable = true)\n",
            " |-- Mean_pressure: double (nullable = true)\n",
            " |-- Points_number: long (nullable = true)\n",
            " |-- Skewness_acc_X: double (nullable = true)\n",
            " |-- Skewness_acc_Y: double (nullable = true)\n",
            " |-- Skewness_acc_Z: double (nullable = true)\n",
            " |-- skw_lin_acc_X: double (nullable = true)\n",
            " |-- skw_lin_acc_Y: double (nullable = true)\n",
            " |-- skw_lin_acc_Z: double (nullable = true)\n",
            " |-- skw_gyro_X: double (nullable = true)\n",
            " |-- skw_gyro_Y: double (nullable = true)\n",
            " |-- skw_gyro_Z: double (nullable = true)\n",
            " |-- skw_gravity_X: double (nullable = true)\n",
            " |-- skw_gravity_Y: double (nullable = true)\n",
            " |-- skw_grzvity_Z: double (nullable = true)\n",
            " |-- Avg_action_duration: long (nullable = true)\n",
            " |-- Avg_Speed_X: double (nullable = true)\n",
            " |-- Avg_Speed_Y: double (nullable = true)\n",
            " |-- Avg_Speed_Z: double (nullable = true)\n",
            " |-- Standard_dev_acc_X: double (nullable = true)\n",
            " |-- Standard_dev_acc_Y: double (nullable = true)\n",
            " |-- Standard_dev_acc_Z: double (nullable = true)\n",
            " |-- avg_dist: double (nullable = true)\n",
            " |-- X_midestroke: double (nullable = true)\n",
            " |-- Y_midestroke: double (nullable = true)\n",
            " |-- start_Timestamp: long (nullable = true)\n",
            " |-- end_Timestamp: long (nullable = true)\n",
            " |-- midstroke_time: long (nullable = true)\n",
            " |-- acc_midestroke_X: double (nullable = true)\n",
            " |-- acc_midestroke_Y: double (nullable = true)\n",
            " |-- acc_midestroke_Z: double (nullable = true)\n",
            " |-- vel_midestroke_X: double (nullable = true)\n",
            " |-- vel_midestroke_Y: double (nullable = true)\n",
            " |-- vel_midestroke_Z: double (nullable = true)\n",
            " |-- pairwise_disp_vel_X: double (nullable = true)\n",
            " |-- pairwise_disp_vel_Y: double (nullable = true)\n",
            " |-- pairwise_disp_vel_Z: double (nullable = true)\n",
            " |-- pairwise_disp_acc_X: double (nullable = true)\n",
            " |-- pairwise_disp_acc_Y: double (nullable = true)\n",
            " |-- pairwise_disp__acc_Z: double (nullable = true)\n",
            " |-- pairwise_disp_lin_acc_X: double (nullable = true)\n",
            " |-- pairwise_disp_lin_acc_Y: double (nullable = true)\n",
            " |-- pairwise_disp_lin_acc_Z: double (nullable = true)\n",
            " |-- pairwise_disp_gyro_X: double (nullable = true)\n",
            " |-- pairwise_disp_gyro_Y: double (nullable = true)\n",
            " |-- pairwise_disp_gyro_Z: double (nullable = true)\n",
            " |-- pairwise_disp_gravity_X: double (nullable = true)\n",
            " |-- pairwise_disp_gravity_Y: double (nullable = true)\n",
            " |-- pairwise_disp_gravity_Z: double (nullable = true)\n",
            " |-- gravity_modestroke_X: double (nullable = true)\n",
            " |-- gravity_modestroke_Y: double (nullable = true)\n",
            " |-- gravity_modestroke_Z: double (nullable = true)\n",
            " |-- gyro_modestroke_X: double (nullable = true)\n",
            " |-- gyro_modestroke_Y: double (nullable = true)\n",
            " |-- gyro_modestroke_Z: double (nullable = true)\n",
            " |-- Session: long (nullable = true)\n",
            " |-- TYPE: string (nullable = true)\n",
            " |-- Action_Data: string (nullable = true)\n",
            " |-- UserID: string (nullable = true)\n",
            "\n"
          ],
          "name": "stdout"
        }
      ]
    },
    {
      "cell_type": "code",
      "metadata": {
        "id": "-CImgO7d5Dn9",
        "colab_type": "code",
        "colab": {
          "base_uri": "https://localhost:8080/",
          "height": 51
        },
        "outputId": "5b0ce9c6-19db-4e16-8d04-c90f421c6e2e"
      },
      "source": [
        "print(\"number of (rows,columns)\")\n",
        "df.count(), len(df.columns)"
      ],
      "execution_count": null,
      "outputs": [
        {
          "output_type": "stream",
          "text": [
            "number of (rows,columns)\n"
          ],
          "name": "stdout"
        },
        {
          "output_type": "execute_result",
          "data": {
            "text/plain": [
              "(5452, 75)"
            ]
          },
          "metadata": {
            "tags": []
          },
          "execution_count": 207
        }
      ]
    },
    {
      "cell_type": "code",
      "metadata": {
        "id": "NnUfXuyr5Eaj",
        "colab_type": "code",
        "colab": {
          "base_uri": "https://localhost:8080/",
          "height": 173
        },
        "outputId": "c742c7ae-4045-47fa-c592-8c43a8c42bf6"
      },
      "source": [
        "df.show(2)"
      ],
      "execution_count": null,
      "outputs": [
        {
          "output_type": "stream",
          "text": [
            "+---+-----------------+------------------+------------------+-------------------+-----------------+-----------------+--------------------+--------------------+-------------------+-------------------+-----------------+-----------------+-------------------+-------------------+-------------------+--------------------+------------------+-------------+-------------------+--------------------+------------------+------------------+------------------+-------------------+-------------------+-----------------+------------------+-------------------+-------------------+------------------+-------------------+--------------------+--------------------+--------------------+------------------+------------------+-------------------+------------------+-----------------+------------------+---------------+-------------+--------------+-------------------+-----------------+------------------+------------------+------------------+------------------+-------------------+-------------------+-------------------+-------------------+-------------------+--------------------+-----------------------+-----------------------+-----------------------+--------------------+--------------------+--------------------+-----------------------+-----------------------+-----------------------+--------------------+--------------------+--------------------+-------------------+-------------------+------------------+-------------+-----+--------------------+---------------+\n",
            "|  0|       Mean_Vel_X|        Mean_Vel_Y|        Mean_Vel_Z|         Mean_acc_X|       Mean_acc_Y|       Mean_acc_Z|      Mean_lin_acc_X|      Mean_lin_acc_Y|     Mean_lin_acc_Z|     Mean_gravity_X|   Mean_gravity_Y|   Mean_gravity_Z|        Mean_gyro_X|        Mean_gyro_Y|        Mean_gyro_Z|           Mean_size|     Mean_pressure|Points_number|     Skewness_acc_X|      Skewness_acc_Y|    Skewness_acc_Z|     skw_lin_acc_X|     skw_lin_acc_Y|      skw_lin_acc_Z|         skw_gyro_X|       skw_gyro_Y|        skw_gyro_Z|      skw_gravity_X|      skw_gravity_Y|     skw_grzvity_Z|Avg_action_duration|         Avg_Speed_X|         Avg_Speed_Y|         Avg_Speed_Z|Standard_dev_acc_X|Standard_dev_acc_Y| Standard_dev_acc_Z|          avg_dist|     X_midestroke|      Y_midestroke|start_Timestamp|end_Timestamp|midstroke_time|   acc_midestroke_X| acc_midestroke_Y|  acc_midestroke_Z|  vel_midestroke_X|  vel_midestroke_Y|  vel_midestroke_Z|pairwise_disp_vel_X|pairwise_disp_vel_Y|pairwise_disp_vel_Z|pairwise_disp_acc_X|pairwise_disp_acc_Y|pairwise_disp__acc_Z|pairwise_disp_lin_acc_X|pairwise_disp_lin_acc_Y|pairwise_disp_lin_acc_Z|pairwise_disp_gyro_X|pairwise_disp_gyro_Y|pairwise_disp_gyro_Z|pairwise_disp_gravity_X|pairwise_disp_gravity_Y|pairwise_disp_gravity_Z|gravity_modestroke_X|gravity_modestroke_Y|gravity_modestroke_Z|  gyro_modestroke_X|  gyro_modestroke_Y| gyro_modestroke_Z|      Session| TYPE|         Action_Data|         UserID|\n",
            "+---+-----------------+------------------+------------------+-------------------+-----------------+-----------------+--------------------+--------------------+-------------------+-------------------+-----------------+-----------------+-------------------+-------------------+-------------------+--------------------+------------------+-------------+-------------------+--------------------+------------------+------------------+------------------+-------------------+-------------------+-----------------+------------------+-------------------+-------------------+------------------+-------------------+--------------------+--------------------+--------------------+------------------+------------------+-------------------+------------------+-----------------+------------------+---------------+-------------+--------------+-------------------+-----------------+------------------+------------------+------------------+------------------+-------------------+-------------------+-------------------+-------------------+-------------------+--------------------+-----------------------+-----------------------+-----------------------+--------------------+--------------------+--------------------+-----------------------+-----------------------+-----------------------+--------------------+--------------------+--------------------+-------------------+-------------------+------------------+-------------+-----+--------------------+---------------+\n",
            "|  0|25.08348107492372|108.85486946774859|152.87438792966574|0.25752040318080355|4.477079119001116|8.830477033342634|-0.10646711077008927|0.002679007393973...| 0.5682700020926339| 0.2785121372767857|4.522014072963169|8.697267804827009|-0.0042572021484375|  0.010650634765625| -0.006378173828125|0.024089637478547442|0.7732142891202655|            7| 0.8020965106134564| 0.31844035398615594|0.6904162077866581|2.0412414523193134| 2.041241452319314|-2.0412414523193148|                NaN|              NaN|               NaN|  -2.04124145231931|-2.0412414523191944| 2.041241452319458|                108|0.002384448177600...|0.041454436287047376| 0.08176367623465401|0.1568001844314963|0.0962898173072801|0.22239872445654765|2646.9386427141485|740.8550415039062|   1724.2060546875|       27521089|     27521197|      27521157|  0.300323486328125|4.373703002929688| 8.749603271484375|28.194642066828017|107.59611280250557|152.18299184767704| 61.202964235630105|  1.366306354101365| 3.6778096652251695|0.02458629783775125|0.00927172891706938|  0.0494611926398994|   0.008321283684511271|   8.090739803654807E-4|      0.024863993782284|                 0.0|                 0.0|                 0.0|   9.578682615288666E-5|   1.070500750626836...|   3.200959015105452E-5|  0.2822113037109375|   4.525924682617188|    8.69512939453125|-0.0042572021484375|  0.010650634765625|-0.006378173828125|1583337340121|Swipe|-M1aGgC2l3tYej7svkov|thabetsedghiani|\n",
            "|  1|44.58103829196389| 76.49865731521416|124.85318332944891|-1.2213150024414063| 3.57347412109375|   9.509814453125| -0.4692703247070312| -1.2666656494140625|-3.1573822021484377|-1.2047409057617189|3.630210876464844|9.029869079589844| 0.0870147705078125|-0.0225860595703125|-0.0307769775390625|0.011764706671237943|0.4749999940395355|           10|-0.4365982244793521|0.013963599783211593|0.2755735419845329|2.6666666666666683|2.6666666666666634|  2.666666666666667|-2.6666666666666643|2.666666666666668|2.6666666666666665|-2.6666666666667034|-2.6666666666666665|2.6666666666666665|                185|-0.00660170271589...| 0.01931607633023649|0.051404402449324316|0.2293111517092476|0.2839561313351999| 0.4408856969410193|1639.9711345868868|            870.0|1203.1844482421875|       27393905|     27394090|      27394026|-1.0342864990234375| 3.44476318359375|10.126998901367188| 41.18494874697996| 75.16190648580822|128.87197475880978|  17.16930561363168|  9.277597507140456|   8.33756767245128|0.05258360429822157| 0.0806310845228533| 0.19438019776716828|   0.002655224897898734|     0.2422275022603572|       1.33505402514711|  1.2359619140625E-4|3.815233707427978E-4|1.140870153903961...|   5.805029068142176...|   3.725814167410134...|   2.026208676397800...|   -1.20233154296875|    3.63214111328125|     9.0294189453125| 0.0905303955078125|-0.0287628173828125|  -0.0308837890625|1583337340121|Swipe|-M1aGC9yb_AHcOBPu8a8|thabetsedghiani|\n",
            "+---+-----------------+------------------+------------------+-------------------+-----------------+-----------------+--------------------+--------------------+-------------------+-------------------+-----------------+-----------------+-------------------+-------------------+-------------------+--------------------+------------------+-------------+-------------------+--------------------+------------------+------------------+------------------+-------------------+-------------------+-----------------+------------------+-------------------+-------------------+------------------+-------------------+--------------------+--------------------+--------------------+------------------+------------------+-------------------+------------------+-----------------+------------------+---------------+-------------+--------------+-------------------+-----------------+------------------+------------------+------------------+------------------+-------------------+-------------------+-------------------+-------------------+-------------------+--------------------+-----------------------+-----------------------+-----------------------+--------------------+--------------------+--------------------+-----------------------+-----------------------+-----------------------+--------------------+--------------------+--------------------+-------------------+-------------------+------------------+-------------+-----+--------------------+---------------+\n",
            "only showing top 2 rows\n",
            "\n"
          ],
          "name": "stdout"
        }
      ]
    },
    {
      "cell_type": "code",
      "metadata": {
        "id": "6yvfMxoN5MwB",
        "colab_type": "code",
        "colab": {
          "base_uri": "https://localhost:8080/",
          "height": 258
        },
        "outputId": "24a9e713-2993-4568-dc7e-60a4034ed5b6"
      },
      "source": [
        "df.describe().toPandas()"
      ],
      "execution_count": null,
      "outputs": [
        {
          "output_type": "execute_result",
          "data": {
            "text/html": [
              "<div>\n",
              "<style scoped>\n",
              "    .dataframe tbody tr th:only-of-type {\n",
              "        vertical-align: middle;\n",
              "    }\n",
              "\n",
              "    .dataframe tbody tr th {\n",
              "        vertical-align: top;\n",
              "    }\n",
              "\n",
              "    .dataframe thead th {\n",
              "        text-align: right;\n",
              "    }\n",
              "</style>\n",
              "<table border=\"1\" class=\"dataframe\">\n",
              "  <thead>\n",
              "    <tr style=\"text-align: right;\">\n",
              "      <th></th>\n",
              "      <th>summary</th>\n",
              "      <th>0</th>\n",
              "      <th>Mean_Vel_X</th>\n",
              "      <th>Mean_Vel_Y</th>\n",
              "      <th>Mean_Vel_Z</th>\n",
              "      <th>Mean_acc_X</th>\n",
              "      <th>Mean_acc_Y</th>\n",
              "      <th>Mean_acc_Z</th>\n",
              "      <th>Mean_lin_acc_X</th>\n",
              "      <th>Mean_lin_acc_Y</th>\n",
              "      <th>Mean_lin_acc_Z</th>\n",
              "      <th>Mean_gravity_X</th>\n",
              "      <th>Mean_gravity_Y</th>\n",
              "      <th>Mean_gravity_Z</th>\n",
              "      <th>Mean_gyro_X</th>\n",
              "      <th>Mean_gyro_Y</th>\n",
              "      <th>Mean_gyro_Z</th>\n",
              "      <th>Mean_size</th>\n",
              "      <th>Mean_pressure</th>\n",
              "      <th>Points_number</th>\n",
              "      <th>Skewness_acc_X</th>\n",
              "      <th>Skewness_acc_Y</th>\n",
              "      <th>Skewness_acc_Z</th>\n",
              "      <th>skw_lin_acc_X</th>\n",
              "      <th>skw_lin_acc_Y</th>\n",
              "      <th>skw_lin_acc_Z</th>\n",
              "      <th>skw_gyro_X</th>\n",
              "      <th>skw_gyro_Y</th>\n",
              "      <th>skw_gyro_Z</th>\n",
              "      <th>skw_gravity_X</th>\n",
              "      <th>skw_gravity_Y</th>\n",
              "      <th>skw_grzvity_Z</th>\n",
              "      <th>Avg_action_duration</th>\n",
              "      <th>Avg_Speed_X</th>\n",
              "      <th>Avg_Speed_Y</th>\n",
              "      <th>Avg_Speed_Z</th>\n",
              "      <th>Standard_dev_acc_X</th>\n",
              "      <th>Standard_dev_acc_Y</th>\n",
              "      <th>Standard_dev_acc_Z</th>\n",
              "      <th>avg_dist</th>\n",
              "      <th>X_midestroke</th>\n",
              "      <th>Y_midestroke</th>\n",
              "      <th>start_Timestamp</th>\n",
              "      <th>end_Timestamp</th>\n",
              "      <th>midstroke_time</th>\n",
              "      <th>acc_midestroke_X</th>\n",
              "      <th>acc_midestroke_Y</th>\n",
              "      <th>acc_midestroke_Z</th>\n",
              "      <th>vel_midestroke_X</th>\n",
              "      <th>vel_midestroke_Y</th>\n",
              "      <th>vel_midestroke_Z</th>\n",
              "      <th>pairwise_disp_vel_X</th>\n",
              "      <th>pairwise_disp_vel_Y</th>\n",
              "      <th>pairwise_disp_vel_Z</th>\n",
              "      <th>pairwise_disp_acc_X</th>\n",
              "      <th>pairwise_disp_acc_Y</th>\n",
              "      <th>pairwise_disp__acc_Z</th>\n",
              "      <th>pairwise_disp_lin_acc_X</th>\n",
              "      <th>pairwise_disp_lin_acc_Y</th>\n",
              "      <th>pairwise_disp_lin_acc_Z</th>\n",
              "      <th>pairwise_disp_gyro_X</th>\n",
              "      <th>pairwise_disp_gyro_Y</th>\n",
              "      <th>pairwise_disp_gyro_Z</th>\n",
              "      <th>pairwise_disp_gravity_X</th>\n",
              "      <th>pairwise_disp_gravity_Y</th>\n",
              "      <th>pairwise_disp_gravity_Z</th>\n",
              "      <th>gravity_modestroke_X</th>\n",
              "      <th>gravity_modestroke_Y</th>\n",
              "      <th>gravity_modestroke_Z</th>\n",
              "      <th>gyro_modestroke_X</th>\n",
              "      <th>gyro_modestroke_Y</th>\n",
              "      <th>gyro_modestroke_Z</th>\n",
              "      <th>Session</th>\n",
              "      <th>TYPE</th>\n",
              "      <th>Action_Data</th>\n",
              "      <th>UserID</th>\n",
              "    </tr>\n",
              "  </thead>\n",
              "  <tbody>\n",
              "    <tr>\n",
              "      <th>0</th>\n",
              "      <td>count</td>\n",
              "      <td>5452</td>\n",
              "      <td>5452</td>\n",
              "      <td>5452</td>\n",
              "      <td>5452</td>\n",
              "      <td>5452</td>\n",
              "      <td>5452</td>\n",
              "      <td>5452</td>\n",
              "      <td>5452</td>\n",
              "      <td>5452</td>\n",
              "      <td>5452</td>\n",
              "      <td>5452</td>\n",
              "      <td>5452</td>\n",
              "      <td>5452</td>\n",
              "      <td>5452</td>\n",
              "      <td>5452</td>\n",
              "      <td>5452</td>\n",
              "      <td>5452</td>\n",
              "      <td>5452</td>\n",
              "      <td>5452</td>\n",
              "      <td>5452</td>\n",
              "      <td>5452</td>\n",
              "      <td>5452</td>\n",
              "      <td>5452</td>\n",
              "      <td>5452</td>\n",
              "      <td>5452</td>\n",
              "      <td>5452</td>\n",
              "      <td>5452</td>\n",
              "      <td>5452</td>\n",
              "      <td>5452</td>\n",
              "      <td>5452</td>\n",
              "      <td>5452</td>\n",
              "      <td>5452</td>\n",
              "      <td>5452</td>\n",
              "      <td>5452</td>\n",
              "      <td>5452</td>\n",
              "      <td>5452</td>\n",
              "      <td>5452</td>\n",
              "      <td>5452</td>\n",
              "      <td>5452</td>\n",
              "      <td>5452</td>\n",
              "      <td>5452</td>\n",
              "      <td>5452</td>\n",
              "      <td>5452</td>\n",
              "      <td>5452</td>\n",
              "      <td>5452</td>\n",
              "      <td>5452</td>\n",
              "      <td>5452</td>\n",
              "      <td>5452</td>\n",
              "      <td>5452</td>\n",
              "      <td>5452</td>\n",
              "      <td>5452</td>\n",
              "      <td>5452</td>\n",
              "      <td>5452</td>\n",
              "      <td>5452</td>\n",
              "      <td>5452</td>\n",
              "      <td>5452</td>\n",
              "      <td>5452</td>\n",
              "      <td>5452</td>\n",
              "      <td>5452</td>\n",
              "      <td>5452</td>\n",
              "      <td>5452</td>\n",
              "      <td>5452</td>\n",
              "      <td>5452</td>\n",
              "      <td>5452</td>\n",
              "      <td>5452</td>\n",
              "      <td>5452</td>\n",
              "      <td>5452</td>\n",
              "      <td>5452</td>\n",
              "      <td>5452</td>\n",
              "      <td>5452</td>\n",
              "      <td>5452</td>\n",
              "      <td>5452</td>\n",
              "      <td>5452</td>\n",
              "      <td>5452</td>\n",
              "      <td>5452</td>\n",
              "    </tr>\n",
              "    <tr>\n",
              "      <th>1</th>\n",
              "      <td>mean</td>\n",
              "      <td>2725.5</td>\n",
              "      <td>32.50098960288304</td>\n",
              "      <td>78.24871507696687</td>\n",
              "      <td>97.00735885438519</td>\n",
              "      <td>-0.5302881181630842</td>\n",
              "      <td>5.26512767454466</td>\n",
              "      <td>7.903988778951043</td>\n",
              "      <td>-0.009224461021017236</td>\n",
              "      <td>-6.140147940616793E-4</td>\n",
              "      <td>0.015818458650871097</td>\n",
              "      <td>-0.4948738307884032</td>\n",
              "      <td>5.232169168351482</td>\n",
              "      <td>7.852091330715424</td>\n",
              "      <td>0.03787471496980212</td>\n",
              "      <td>0.030770420083661314</td>\n",
              "      <td>3.326135943789648E-4</td>\n",
              "      <td>0.015505045527006368</td>\n",
              "      <td>0.5253368107276636</td>\n",
              "      <td>7.24468085106383</td>\n",
              "      <td>NaN</td>\n",
              "      <td>NaN</td>\n",
              "      <td>NaN</td>\n",
              "      <td>NaN</td>\n",
              "      <td>NaN</td>\n",
              "      <td>NaN</td>\n",
              "      <td>NaN</td>\n",
              "      <td>NaN</td>\n",
              "      <td>NaN</td>\n",
              "      <td>NaN</td>\n",
              "      <td>NaN</td>\n",
              "      <td>NaN</td>\n",
              "      <td>160.7023110785033</td>\n",
              "      <td>-0.004957099405973736</td>\n",
              "      <td>0.04768160335309254</td>\n",
              "      <td>0.07095201832541237</td>\n",
              "      <td>0.18663547909608147</td>\n",
              "      <td>0.25184422044305843</td>\n",
              "      <td>0.40098731306682656</td>\n",
              "      <td>1442.8300906359761</td>\n",
              "      <td>927.6848557434446</td>\n",
              "      <td>1329.2682882660204</td>\n",
              "      <td>1.984129331676449E7</td>\n",
              "      <td>1.984145401907557E7</td>\n",
              "      <td>1.984140523312546E7</td>\n",
              "      <td>-0.5415877372310691</td>\n",
              "      <td>5.295174683356057</td>\n",
              "      <td>7.943871638745135</td>\n",
              "      <td>32.72415581217011</td>\n",
              "      <td>78.53897672043317</td>\n",
              "      <td>97.20835607587155</td>\n",
              "      <td>28.850291014682806</td>\n",
              "      <td>13.271319456822116</td>\n",
              "      <td>15.389098576304459</td>\n",
              "      <td>0.068662058969956</td>\n",
              "      <td>0.18651901398728057</td>\n",
              "      <td>0.4127556410637807</td>\n",
              "      <td>0.02832489721536235</td>\n",
              "      <td>0.09612681870602592</td>\n",
              "      <td>0.2289113308068314</td>\n",
              "      <td>0.019170327556722693</td>\n",
              "      <td>0.022396196987330315</td>\n",
              "      <td>0.005485069702137783</td>\n",
              "      <td>0.010825852870665557</td>\n",
              "      <td>0.009659712310969995</td>\n",
              "      <td>0.007421578278034659</td>\n",
              "      <td>-0.5014706539565469</td>\n",
              "      <td>5.240816061757369</td>\n",
              "      <td>7.844037266575232</td>\n",
              "      <td>0.03512097174685752</td>\n",
              "      <td>0.029886720115790362</td>\n",
              "      <td>0.0010119946844334648</td>\n",
              "      <td>1.5833326808072808E12</td>\n",
              "      <td>None</td>\n",
              "      <td>None</td>\n",
              "      <td>None</td>\n",
              "    </tr>\n",
              "    <tr>\n",
              "      <th>2</th>\n",
              "      <td>stddev</td>\n",
              "      <td>1574.0011647602637</td>\n",
              "      <td>20.938715477636723</td>\n",
              "      <td>38.4260935603734</td>\n",
              "      <td>45.0553421750711</td>\n",
              "      <td>1.3855427131016103</td>\n",
              "      <td>1.772473136350108</td>\n",
              "      <td>1.584142936998371</td>\n",
              "      <td>0.23305211726921887</td>\n",
              "      <td>0.4214864787071538</td>\n",
              "      <td>0.6193100758907921</td>\n",
              "      <td>1.3156228841970945</td>\n",
              "      <td>1.737410470302002</td>\n",
              "      <td>1.4568552741669714</td>\n",
              "      <td>0.1916953738854243</td>\n",
              "      <td>0.22917746899984215</td>\n",
              "      <td>0.11958659771839125</td>\n",
              "      <td>0.005202600002431692</td>\n",
              "      <td>0.1362086316632237</td>\n",
              "      <td>8.69923458683288</td>\n",
              "      <td>NaN</td>\n",
              "      <td>NaN</td>\n",
              "      <td>NaN</td>\n",
              "      <td>NaN</td>\n",
              "      <td>NaN</td>\n",
              "      <td>NaN</td>\n",
              "      <td>NaN</td>\n",
              "      <td>NaN</td>\n",
              "      <td>NaN</td>\n",
              "      <td>NaN</td>\n",
              "      <td>NaN</td>\n",
              "      <td>NaN</td>\n",
              "      <td>169.78923333190406</td>\n",
              "      <td>0.01567541244496211</td>\n",
              "      <td>0.02981795206880525</td>\n",
              "      <td>0.039513417090114696</td>\n",
              "      <td>0.1839441844063238</td>\n",
              "      <td>0.3508790168092672</td>\n",
              "      <td>0.5020070113236786</td>\n",
              "      <td>1212.8774992443223</td>\n",
              "      <td>400.7828844981692</td>\n",
              "      <td>499.1296969357444</td>\n",
              "      <td>1.5020527393506898E7</td>\n",
              "      <td>1.502051623391125E7</td>\n",
              "      <td>1.5020523033404503E7</td>\n",
              "      <td>1.4272092131065153</td>\n",
              "      <td>1.7978980303862384</td>\n",
              "      <td>1.6813236926002517</td>\n",
              "      <td>21.606544799986274</td>\n",
              "      <td>38.560408947146605</td>\n",
              "      <td>45.13943856721547</td>\n",
              "      <td>71.66549935357023</td>\n",
              "      <td>55.35480358348208</td>\n",
              "      <td>62.551085103800354</td>\n",
              "      <td>0.18958976397282015</td>\n",
              "      <td>0.7268557781673163</td>\n",
              "      <td>2.7709489529297597</td>\n",
              "      <td>0.11982994810774246</td>\n",
              "      <td>0.6212021639976278</td>\n",
              "      <td>2.5037211258278793</td>\n",
              "      <td>0.07868993559885452</td>\n",
              "      <td>0.10520738911899542</td>\n",
              "      <td>0.03320196875923783</td>\n",
              "      <td>0.05487912078365914</td>\n",
              "      <td>0.05667978567873262</td>\n",
              "      <td>0.050502733278480406</td>\n",
              "      <td>1.328275026467939</td>\n",
              "      <td>1.7367947672013186</td>\n",
              "      <td>1.463605891200575</td>\n",
              "      <td>0.23369572757789905</td>\n",
              "      <td>0.2648756944605072</td>\n",
              "      <td>0.13312734367064033</td>\n",
              "      <td>6.066807502520373E7</td>\n",
              "      <td>None</td>\n",
              "      <td>None</td>\n",
              "      <td>None</td>\n",
              "    </tr>\n",
              "    <tr>\n",
              "      <th>3</th>\n",
              "      <td>min</td>\n",
              "      <td>0</td>\n",
              "      <td>0.0</td>\n",
              "      <td>0.0</td>\n",
              "      <td>0.0</td>\n",
              "      <td>-6.9273681640625</td>\n",
              "      <td>-0.43813323974609375</td>\n",
              "      <td>-2.744983673095703</td>\n",
              "      <td>-2.5526580810546875</td>\n",
              "      <td>-3.44195556640625</td>\n",
              "      <td>-8.987380981445312</td>\n",
              "      <td>-6.450419108072918</td>\n",
              "      <td>-0.1126708984375</td>\n",
              "      <td>-1.2294578552246094</td>\n",
              "      <td>-1.48712158203125</td>\n",
              "      <td>-2.461214338030134</td>\n",
              "      <td>-1.3081207275390625</td>\n",
              "      <td>0.0039215688593685636</td>\n",
              "      <td>0.20000000298023224</td>\n",
              "      <td>2</td>\n",
              "      <td>-2.985387632008065</td>\n",
              "      <td>-3.774793765890578</td>\n",
              "      <td>-4.04479579413054</td>\n",
              "      <td>-4.448966449027003</td>\n",
              "      <td>-4.694855340334442</td>\n",
              "      <td>-3.877453048379833</td>\n",
              "      <td>-4.535622030484523</td>\n",
              "      <td>-4.477215043467823</td>\n",
              "      <td>-4.357106339170297</td>\n",
              "      <td>-4.694855340334098</td>\n",
              "      <td>-5.557702873082482</td>\n",
              "      <td>-4.364357804719532</td>\n",
              "      <td>23</td>\n",
              "      <td>-0.10967159271240234</td>\n",
              "      <td>-0.005278713731880647</td>\n",
              "      <td>-0.045861896715666116</td>\n",
              "      <td>0.0</td>\n",
              "      <td>0.0</td>\n",
              "      <td>0.0</td>\n",
              "      <td>0.0</td>\n",
              "      <td>10.0</td>\n",
              "      <td>86.0</td>\n",
              "      <td>366204</td>\n",
              "      <td>366375</td>\n",
              "      <td>366316</td>\n",
              "      <td>-6.9273681640625</td>\n",
              "      <td>-1.8246917724609373</td>\n",
              "      <td>-11.132904052734377</td>\n",
              "      <td>0.0</td>\n",
              "      <td>0.0</td>\n",
              "      <td>0.0</td>\n",
              "      <td>0.0</td>\n",
              "      <td>0.0</td>\n",
              "      <td>0.0</td>\n",
              "      <td>0.0</td>\n",
              "      <td>0.0</td>\n",
              "      <td>0.0</td>\n",
              "      <td>0.0</td>\n",
              "      <td>0.0</td>\n",
              "      <td>0.0</td>\n",
              "      <td>0.0</td>\n",
              "      <td>0.0</td>\n",
              "      <td>0.0</td>\n",
              "      <td>0.0</td>\n",
              "      <td>0.0</td>\n",
              "      <td>0.0</td>\n",
              "      <td>-6.6094818115234375</td>\n",
              "      <td>-0.1126708984375</td>\n",
              "      <td>-1.8113555908203125</td>\n",
              "      <td>-2.1177520751953125</td>\n",
              "      <td>-2.7526397705078125</td>\n",
              "      <td>-1.351806640625</td>\n",
              "      <td>1583246348532</td>\n",
              "      <td>Swipe</td>\n",
              "      <td>-M1VprUuN1IHEr5-JwQu</td>\n",
              "      <td>ahmedboujelben</td>\n",
              "    </tr>\n",
              "    <tr>\n",
              "      <th>4</th>\n",
              "      <td>max</td>\n",
              "      <td>5451</td>\n",
              "      <td>152.6613937597945</td>\n",
              "      <td>307.5572608723245</td>\n",
              "      <td>330.6599972875178</td>\n",
              "      <td>5.982243464543268</td>\n",
              "      <td>11.533676147460938</td>\n",
              "      <td>11.845443725585938</td>\n",
              "      <td>1.585174560546875</td>\n",
              "      <td>4.35400390625</td>\n",
              "      <td>4.53140869140625</td>\n",
              "      <td>5.992869841746796</td>\n",
              "      <td>9.789283752441406</td>\n",
              "      <td>9.806127694936901</td>\n",
              "      <td>3.0796661376953125</td>\n",
              "      <td>2.8857879638671875</td>\n",
              "      <td>1.7496963500976563</td>\n",
              "      <td>0.04549019895493985</td>\n",
              "      <td>1.1802884752933795</td>\n",
              "      <td>148</td>\n",
              "      <td>NaN</td>\n",
              "      <td>NaN</td>\n",
              "      <td>NaN</td>\n",
              "      <td>NaN</td>\n",
              "      <td>NaN</td>\n",
              "      <td>NaN</td>\n",
              "      <td>NaN</td>\n",
              "      <td>NaN</td>\n",
              "      <td>NaN</td>\n",
              "      <td>NaN</td>\n",
              "      <td>NaN</td>\n",
              "      <td>NaN</td>\n",
              "      <td>4565</td>\n",
              "      <td>0.12149786949157715</td>\n",
              "      <td>0.22665087381998694</td>\n",
              "      <td>0.4243807585343071</td>\n",
              "      <td>2.3044500444818214</td>\n",
              "      <td>4.110608434900966</td>\n",
              "      <td>13.279680279380283</td>\n",
              "      <td>14177.675855553025</td>\n",
              "      <td>1428.0</td>\n",
              "      <td>2388.0</td>\n",
              "      <td>44258479</td>\n",
              "      <td>44258609</td>\n",
              "      <td>44258591</td>\n",
              "      <td>6.2177276611328125</td>\n",
              "      <td>12.18963623046875</td>\n",
              "      <td>14.198165893554688</td>\n",
              "      <td>153.6605955447317</td>\n",
              "      <td>307.0419377652472</td>\n",
              "      <td>326.460144004872</td>\n",
              "      <td>1183.8495380220254</td>\n",
              "      <td>1302.9505049532775</td>\n",
              "      <td>2252.1267673056814</td>\n",
              "      <td>5.310490007512271</td>\n",
              "      <td>16.897101705078967</td>\n",
              "      <td>176.34990832256153</td>\n",
              "      <td>3.1409300808639573</td>\n",
              "      <td>14.392051291186366</td>\n",
              "      <td>162.20276115881282</td>\n",
              "      <td>2.4877096899519007</td>\n",
              "      <td>3.772367099377637</td>\n",
              "      <td>1.295412328210659</td>\n",
              "      <td>1.3842386495421777</td>\n",
              "      <td>1.9045554969967768</td>\n",
              "      <td>2.046232113847509</td>\n",
              "      <td>6.02978515625</td>\n",
              "      <td>9.78509521484375</td>\n",
              "      <td>9.806198120117188</td>\n",
              "      <td>3.0796661376953125</td>\n",
              "      <td>2.8857879638671875</td>\n",
              "      <td>1.801361083984375</td>\n",
              "      <td>1583423668714</td>\n",
              "      <td>tap</td>\n",
              "      <td>-M1fPuuGW24Jqome_sz5</td>\n",
              "      <td>zeinebellouze</td>\n",
              "    </tr>\n",
              "  </tbody>\n",
              "</table>\n",
              "</div>"
            ],
            "text/plain": [
              "  summary                   0  ...           Action_Data          UserID\n",
              "0   count                5452  ...                  5452            5452\n",
              "1    mean              2725.5  ...                  None            None\n",
              "2  stddev  1574.0011647602637  ...                  None            None\n",
              "3     min                   0  ...  -M1VprUuN1IHEr5-JwQu  ahmedboujelben\n",
              "4     max                5451  ...  -M1fPuuGW24Jqome_sz5   zeinebellouze\n",
              "\n",
              "[5 rows x 76 columns]"
            ]
          },
          "metadata": {
            "tags": []
          },
          "execution_count": 9
        }
      ]
    },
    {
      "cell_type": "code",
      "metadata": {
        "id": "KllNvHEV5QVj",
        "colab_type": "code",
        "colab": {
          "base_uri": "https://localhost:8080/",
          "height": 139
        },
        "outputId": "f1853a96-cd66-4a0f-82be-830ca3e05314"
      },
      "source": [
        "### Get count of nan or missing values in our dataframe\n",
        "df.select([count(when(isnan(c), c)).alias(c) for c in df.columns]).show()"
      ],
      "execution_count": null,
      "outputs": [
        {
          "output_type": "stream",
          "text": [
            "+---+----------+----------+----------+----------+----------+----------+--------------+--------------+--------------+--------------+--------------+--------------+-----------+-----------+-----------+---------+-------------+-------------+--------------+--------------+--------------+-------------+-------------+-------------+----------+----------+----------+-------------+-------------+-------------+-------------------+-----------+-----------+-----------+------------------+------------------+------------------+--------+------------+------------+---------------+-------------+--------------+----------------+----------------+----------------+----------------+----------------+----------------+-------------------+-------------------+-------------------+-------------------+-------------------+--------------------+-----------------------+-----------------------+-----------------------+--------------------+--------------------+--------------------+-----------------------+-----------------------+-----------------------+--------------------+--------------------+--------------------+-----------------+-----------------+-----------------+-------+----+-----------+------+\n",
            "|  0|Mean_Vel_X|Mean_Vel_Y|Mean_Vel_Z|Mean_acc_X|Mean_acc_Y|Mean_acc_Z|Mean_lin_acc_X|Mean_lin_acc_Y|Mean_lin_acc_Z|Mean_gravity_X|Mean_gravity_Y|Mean_gravity_Z|Mean_gyro_X|Mean_gyro_Y|Mean_gyro_Z|Mean_size|Mean_pressure|Points_number|Skewness_acc_X|Skewness_acc_Y|Skewness_acc_Z|skw_lin_acc_X|skw_lin_acc_Y|skw_lin_acc_Z|skw_gyro_X|skw_gyro_Y|skw_gyro_Z|skw_gravity_X|skw_gravity_Y|skw_grzvity_Z|Avg_action_duration|Avg_Speed_X|Avg_Speed_Y|Avg_Speed_Z|Standard_dev_acc_X|Standard_dev_acc_Y|Standard_dev_acc_Z|avg_dist|X_midestroke|Y_midestroke|start_Timestamp|end_Timestamp|midstroke_time|acc_midestroke_X|acc_midestroke_Y|acc_midestroke_Z|vel_midestroke_X|vel_midestroke_Y|vel_midestroke_Z|pairwise_disp_vel_X|pairwise_disp_vel_Y|pairwise_disp_vel_Z|pairwise_disp_acc_X|pairwise_disp_acc_Y|pairwise_disp__acc_Z|pairwise_disp_lin_acc_X|pairwise_disp_lin_acc_Y|pairwise_disp_lin_acc_Z|pairwise_disp_gyro_X|pairwise_disp_gyro_Y|pairwise_disp_gyro_Z|pairwise_disp_gravity_X|pairwise_disp_gravity_Y|pairwise_disp_gravity_Z|gravity_modestroke_X|gravity_modestroke_Y|gravity_modestroke_Z|gyro_modestroke_X|gyro_modestroke_Y|gyro_modestroke_Z|Session|TYPE|Action_Data|UserID|\n",
            "+---+----------+----------+----------+----------+----------+----------+--------------+--------------+--------------+--------------+--------------+--------------+-----------+-----------+-----------+---------+-------------+-------------+--------------+--------------+--------------+-------------+-------------+-------------+----------+----------+----------+-------------+-------------+-------------+-------------------+-----------+-----------+-----------+------------------+------------------+------------------+--------+------------+------------+---------------+-------------+--------------+----------------+----------------+----------------+----------------+----------------+----------------+-------------------+-------------------+-------------------+-------------------+-------------------+--------------------+-----------------------+-----------------------+-----------------------+--------------------+--------------------+--------------------+-----------------------+-----------------------+-----------------------+--------------------+--------------------+--------------------+-----------------+-----------------+-----------------+-------+----+-----------+------+\n",
            "|  0|         0|         0|         0|         0|         0|         0|             0|             0|             0|             0|             0|             0|          0|          0|          0|        0|            0|            0|           105|           109|           103|         2167|         2167|         2168|      2150|      2152|      2154|         2167|         2167|         2168|                  0|          0|          0|          0|                 0|                 0|                 0|       0|           0|           0|              0|            0|             0|               0|               0|               0|               0|               0|               0|                  0|                  0|                  0|                  0|                  0|                   0|                      0|                      0|                      0|                   0|                   0|                   0|                      0|                      0|                      0|                   0|                   0|                   0|                0|                0|                0|      0|   0|          0|     0|\n",
            "+---+----------+----------+----------+----------+----------+----------+--------------+--------------+--------------+--------------+--------------+--------------+-----------+-----------+-----------+---------+-------------+-------------+--------------+--------------+--------------+-------------+-------------+-------------+----------+----------+----------+-------------+-------------+-------------+-------------------+-----------+-----------+-----------+------------------+------------------+------------------+--------+------------+------------+---------------+-------------+--------------+----------------+----------------+----------------+----------------+----------------+----------------+-------------------+-------------------+-------------------+-------------------+-------------------+--------------------+-----------------------+-----------------------+-----------------------+--------------------+--------------------+--------------------+-----------------------+-----------------------+-----------------------+--------------------+--------------------+--------------------+-----------------+-----------------+-----------------+-------+----+-----------+------+\n",
            "\n"
          ],
          "name": "stdout"
        }
      ]
    },
    {
      "cell_type": "code",
      "metadata": {
        "id": "90IZldwP5Y4l",
        "colab_type": "code",
        "colab": {}
      },
      "source": [
        "#delete columns which contains a lot of null values\n",
        "co=['skw_grzvity_Z','skw_gravity_Y','skw_gravity_X','skw_gyro_Z','skw_gyro_Y','skw_gyro_X','skw_lin_acc_Z','skw_lin_acc_Y','skw_lin_acc_X']\n",
        "for e in co:\n",
        "  df = df.drop(e)"
      ],
      "execution_count": null,
      "outputs": []
    },
    {
      "cell_type": "code",
      "metadata": {
        "id": "X1vP8bnf5sn2",
        "colab_type": "code",
        "colab": {}
      },
      "source": [
        "#transform null values in these columns to the average of a column\n",
        "imputer = Imputer(\n",
        "    inputCols=['Skewness_acc_X','Skewness_acc_Y','Skewness_acc_Z'], \n",
        "    outputCols=['Skewness_acc_X1','Skewness_acc_Y1','Skewness_acc_Z1']\n",
        ")\n",
        "df=imputer.fit(df).transform(df)"
      ],
      "execution_count": null,
      "outputs": []
    },
    {
      "cell_type": "code",
      "metadata": {
        "id": "DTwqJyCm6IHE",
        "colab_type": "code",
        "colab": {}
      },
      "source": [
        "#create a label_encoder column fOr userId \n",
        "l_indexer = StringIndexer(inputCol=\"UserID\", outputCol=\"labelIndex\")\n",
        "df = l_indexer.fit(df).transform(df)"
      ],
      "execution_count": null,
      "outputs": []
    },
    {
      "cell_type": "code",
      "metadata": {
        "id": "u9zNbAxB6UF1",
        "colab_type": "code",
        "colab": {}
      },
      "source": [
        "#create a label_encoder column for Type\n",
        "l_indexer = StringIndexer(inputCol=\"TYPE\", outputCol=\"TYPE1\")\n",
        "df = l_indexer.fit(df).transform(df)"
      ],
      "execution_count": null,
      "outputs": []
    },
    {
      "cell_type": "code",
      "metadata": {
        "id": "ZCwQtWxG5_0a",
        "colab_type": "code",
        "colab": {}
      },
      "source": [
        "#drop the unnecessary column\n",
        "co1=['Skewness_acc_X','Skewness_acc_Y','Skewness_acc_Z','Unnamed: 0','Action_Data','Session','UserID','TYPE']\n",
        "for e in co1:\n",
        "  df = df.drop(e)"
      ],
      "execution_count": null,
      "outputs": []
    },
    {
      "cell_type": "code",
      "metadata": {
        "id": "OcUKo0b6AuEp",
        "colab_type": "code",
        "colab": {
          "base_uri": "https://localhost:8080/",
          "height": 51
        },
        "outputId": "1bb33436-0cfd-4400-9fc0-2463d8177fd2"
      },
      "source": [
        "print(\"number of (rows,columns)\")\n",
        "df.count(), len(df.columns)"
      ],
      "execution_count": null,
      "outputs": [
        {
          "output_type": "stream",
          "text": [
            "number of (rows,columns)\n"
          ],
          "name": "stdout"
        },
        {
          "output_type": "execute_result",
          "data": {
            "text/plain": [
              "(5452, 64)"
            ]
          },
          "metadata": {
            "tags": []
          },
          "execution_count": 22
        }
      ]
    },
    {
      "cell_type": "code",
      "metadata": {
        "id": "xD1mb6Ak7BbO",
        "colab_type": "code",
        "colab": {}
      },
      "source": [
        "#transform all features columns into one column \n",
        "#create a list contains our training feature\n",
        "cols=df.columns\n",
        "cols.remove(\"labelIndex\")\n",
        "# Let us import the vector assembler\n",
        "assembler = VectorAssembler(inputCols=cols,outputCol=\"features\")\n",
        "# Now let us use the transform method to transform our dataset\n",
        "raw_data=assembler.transform(df)\n",
        "#raw_data.select(\"features\").show(truncate=False)"
      ],
      "execution_count": null,
      "outputs": []
    },
    {
      "cell_type": "code",
      "metadata": {
        "id": "W92HGW2n7EUS",
        "colab_type": "code",
        "colab": {}
      },
      "source": [
        "# min max scaler [0-1] \n",
        "scaler = MinMaxScaler(inputCol=\"features\", outputCol=\"scaledFeatures\")\n",
        "raw_data = scaler.fit(raw_data).transform(raw_data)"
      ],
      "execution_count": null,
      "outputs": []
    },
    {
      "cell_type": "code",
      "metadata": {
        "id": "8mkNEeVw7I6h",
        "colab_type": "code",
        "colab": {}
      },
      "source": [
        "raw_data=raw_data.select(['scaledFeatures','labelIndex'])"
      ],
      "execution_count": null,
      "outputs": []
    },
    {
      "cell_type": "code",
      "metadata": {
        "id": "UXOZb5u47NGC",
        "colab_type": "code",
        "colab": {}
      },
      "source": [
        "# we should divide our data into training and test sets (20% held out for testing)\n",
        "(trainingData, testData) = raw_data.randomSplit([0.8, 0.2],seed=24)"
      ],
      "execution_count": null,
      "outputs": []
    },
    {
      "cell_type": "markdown",
      "metadata": {
        "id": "60NNt1Xu7c_R",
        "colab_type": "text"
      },
      "source": [
        "##Decision tree classifier"
      ]
    },
    {
      "cell_type": "code",
      "metadata": {
        "id": "cmTKWRw97htj",
        "colab_type": "code",
        "colab": {}
      },
      "source": [
        "dt = DecisionTreeClassifier(labelCol=\"labelIndex\", featuresCol=\"scaledFeatures\")"
      ],
      "execution_count": null,
      "outputs": []
    },
    {
      "cell_type": "code",
      "metadata": {
        "id": "JdQxV8DB8Gty",
        "colab_type": "code",
        "colab": {}
      },
      "source": [
        "paramGrid = ParamGridBuilder() \\\n",
        "    .build()\n",
        "ss=MulticlassClassificationEvaluator(labelCol='labelIndex',metricName=\"accuracy\")\n",
        "cv = CrossValidator(estimator = dt , estimatorParamMaps=paramGrid,evaluator=ss,numFolds=5)\n",
        "a=cv.fit(trainingData)"
      ],
      "execution_count": null,
      "outputs": []
    },
    {
      "cell_type": "code",
      "metadata": {
        "id": "ss_iifeL8QJx",
        "colab_type": "code",
        "colab": {
          "base_uri": "https://localhost:8080/",
          "height": 34
        },
        "outputId": "94b22602-ede0-4124-e0aa-a7ac193c93ff"
      },
      "source": [
        "a.avgMetrics"
      ],
      "execution_count": null,
      "outputs": [
        {
          "output_type": "execute_result",
          "data": {
            "text/plain": [
              "[0.7767039586699211]"
            ]
          },
          "metadata": {
            "tags": []
          },
          "execution_count": 22
        }
      ]
    },
    {
      "cell_type": "code",
      "metadata": {
        "id": "Hc2y6vcP8Sak",
        "colab_type": "code",
        "colab": {
          "base_uri": "https://localhost:8080/",
          "height": 51
        },
        "outputId": "73fb28bf-e390-46e0-b46d-fc9e68302826"
      },
      "source": [
        "#estimate the accuracy of the prediction\n",
        "predictions = a.transform(testData)\n",
        "evaluator = MulticlassClassificationEvaluator(\\\n",
        "labelCol=\"labelIndex\", predictionCol=\"prediction\",\\\n",
        "metricName=\"accuracy\")\n",
        "accuracy = evaluator.evaluate(predictions)\n",
        "print(\"Test Error = %g \" % (100 - 100*accuracy))\n",
        "print(\"accuracy = %g \" % (100*accuracy))"
      ],
      "execution_count": null,
      "outputs": [
        {
          "output_type": "stream",
          "text": [
            "Test Error = 20.8448 \n",
            "accuracy = 79.1552 \n"
          ],
          "name": "stdout"
        }
      ]
    },
    {
      "cell_type": "code",
      "metadata": {
        "id": "H0ldpR-YawxQ",
        "colab_type": "code",
        "colab": {
          "base_uri": "https://localhost:8080/",
          "height": 34
        },
        "outputId": "bb1939a7-0eec-43ad-a4d6-22d5d698c790"
      },
      "source": [
        "print(a.bestModel)"
      ],
      "execution_count": null,
      "outputs": [
        {
          "output_type": "stream",
          "text": [
            "DecisionTreeClassificationModel: uid=DecisionTreeClassifier_0abda204ae91, depth=5, numNodes=45, numClasses=29, numFeatures=63\n"
          ],
          "name": "stdout"
        }
      ]
    },
    {
      "cell_type": "code",
      "metadata": {
        "id": "7d3lvC-6a0-t",
        "colab_type": "code",
        "colab": {}
      },
      "source": [
        "a.bestModel.save(\"mod\")"
      ],
      "execution_count": null,
      "outputs": []
    },
    {
      "cell_type": "markdown",
      "metadata": {
        "id": "Vt6yaEvX80DP",
        "colab_type": "text"
      },
      "source": [
        "##Random Forest"
      ]
    },
    {
      "cell_type": "code",
      "metadata": {
        "id": "Rs9WoY-B84XQ",
        "colab_type": "code",
        "colab": {}
      },
      "source": [
        "rf = RandomForestClassifier(labelCol=\"labelIndex\",featuresCol=\"scaledFeatures\")\n",
        "paramGrid = ParamGridBuilder() \\\n",
        "    .addGrid(rf.numTrees,[90,100])\\\n",
        "    .build()\n",
        "ss=MulticlassClassificationEvaluator(labelCol='labelIndex',metricName=\"accuracy\")\n",
        "cv = CrossValidator(estimator = rf , estimatorParamMaps=paramGrid,evaluator=ss,numFolds=10)\n",
        "a=cv.fit(trainingData)"
      ],
      "execution_count": null,
      "outputs": []
    },
    {
      "cell_type": "code",
      "metadata": {
        "id": "QmKlcmoH8-nz",
        "colab_type": "code",
        "colab": {
          "base_uri": "https://localhost:8080/",
          "height": 34
        },
        "outputId": "6ea53307-5f63-44d1-9e74-975645dff0ec"
      },
      "source": [
        "a.avgMetrics"
      ],
      "execution_count": null,
      "outputs": [
        {
          "output_type": "execute_result",
          "data": {
            "text/plain": [
              "[0.7890235952164707, 0.7848053854727847]"
            ]
          },
          "metadata": {
            "tags": []
          },
          "execution_count": 25
        }
      ]
    },
    {
      "cell_type": "code",
      "metadata": {
        "id": "bWlzqrnc9E9y",
        "colab_type": "code",
        "colab": {
          "base_uri": "https://localhost:8080/",
          "height": 51
        },
        "outputId": "69329f80-5b28-4224-e8c2-ef05541df864"
      },
      "source": [
        "#estimate the accuracy of the prediction\n",
        "predictions = a.transform(testData)\n",
        "evaluator = MulticlassClassificationEvaluator(\\\n",
        "labelCol=\"labelIndex\", predictionCol=\"prediction\",\\\n",
        "metricName=\"accuracy\")\n",
        "accuracy = evaluator.evaluate(predictions)\n",
        "print(\"Test Error = %g \" % (100 - 100*accuracy))\n",
        "print(\"accuracy = %g \" % (100*accuracy))"
      ],
      "execution_count": null,
      "outputs": [
        {
          "output_type": "stream",
          "text": [
            "Test Error = 19.4674 \n",
            "accuracy = 80.5326 \n"
          ],
          "name": "stdout"
        }
      ]
    },
    {
      "cell_type": "markdown",
      "metadata": {
        "id": "6WlAuYZ09u8E",
        "colab_type": "text"
      },
      "source": [
        "##deep Learning MultilayerPerceptronClassifier model"
      ]
    },
    {
      "cell_type": "code",
      "metadata": {
        "id": "O1sn0OQ49wei",
        "colab_type": "code",
        "colab": {}
      },
      "source": [
        "layers = [63,50, 40, 29]\n",
        "trainer = MultilayerPerceptronClassifier(labelCol=\"labelIndex\", featuresCol=\"scaledFeatures\",maxIter=100, layers=layers, blockSize=128, seed=1234)\n"
      ],
      "execution_count": null,
      "outputs": []
    },
    {
      "cell_type": "code",
      "metadata": {
        "id": "CzMB8eIu_vEN",
        "colab_type": "code",
        "colab": {}
      },
      "source": [
        "paramGrid = ParamGridBuilder() \\\n",
        "    .build()\n",
        "ss=MulticlassClassificationEvaluator(labelCol='labelIndex',metricName=\"accuracy\")\n",
        "cv = CrossValidator(estimator = trainer , estimatorParamMaps=paramGrid,evaluator=ss,numFolds=5)\n",
        "a=cv.fit(trainingData)"
      ],
      "execution_count": null,
      "outputs": []
    },
    {
      "cell_type": "code",
      "metadata": {
        "id": "7JmwMfEtBa3V",
        "colab_type": "code",
        "colab": {
          "base_uri": "https://localhost:8080/",
          "height": 34
        },
        "outputId": "d6b4aa43-becc-402f-d002-50575b61a2f3"
      },
      "source": [
        "a.avgMetrics"
      ],
      "execution_count": null,
      "outputs": [
        {
          "output_type": "execute_result",
          "data": {
            "text/plain": [
              "[0.9811378128930903]"
            ]
          },
          "metadata": {
            "tags": []
          },
          "execution_count": 233
        }
      ]
    },
    {
      "cell_type": "code",
      "metadata": {
        "id": "e2rmGiy291y5",
        "colab_type": "code",
        "colab": {
          "base_uri": "https://localhost:8080/",
          "height": 51
        },
        "outputId": "992b91e2-2c58-4fa1-c051-369bd2c7814e"
      },
      "source": [
        "#estimate the accuracy of the prediction\n",
        "predictions = a.transform(testData)\n",
        "evaluator = MulticlassClassificationEvaluator(\\\n",
        "labelCol=\"labelIndex\", predictionCol=\"prediction\",\\\n",
        "metricName=\"accuracy\")\n",
        "accuracy = evaluator.evaluate(predictions)\n",
        "print(\"Test Error = %g \" % (100 - 100*accuracy))\n",
        "print(\"accuracy = %g \" % (100*accuracy))"
      ],
      "execution_count": null,
      "outputs": [
        {
          "output_type": "stream",
          "text": [
            "Test Error = 1.0101 \n",
            "accuracy = 98.9899 \n"
          ],
          "name": "stdout"
        }
      ]
    },
    {
      "cell_type": "markdown",
      "metadata": {
        "id": "d6Afj_VT-D5t",
        "colab_type": "text"
      },
      "source": [
        "##NaiveBayes model"
      ]
    },
    {
      "cell_type": "code",
      "metadata": {
        "id": "4PRxuUwZ-E7w",
        "colab_type": "code",
        "colab": {}
      },
      "source": [
        "nb = NaiveBayes(labelCol=\"labelIndex\", featuresCol=\"scaledFeatures\",smoothing=0.3, modelType=\"multinomial\")"
      ],
      "execution_count": null,
      "outputs": []
    },
    {
      "cell_type": "code",
      "metadata": {
        "id": "V81euKkk-KYI",
        "colab_type": "code",
        "colab": {}
      },
      "source": [
        "paramGrid = ParamGridBuilder() \\\n",
        "    .build()\n",
        "ss=MulticlassClassificationEvaluator(labelCol='labelIndex',metricName=\"accuracy\")\n",
        "cv = CrossValidator(estimator = nb , estimatorParamMaps=paramGrid,evaluator=ss,numFolds=5)\n",
        "a=cv.fit(trainingData)"
      ],
      "execution_count": null,
      "outputs": []
    },
    {
      "cell_type": "code",
      "metadata": {
        "id": "aWZrLb3V-PWw",
        "colab_type": "code",
        "colab": {
          "base_uri": "https://localhost:8080/",
          "height": 34
        },
        "outputId": "5aa5f95c-978d-4813-9f91-910c32486823"
      },
      "source": [
        "a.avgMetrics"
      ],
      "execution_count": null,
      "outputs": [
        {
          "output_type": "execute_result",
          "data": {
            "text/plain": [
              "[0.31639886094071384]"
            ]
          },
          "metadata": {
            "tags": []
          },
          "execution_count": 236
        }
      ]
    },
    {
      "cell_type": "code",
      "metadata": {
        "id": "E3iCJwWF-V_u",
        "colab_type": "code",
        "colab": {
          "base_uri": "https://localhost:8080/",
          "height": 51
        },
        "outputId": "3429f3ba-f36a-4e51-9af0-ac867e5c59f5"
      },
      "source": [
        "#estimate the accuracy of the prediction\n",
        "predictions = a.transform(testData)\n",
        "evaluator = MulticlassClassificationEvaluator(\\\n",
        "labelCol=\"labelIndex\", predictionCol=\"prediction\",\\\n",
        "metricName=\"accuracy\")\n",
        "accuracy = evaluator.evaluate(predictions)\n",
        "print(\"Test Error = %g \" % (100 - 100*accuracy))\n",
        "print(\"accuracy = %g \" % (100*accuracy))"
      ],
      "execution_count": null,
      "outputs": [
        {
          "output_type": "stream",
          "text": [
            "Test Error = 67.5849 \n",
            "accuracy = 32.4151 \n"
          ],
          "name": "stdout"
        }
      ]
    },
    {
      "cell_type": "markdown",
      "metadata": {
        "id": "-uTugMuU9IxK",
        "colab_type": "text"
      },
      "source": [
        "##Logistic regression"
      ]
    },
    {
      "cell_type": "code",
      "metadata": {
        "id": "AlCtBblG9Nt3",
        "colab_type": "code",
        "colab": {}
      },
      "source": [
        "lr = LogisticRegression(labelCol=\"labelIndex\", featuresCol=\"scaledFeatures\",maxIter=400)"
      ],
      "execution_count": null,
      "outputs": []
    },
    {
      "cell_type": "code",
      "metadata": {
        "id": "GRUjql8o9RLl",
        "colab_type": "code",
        "colab": {}
      },
      "source": [
        "#lr = LogisticRegression()\n",
        "paramGrid = ParamGridBuilder() \\\n",
        "    .build()\n",
        "ss=MulticlassClassificationEvaluator(labelCol='labelIndex',metricName=\"accuracy\")\n",
        "cv = CrossValidator(estimator = lr , estimatorParamMaps=paramGrid,evaluator=ss,numFolds=5)\n",
        "a=cv.fit(trainingData)"
      ],
      "execution_count": null,
      "outputs": []
    },
    {
      "cell_type": "code",
      "metadata": {
        "id": "2yZhzT4l9YWj",
        "colab_type": "code",
        "colab": {
          "base_uri": "https://localhost:8080/",
          "height": 34
        },
        "outputId": "8e560fdf-8f3c-4659-cae6-30ca974813dd"
      },
      "source": [
        "a.avgMetrics"
      ],
      "execution_count": null,
      "outputs": [
        {
          "output_type": "execute_result",
          "data": {
            "text/plain": [
              "[0.8174350787446341]"
            ]
          },
          "metadata": {
            "tags": []
          },
          "execution_count": 29
        }
      ]
    },
    {
      "cell_type": "code",
      "metadata": {
        "id": "plFqn4Kk9gdC",
        "colab_type": "code",
        "colab": {
          "base_uri": "https://localhost:8080/",
          "height": 51
        },
        "outputId": "7211c20a-7ec7-40c7-f719-33cf6c9ee4be"
      },
      "source": [
        "#estimate the accuracy of the prediction\n",
        "predictions = a.transform(testData)\n",
        "evaluator = MulticlassClassificationEvaluator(\\\n",
        "labelCol=\"labelIndex\", predictionCol=\"prediction\",\\\n",
        "metricName=\"accuracy\")\n",
        "accuracy = evaluator.evaluate(predictions)\n",
        "print(\"Test Error = %g \" % (100 - 100*accuracy))\n",
        "print(\"accuracy = %g \" % (100*accuracy))"
      ],
      "execution_count": null,
      "outputs": [
        {
          "output_type": "stream",
          "text": [
            "Test Error = 16.6208 \n",
            "accuracy = 83.3792 \n"
          ],
          "name": "stdout"
        }
      ]
    },
    {
      "cell_type": "code",
      "metadata": {
        "id": "t4ROgFBl-kIf",
        "colab_type": "code",
        "colab": {
          "base_uri": "https://localhost:8080/",
          "height": 1000
        },
        "outputId": "3ac3af93-b6b2-4a82-c508-daf0d8cfebb8"
      },
      "source": [
        "trainingSummary=a.bestModel.summary\n",
        "objectiveHistory = trainingSummary.objectiveHistory\n",
        "print(\"objectiveHistory:\")\n",
        "print(len(objectiveHistory))\n",
        "#for objective in objectiveHistory:\n",
        "#    print(objective)\n",
        "# for multiclass, we can inspect metrics on a per-label basis\n",
        "print(\"False positive rate by label:\")\n",
        "for i, rate in enumerate(trainingSummary.falsePositiveRateByLabel):\n",
        "    print(\"label %d: %s\" % (i, 100*rate))\n",
        "\n",
        "print(\"True positive rate by label:\")\n",
        "for i, rate in enumerate(trainingSummary.truePositiveRateByLabel):\n",
        "    print(\"label %d: %s\" % (i, 100*rate))"
      ],
      "execution_count": null,
      "outputs": [
        {
          "output_type": "stream",
          "text": [
            "objectiveHistory:\n",
            "401\n",
            "False positive rate by label:\n",
            "label 0: 0.45731707317073167\n",
            "label 1: 0.7260891337005508\n",
            "label 2: 0.6197322756569162\n",
            "label 3: 0.5454996280684354\n",
            "label 4: 1.060419235511714\n",
            "label 5: 0.024354603019970774\n",
            "label 6: 0.8431703204047217\n",
            "label 7: 0.5966587112171837\n",
            "label 8: 0.19083969465648853\n",
            "label 9: 0.0949667616334283\n",
            "label 10: 0.6860657676839366\n",
            "label 11: 0.4018912529550827\n",
            "label 12: 0.0708215297450425\n",
            "label 13: 0.09413979759943517\n",
            "label 14: 0.02354603249352484\n",
            "label 15: 0.23579344494223062\n",
            "label 16: 0.07035647279549719\n",
            "label 17: 0.16420361247947454\n",
            "label 18: 0.3277920861624912\n",
            "label 19: 0.09358914365933552\n",
            "label 20: 0.09350163627863488\n",
            "label 21: 0.0\n",
            "label 22: 0.09330534173081409\n",
            "label 23: 0.0931098696461825\n",
            "label 24: 0.04653327128897162\n",
            "label 25: 0.0927643784786642\n",
            "label 26: 0.0\n",
            "label 27: 0.046242774566473986\n",
            "label 28: 0.022999080036798528\n",
            "True positive rate by label:\n",
            "label 0: 93.91100702576112\n",
            "label 1: 92.95392953929539\n",
            "label 2: 93.61702127659575\n",
            "label 3: 91.21212121212122\n",
            "label 4: 89.93506493506493\n",
            "label 5: 100.0\n",
            "label 6: 85.37735849056604\n",
            "label 7: 78.03468208092485\n",
            "label 8: 92.98245614035088\n",
            "label 9: 97.35099337748345\n",
            "label 10: 80.14705882352942\n",
            "label 11: 92.4812030075188\n",
            "label 12: 100.0\n",
            "label 13: 99.12280701754386\n",
            "label 14: 100.0\n",
            "label 15: 94.26229508196722\n",
            "label 16: 98.98989898989899\n",
            "label 17: 89.0\n",
            "label 18: 80.43478260869566\n",
            "label 19: 97.75280898876404\n",
            "label 20: 97.6470588235294\n",
            "label 21: 97.10144927536231\n",
            "label 22: 94.73684210526315\n",
            "label 23: 95.52238805970148\n",
            "label 24: 98.46153846153847\n",
            "label 25: 90.19607843137256\n",
            "label 26: 92.85714285714286\n",
            "label 27: 84.21052631578947\n",
            "label 28: 86.66666666666667\n"
          ],
          "name": "stdout"
        }
      ]
    },
    {
      "cell_type": "code",
      "metadata": {
        "id": "60HjAbG8-pui",
        "colab_type": "code",
        "colab": {
          "base_uri": "https://localhost:8080/",
          "height": 51
        },
        "outputId": "8ca0e20d-bb41-4a40-f460-ef9c6778dbdc"
      },
      "source": [
        "import statistics\n",
        "\n",
        "s=[]\n",
        "for i, rate in enumerate(trainingSummary.falsePositiveRateByLabel):\n",
        "    s.append(rate)\n",
        "\n",
        "print(\"falsePositiveRate %s\" % (100*statistics.mean(s)))\n",
        "m=[]\n",
        "for i, rate in enumerate(trainingSummary.truePositiveRateByLabel):\n",
        "    m.append(rate)\n",
        "\n",
        "print(\"truePositive %s\" % (100*statistics.mean(m)))"
      ],
      "execution_count": null,
      "outputs": [
        {
          "output_type": "stream",
          "text": [
            "falsePositiveRate 0.26950699757181834\n",
            "truePositive 92.58500619284304\n"
          ],
          "name": "stdout"
        }
      ]
    },
    {
      "cell_type": "code",
      "metadata": {
        "id": "vohOEFOy-tYh",
        "colab_type": "code",
        "colab": {}
      },
      "source": [
        "'''FAR = FPR = FP/(FP + TN)\n",
        "FRR = FNR = FN/(FN + TP)\n",
        "where FP: False positive\n",
        "      FN: False Negative\n",
        "      TN: True Negative\n",
        "      TP: True Positive\n",
        "      fnr = 1-tpr'''\n",
        "FRR= (1-statistics.mean(m))*100\n",
        "FAR=100*statistics.mean(s)\n"
      ],
      "execution_count": null,
      "outputs": []
    },
    {
      "cell_type": "code",
      "metadata": {
        "id": "3EMTUaWhKs8G",
        "colab_type": "code",
        "colab": {
          "base_uri": "https://localhost:8080/",
          "height": 34
        },
        "outputId": "6a65d37f-03b0-4cbb-e804-77770733cd29"
      },
      "source": [
        "print(FRR,FAR)"
      ],
      "execution_count": null,
      "outputs": [
        {
          "output_type": "stream",
          "text": [
            "7.414993807156966 0.26950699757181834\n"
          ],
          "name": "stdout"
        }
      ]
    },
    {
      "cell_type": "code",
      "metadata": {
        "id": "1Nk18Jp7rTly",
        "colab_type": "code",
        "colab": {
          "base_uri": "https://localhost:8080/",
          "height": 265
        },
        "outputId": "570cc8fb-9849-440b-ce61-92b785cd8bc4"
      },
      "source": [
        "from numpy import *\n",
        "t = linspace(0, 1, 29)\n",
        "plt.plot(t, trainingSummary.falsePositiveRateByLabel, 'r') # plotting t, a separately \n",
        "plt.plot(t,  trainingSummary.truePositiveRateByLabel, 'b') # plotting t, b separately \n",
        "plt.show()"
      ],
      "execution_count": null,
      "outputs": [
        {
          "output_type": "display_data",
          "data": {
            "image/png": "[encoded data removed]",
            "text/plain": [
              "<Figure size 432x288 with 1 Axes>"
            ]
          },
          "metadata": {
            "tags": [],
            "needs_background": "light"
          }
        }
      ]
    },
    {
      "cell_type": "code",
      "metadata": {
        "id": "rB6j-a_mvVsO",
        "colab_type": "code",
        "colab": {
          "base_uri": "https://localhost:8080/",
          "height": 295
        },
        "outputId": "becde8cc-ac8f-4e05-d23f-1063e6cd5c74"
      },
      "source": [
        "    plt.plot(trainingSummary.falsePositiveRateByLabel,trainingSummary.truePositiveRateByLabel, color='orange', label='ROC')\n",
        "    plt.plot([0, 1], [0, 1], color='darkblue', linestyle='--')\n",
        "    plt.xlabel('False Positive Rate')\n",
        "    plt.ylabel('True Positive Rate')\n",
        "    plt.title('Receiver Operating Characteristic (ROC) Curve')\n",
        "    plt.legend()\n",
        "    plt.show()"
      ],
      "execution_count": null,
      "outputs": [
        {
          "output_type": "display_data",
          "data": {
            "image/png": "[encoded data removed]",
            "text/plain": [
              "<Figure size 432x288 with 1 Axes>"
            ]
          },
          "metadata": {
            "tags": [],
            "needs_background": "light"
          }
        }
      ]
    },
    {
      "cell_type": "code",
      "metadata": {
        "id": "zpZdutkN-1GJ",
        "colab_type": "code",
        "colab": {}
      },
      "source": [
        "print(\"Precision by label:\")\n",
        "for i, prec in enumerate(trainingSummary.precisionByLabel):\n",
        "    print(\"label %d: %s\" % (i, prec))\n",
        "\n",
        "print(\"Recall by label:\")\n",
        "for i, rec in enumerate(trainingSummary.recallByLabel):\n",
        "    print(\"label %d: %s\" % (i, rec))"
      ],
      "execution_count": null,
      "outputs": []
    }
  ]
}